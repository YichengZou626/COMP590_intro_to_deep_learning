{
  "cells": [
    {
      "cell_type": "markdown",
      "metadata": {
        "id": "view-in-github",
        "colab_type": "text"
      },
      "source": [
        "<a href=\"https://colab.research.google.com/github/YichengZou626/COMP590_intro_to_deep_learning/blob/main/Homework_5_(Yicheng_Zou).ipynb\" target=\"_parent\"><img src=\"https://colab.research.google.com/assets/colab-badge.svg\" alt=\"Open In Colab\"/></a>"
      ]
    },
    {
      "cell_type": "markdown",
      "metadata": {
        "id": "VYovBDSbwfYD"
      },
      "source": [
        "# 1. Receptive field and parameter count (1 point)\n",
        "\n",
        "Recall that the *receptive field* refers to size of the region in the input that are visible to a given activation (or neuron) in a convolutional neural network. \"Visible\" here means that the values of those inputs affect the value of the activation. In all of the following questions, assume that the input image is arbitrarily large, so you don't need to worry about boundary effects or padding.\n",
        "\n",
        "1. Consider a convolutional network which consists of three convolutional layers, each with a filter size of 3x3, and a stride of 1x1. What is the receptive field size of one of the activations at the final output?\n",
        "1. What is the receptive field if the stride is 2x3 at each layer?\n",
        "1. What is the receptive field if the stride is 2x2 at each layer, and there is a 2x2 max-pooling layer with stride 2x2 after each convolutional layer?\n",
        "1. Assume that the input image has 3 channels, the three convolutional layers have 16, 32, and 64 channels respectively, and that there are no biases on any of the layers. How many parameters does the network have?"
      ]
    },
    {
      "cell_type": "markdown",
      "metadata": {
        "id": "I0VRHfQIXh8m"
      },
      "source": [
        "# 1.1\n",
        "Define the output receptive field is 1x1\n",
        "\n",
        "the receptive field of second conv layer is : 3x3\n",
        "\n",
        "the receptive field of first conv layer is : 5x5\n",
        "\n",
        "\n",
        "the receptive field of input is : 7x7\n",
        "\n",
        "\n",
        "\n",
        "\n",
        "\n"
      ]
    },
    {
      "cell_type": "markdown",
      "metadata": {
        "id": "bwmT9UQwYS95"
      },
      "source": [
        "# 1.2\n",
        "Define the output receptive field is 1x1\n",
        "\n",
        "the receptive field of second conv layer is : 3x3\n",
        "\n",
        "the receptive field of first conv layer is : 7x9\n",
        "\n",
        "the receptive field of input is : 15x27\n"
      ]
    },
    {
      "cell_type": "markdown",
      "metadata": {
        "id": "gXwqzEdiYTEa"
      },
      "source": [
        "# 1.3\n",
        "Define the output receptive field is 1x1\n",
        "\n",
        "the receptive field of second conv with pooling layer is : 5x5\n",
        "\n",
        "the receptive field of first conv with pooling layer is : 21x21\n",
        "\n",
        "the receptive field of input is : 85x85"
      ]
    },
    {
      "cell_type": "markdown",
      "metadata": {
        "id": "pRdIX_weYTIW"
      },
      "source": [
        "# 1.4\n",
        "for first layer, #parameters = 3x3x16x3 = 432\n",
        "\n",
        "for second layer, #parameters = 3x3x32x16 = 4608\n",
        "\n",
        "for third layer, #parameters = 3x3x64x32 = 18432\n",
        "\n",
        "18432+4608+432 = 23472\n",
        "\n"
      ]
    },
    {
      "cell_type": "markdown",
      "metadata": {
        "id": "T8t21JGZyUr-"
      },
      "source": [
        "# 2. CIFAR-10 classification (3 points)\n",
        "\n",
        "CIFAR-10 is a standard dataset where the goal is to classify 32 x 32 images into one of 10 classes. The goal of this problem is simple: build and train a convolutional neural network to perform classification on CIFAR-10. The problem is intentionally extremely open-ended! There are dozens (hundreds?) of tutorials online describing how to train a convnet on CIFAR-10 - please seek them out and make use of them. Here are some resources to get you started (which include code for loading the dataset and evaluating performance on it):\n",
        "\n",
        "- [CIFAR-10 example based on mxnet and our textbook](https://colab.research.google.com/github/d2l-ai/d2l-en-colab/blob/master/chapter_computer-vision/kaggle-cifar10.ipynb)\n",
        "- [CIFAR-10 tutorial from PyTorch](https://colab.research.google.com/github/pytorch/tutorials/blob/gh-pages/_downloads/cifar10_tutorial.ipynb)\n",
        "\n",
        "You are welcome to use any other resource that you want (but please cite it!) - as I mentioned there are many, many tutorials online, and googling for help is an utterly crucial skill for a researcher! You will be graded on the final test accuracy achieved by your model:\n",
        "\n",
        "- 60% accuracy or higher: 2/3 points\n",
        "- 75% accuracy or higher: 3/3 points\n",
        "- Highest accuracy in the class: 4/3 points!\n",
        "\n",
        "Note that in order for us to know the final performance of your model, you will need to implement a function that computes the accuracy of your model on the test set (which appears in both of the linked tutorials above). The only rules are: You can only train your model on the CIFAR-10 training set (i.e. you can't use pre-trained models or other datasets for additional training, and you certaintly can't train on the CIFAR-10 test set!), and you must train the model on the free Colab GPU or TPU. This means you can only train the model for an hour or so! This is *much* less compute than is typically used for training CIFAR-10 models. As such, this is as much an exercise in building an accurate model as it is in building an efficient one. This is a popular game to play, and to the best of my knowledge the state-of-the-art is [this approach](https://myrtle.ai/learn/how-to-train-your-resnet/) which attains 96% accuracy in only *26 seconds* on a single GPU! (note that the final link on that page is broken; it should be [this](https://myrtle.ai/learn/how-to-train-your-resnet-8-bag-of-tricks/)).\n",
        "\n",
        "There are lots of things you can try to make your model more accurate and/or more efficient:\n",
        "\n",
        "1. Deeper models\n",
        "1. Residual connections\n",
        "1. [Data augmentation and normalization](https://d2l.ai/chapter_computer-vision/kaggle-cifar10.html#image-augmentation)\n",
        "1. Regularization like dropout or weight decay\n",
        "1. [Learning rate schedules](https://d2l.ai/chapter_optimization/lr-scheduler.html)\n",
        "1. [Different forms of normalization](https://d2l.ai/chapter_convolutional-modern/batch-norm.html)\n",
        "\n",
        "Note that we haven't covered all these topics in class yet, but you should be able to get to at least 60% accuracy without applying all of these ideas - and probably 75% by tweaking around a little bit. Specifically, you should be able to get about 60% accuracy by taking the basic AlexNet architecture we discussed in class and applying it directly to CIFAR-10. And, if you're feeling adventurous, feel free to go for 96% using the aforementioned blog series! Good luck!"
      ]
    },
    {
      "cell_type": "code",
      "execution_count": null,
      "metadata": {
        "id": "aBsLmv4Nk8ia"
      },
      "outputs": [],
      "source": [
        "import torch\n",
        "import torch.nn as nn\n",
        "import torchvision\n",
        "import torchvision.transforms as transforms"
      ]
    },
    {
      "cell_type": "code",
      "execution_count": null,
      "metadata": {
        "id": "xb81-f6qz6FQ"
      },
      "outputs": [],
      "source": [
        "device = torch.device('cuda' if torch.cuda.is_available() else 'cpu')"
      ]
    },
    {
      "cell_type": "code",
      "execution_count": null,
      "metadata": {
        "id": "3TjyN9Xlo4PM"
      },
      "outputs": [],
      "source": [
        "#tune hyperparameters\n",
        "num_epochs = 50\n",
        "learning_rate = 0.003"
      ]
    },
    {
      "cell_type": "code",
      "execution_count": null,
      "metadata": {
        "id": "eZ-sXlzRo7JQ"
      },
      "outputs": [],
      "source": [
        "#image preprocessing\n",
        "transform = transforms.Compose([\n",
        "    transforms.Pad(4),\n",
        "    transforms.RandomHorizontalFlip(),\n",
        "    transforms.RandomCrop(32),\n",
        "    transforms.ToTensor()])"
      ]
    },
    {
      "cell_type": "code",
      "execution_count": null,
      "metadata": {
        "colab": {
          "base_uri": "https://localhost:8080/"
        },
        "id": "Vacmz9Z0pALi",
        "outputId": "ae7cc5af-df1a-4f5a-d747-b85b387df0bb"
      },
      "outputs": [
        {
          "output_type": "stream",
          "name": "stdout",
          "text": [
            "Files already downloaded and verified\n"
          ]
        }
      ],
      "source": [
        "#download dataset and split into train and test \n",
        "train_dataset = torchvision.datasets.CIFAR10(root='../../data/',\n",
        "                                             train=True, \n",
        "                                             transform=transform,\n",
        "                                             download=True)\n",
        "\n",
        "test_dataset = torchvision.datasets.CIFAR10(root='../../data/',\n",
        "                                            train=False, \n",
        "                                            transform=transforms.ToTensor())\n",
        "\n",
        "\n",
        "train_loader = torch.utils.data.DataLoader(dataset=train_dataset,\n",
        "                                           batch_size=100, \n",
        "                                           shuffle=True)\n",
        "\n",
        "test_loader = torch.utils.data.DataLoader(dataset=test_dataset,\n",
        "                                          batch_size=100, \n",
        "                                          shuffle=False)"
      ]
    },
    {
      "cell_type": "code",
      "execution_count": null,
      "metadata": {
        "id": "GW8dG8JnpDy5"
      },
      "outputs": [],
      "source": [
        "# Convolution filter of 3x3\n",
        "def conv3x3(in_channels, out_channels, stride=1):\n",
        "    return nn.Conv2d(in_channels, out_channels, kernel_size=3, \n",
        "                     stride=stride, padding=1, bias=False)"
      ]
    },
    {
      "cell_type": "code",
      "execution_count": null,
      "metadata": {
        "id": "x1QlUxcapLVP"
      },
      "outputs": [],
      "source": [
        "# Residual block\n",
        "class ResidualBlock(nn.Module):\n",
        "    def __init__(self, in_channels, out_channels, stride=1, downsample=None):\n",
        "        super(ResidualBlock, self).__init__()\n",
        "        self.conv1 = conv3x3(in_channels, out_channels, stride)\n",
        "        self.bn1 = nn.BatchNorm2d(out_channels)\n",
        "        self.relu = nn.ReLU(inplace=True)\n",
        "        self.conv2 = conv3x3(out_channels, out_channels)\n",
        "        self.bn2 = nn.BatchNorm2d(out_channels)\n",
        "        self.downsample = downsample\n",
        "\n",
        "\n",
        "    def forward(self, x):\n",
        "        residual = x\n",
        "        out = self.conv1(x)\n",
        "        out = self.bn1(out)\n",
        "        out = self.relu(out)\n",
        "        out = self.conv2(out)\n",
        "        out = self.bn2(out)\n",
        "        if self.downsample:\n",
        "            residual = self.downsample(x)\n",
        "        out += residual\n",
        "        out = self.relu(out)\n",
        "        return out\n",
        "\n",
        "# ResNet\n",
        "class ResNet(nn.Module):\n",
        "    def __init__(self, block, layers, num_classes=10):\n",
        "        super(ResNet, self).__init__()\n",
        "        self.in_channels = 16\n",
        "        self.conv = conv3x3(3, 16)\n",
        "        self.bn = nn.BatchNorm2d(16)\n",
        "        self.relu = nn.ReLU(inplace=True)\n",
        "        self.layer1 = self.make_layer(block, 16, layers[0])\n",
        "        self.layer2 = self.make_layer(block, 32, layers[1], 2)\n",
        "        self.layer3 = self.make_layer(block, 64, layers[2], 2)\n",
        "        self.avg_pool = nn.AvgPool2d(8)\n",
        "        self.fc = nn.Linear(64, num_classes)\n",
        "\n",
        "    def make_layer(self, block, out_channels, blocks, stride=1):\n",
        "        downsample = None\n",
        "        if (stride != 1) or (self.in_channels != out_channels):\n",
        "            downsample = nn.Sequential(\n",
        "                conv3x3(self.in_channels, out_channels, stride=stride),\n",
        "                nn.BatchNorm2d(out_channels))\n",
        "        layers = []\n",
        "        layers.append(block(self.in_channels, out_channels, stride, downsample))\n",
        "        self.in_channels = out_channels\n",
        "        for i in range(1, blocks):\n",
        "            layers.append(block(out_channels, out_channels))\n",
        "        return nn.Sequential(*layers)\n",
        "\n",
        "    def forward(self, x):\n",
        "        out = self.conv(x)\n",
        "        out = self.bn(out)\n",
        "        out = self.relu(out)\n",
        "        out = self.layer1(out)\n",
        "        out = self.layer2(out)\n",
        "        out = self.layer3(out)\n",
        "        out = self.avg_pool(out)\n",
        "        out = out.view(out.size(0), -1)\n",
        "        out = self.fc(out)\n",
        "        return out\n",
        "\n",
        "model = ResNet(ResidualBlock, [2, 2, 2]).to(device)"
      ]
    },
    {
      "cell_type": "code",
      "execution_count": null,
      "metadata": {
        "id": "dk6Aa-WxpRNY"
      },
      "outputs": [],
      "source": [
        "# Loss and optimizer\n",
        "criterion = nn.CrossEntropyLoss()\n",
        "optimizer = torch.optim.Adam(model.parameters(), lr=learning_rate)"
      ]
    },
    {
      "cell_type": "code",
      "execution_count": null,
      "metadata": {
        "id": "EtZO51SWpT2Z"
      },
      "outputs": [],
      "source": [
        "# For updating learning rate\n",
        "def update_lr(optimizer, lr):    \n",
        "    for param_group in optimizer.param_groups:\n",
        "        param_group['lr'] = lr"
      ]
    },
    {
      "cell_type": "code",
      "execution_count": null,
      "metadata": {
        "colab": {
          "base_uri": "https://localhost:8080/"
        },
        "id": "D82GuGtupWkC",
        "outputId": "4dfe2d69-c1f9-4bbe-e8c8-f3b0b3843c72"
      },
      "outputs": [
        {
          "output_type": "stream",
          "name": "stdout",
          "text": [
            "Epoch [1/50], Step [100/500] Loss: 1.6568\n",
            "Epoch [1/50], Step [200/500] Loss: 1.4538\n",
            "Epoch [1/50], Step [300/500] Loss: 1.4887\n",
            "Epoch [1/50], Step [400/500] Loss: 1.4643\n",
            "Epoch [1/50], Step [500/500] Loss: 1.2923\n",
            "Epoch [2/50], Step [100/500] Loss: 1.0813\n",
            "Epoch [2/50], Step [200/500] Loss: 1.0463\n",
            "Epoch [2/50], Step [300/500] Loss: 0.8928\n",
            "Epoch [2/50], Step [400/500] Loss: 0.9369\n",
            "Epoch [2/50], Step [500/500] Loss: 0.9867\n",
            "Epoch [3/50], Step [100/500] Loss: 0.9136\n",
            "Epoch [3/50], Step [200/500] Loss: 0.9596\n",
            "Epoch [3/50], Step [300/500] Loss: 0.9534\n",
            "Epoch [3/50], Step [400/500] Loss: 0.6363\n",
            "Epoch [3/50], Step [500/500] Loss: 0.7461\n",
            "Epoch [4/50], Step [100/500] Loss: 0.8199\n",
            "Epoch [4/50], Step [200/500] Loss: 0.8349\n",
            "Epoch [4/50], Step [300/500] Loss: 0.6188\n",
            "Epoch [4/50], Step [400/500] Loss: 0.8927\n",
            "Epoch [4/50], Step [500/500] Loss: 0.7615\n",
            "Epoch [5/50], Step [100/500] Loss: 0.6541\n",
            "Epoch [5/50], Step [200/500] Loss: 0.6790\n",
            "Epoch [5/50], Step [300/500] Loss: 0.6749\n",
            "Epoch [5/50], Step [400/500] Loss: 0.7911\n",
            "Epoch [5/50], Step [500/500] Loss: 0.5485\n",
            "Epoch [6/50], Step [100/500] Loss: 0.5845\n",
            "Epoch [6/50], Step [200/500] Loss: 0.4915\n",
            "Epoch [6/50], Step [300/500] Loss: 0.6014\n",
            "Epoch [6/50], Step [400/500] Loss: 0.6334\n",
            "Epoch [6/50], Step [500/500] Loss: 0.4826\n",
            "Epoch [7/50], Step [100/500] Loss: 0.5050\n",
            "Epoch [7/50], Step [200/500] Loss: 0.4803\n",
            "Epoch [7/50], Step [300/500] Loss: 0.5510\n",
            "Epoch [7/50], Step [400/500] Loss: 0.4622\n",
            "Epoch [7/50], Step [500/500] Loss: 0.8543\n",
            "Epoch [8/50], Step [100/500] Loss: 0.5151\n",
            "Epoch [8/50], Step [200/500] Loss: 0.4501\n",
            "Epoch [8/50], Step [300/500] Loss: 0.5444\n",
            "Epoch [8/50], Step [400/500] Loss: 0.5707\n",
            "Epoch [8/50], Step [500/500] Loss: 0.4229\n",
            "Epoch [9/50], Step [100/500] Loss: 0.5236\n",
            "Epoch [9/50], Step [200/500] Loss: 0.5378\n",
            "Epoch [9/50], Step [300/500] Loss: 0.4496\n",
            "Epoch [9/50], Step [400/500] Loss: 0.4413\n",
            "Epoch [9/50], Step [500/500] Loss: 0.3991\n",
            "Epoch [10/50], Step [100/500] Loss: 0.4121\n",
            "Epoch [10/50], Step [200/500] Loss: 0.5923\n",
            "Epoch [10/50], Step [300/500] Loss: 0.6596\n",
            "Epoch [10/50], Step [400/500] Loss: 0.4911\n",
            "Epoch [10/50], Step [500/500] Loss: 0.5908\n",
            "Epoch [11/50], Step [100/500] Loss: 0.5298\n",
            "Epoch [11/50], Step [200/500] Loss: 0.4766\n",
            "Epoch [11/50], Step [300/500] Loss: 0.4065\n",
            "Epoch [11/50], Step [400/500] Loss: 0.4143\n",
            "Epoch [11/50], Step [500/500] Loss: 0.3396\n",
            "Epoch [12/50], Step [100/500] Loss: 0.3559\n",
            "Epoch [12/50], Step [200/500] Loss: 0.3818\n",
            "Epoch [12/50], Step [300/500] Loss: 0.3882\n",
            "Epoch [12/50], Step [400/500] Loss: 0.3663\n",
            "Epoch [12/50], Step [500/500] Loss: 0.4840\n",
            "Epoch [13/50], Step [100/500] Loss: 0.4180\n",
            "Epoch [13/50], Step [200/500] Loss: 0.4740\n",
            "Epoch [13/50], Step [300/500] Loss: 0.4286\n",
            "Epoch [13/50], Step [400/500] Loss: 0.4641\n",
            "Epoch [13/50], Step [500/500] Loss: 0.4455\n",
            "Epoch [14/50], Step [100/500] Loss: 0.2963\n",
            "Epoch [14/50], Step [200/500] Loss: 0.3312\n",
            "Epoch [14/50], Step [300/500] Loss: 0.4529\n",
            "Epoch [14/50], Step [400/500] Loss: 0.3976\n",
            "Epoch [14/50], Step [500/500] Loss: 0.3860\n",
            "Epoch [15/50], Step [100/500] Loss: 0.2658\n",
            "Epoch [15/50], Step [200/500] Loss: 0.4684\n",
            "Epoch [15/50], Step [300/500] Loss: 0.4000\n",
            "Epoch [15/50], Step [400/500] Loss: 0.2934\n",
            "Epoch [15/50], Step [500/500] Loss: 0.3654\n",
            "Epoch [16/50], Step [100/500] Loss: 0.4680\n",
            "Epoch [16/50], Step [200/500] Loss: 0.4716\n",
            "Epoch [16/50], Step [300/500] Loss: 0.3081\n",
            "Epoch [16/50], Step [400/500] Loss: 0.3913\n",
            "Epoch [16/50], Step [500/500] Loss: 0.4442\n",
            "Epoch [17/50], Step [100/500] Loss: 0.3494\n",
            "Epoch [17/50], Step [200/500] Loss: 0.3459\n",
            "Epoch [17/50], Step [300/500] Loss: 0.2370\n",
            "Epoch [17/50], Step [400/500] Loss: 0.2952\n",
            "Epoch [17/50], Step [500/500] Loss: 0.4061\n",
            "Epoch [18/50], Step [100/500] Loss: 0.3926\n",
            "Epoch [18/50], Step [200/500] Loss: 0.2389\n",
            "Epoch [18/50], Step [300/500] Loss: 0.2129\n",
            "Epoch [18/50], Step [400/500] Loss: 0.3031\n",
            "Epoch [18/50], Step [500/500] Loss: 0.2637\n",
            "Epoch [19/50], Step [100/500] Loss: 0.3003\n",
            "Epoch [19/50], Step [200/500] Loss: 0.3063\n",
            "Epoch [19/50], Step [300/500] Loss: 0.3433\n",
            "Epoch [19/50], Step [400/500] Loss: 0.3074\n",
            "Epoch [19/50], Step [500/500] Loss: 0.5443\n",
            "Epoch [20/50], Step [100/500] Loss: 0.3825\n",
            "Epoch [20/50], Step [200/500] Loss: 0.2533\n",
            "Epoch [20/50], Step [300/500] Loss: 0.3680\n",
            "Epoch [20/50], Step [400/500] Loss: 0.4999\n",
            "Epoch [20/50], Step [500/500] Loss: 0.4032\n",
            "Epoch [21/50], Step [100/500] Loss: 0.3352\n",
            "Epoch [21/50], Step [200/500] Loss: 0.2197\n",
            "Epoch [21/50], Step [300/500] Loss: 0.2280\n",
            "Epoch [21/50], Step [400/500] Loss: 0.2584\n",
            "Epoch [21/50], Step [500/500] Loss: 0.3482\n",
            "Epoch [22/50], Step [100/500] Loss: 0.2410\n",
            "Epoch [22/50], Step [200/500] Loss: 0.2362\n",
            "Epoch [22/50], Step [300/500] Loss: 0.2359\n",
            "Epoch [22/50], Step [400/500] Loss: 0.2434\n",
            "Epoch [22/50], Step [500/500] Loss: 0.2244\n",
            "Epoch [23/50], Step [100/500] Loss: 0.2211\n",
            "Epoch [23/50], Step [200/500] Loss: 0.2962\n",
            "Epoch [23/50], Step [300/500] Loss: 0.1939\n",
            "Epoch [23/50], Step [400/500] Loss: 0.1102\n",
            "Epoch [23/50], Step [500/500] Loss: 0.2960\n",
            "Epoch [24/50], Step [100/500] Loss: 0.3527\n",
            "Epoch [24/50], Step [200/500] Loss: 0.1875\n",
            "Epoch [24/50], Step [300/500] Loss: 0.2698\n",
            "Epoch [24/50], Step [400/500] Loss: 0.2427\n",
            "Epoch [24/50], Step [500/500] Loss: 0.2412\n",
            "Epoch [25/50], Step [100/500] Loss: 0.2499\n",
            "Epoch [25/50], Step [200/500] Loss: 0.2465\n",
            "Epoch [25/50], Step [300/500] Loss: 0.2948\n",
            "Epoch [25/50], Step [400/500] Loss: 0.2736\n",
            "Epoch [25/50], Step [500/500] Loss: 0.2092\n",
            "Epoch [26/50], Step [100/500] Loss: 0.2140\n",
            "Epoch [26/50], Step [200/500] Loss: 0.2120\n",
            "Epoch [26/50], Step [300/500] Loss: 0.2810\n",
            "Epoch [26/50], Step [400/500] Loss: 0.2237\n",
            "Epoch [26/50], Step [500/500] Loss: 0.1931\n",
            "Epoch [27/50], Step [100/500] Loss: 0.1891\n",
            "Epoch [27/50], Step [200/500] Loss: 0.3118\n",
            "Epoch [27/50], Step [300/500] Loss: 0.1788\n",
            "Epoch [27/50], Step [400/500] Loss: 0.1812\n",
            "Epoch [27/50], Step [500/500] Loss: 0.1792\n",
            "Epoch [28/50], Step [100/500] Loss: 0.2268\n",
            "Epoch [28/50], Step [200/500] Loss: 0.1246\n",
            "Epoch [28/50], Step [300/500] Loss: 0.2108\n",
            "Epoch [28/50], Step [400/500] Loss: 0.1941\n",
            "Epoch [28/50], Step [500/500] Loss: 0.2207\n",
            "Epoch [29/50], Step [100/500] Loss: 0.1856\n",
            "Epoch [29/50], Step [200/500] Loss: 0.2440\n",
            "Epoch [29/50], Step [300/500] Loss: 0.2875\n",
            "Epoch [29/50], Step [400/500] Loss: 0.2928\n",
            "Epoch [29/50], Step [500/500] Loss: 0.2092\n",
            "Epoch [30/50], Step [100/500] Loss: 0.1933\n",
            "Epoch [30/50], Step [200/500] Loss: 0.2650\n",
            "Epoch [30/50], Step [300/500] Loss: 0.1982\n",
            "Epoch [30/50], Step [400/500] Loss: 0.1360\n",
            "Epoch [30/50], Step [500/500] Loss: 0.2084\n",
            "Epoch [31/50], Step [100/500] Loss: 0.1723\n",
            "Epoch [31/50], Step [200/500] Loss: 0.1251\n",
            "Epoch [31/50], Step [300/500] Loss: 0.3636\n",
            "Epoch [31/50], Step [400/500] Loss: 0.1018\n",
            "Epoch [31/50], Step [500/500] Loss: 0.3085\n",
            "Epoch [32/50], Step [100/500] Loss: 0.2149\n",
            "Epoch [32/50], Step [200/500] Loss: 0.2339\n",
            "Epoch [32/50], Step [300/500] Loss: 0.1615\n",
            "Epoch [32/50], Step [400/500] Loss: 0.1603\n",
            "Epoch [32/50], Step [500/500] Loss: 0.2655\n",
            "Epoch [33/50], Step [100/500] Loss: 0.3278\n",
            "Epoch [33/50], Step [200/500] Loss: 0.1085\n",
            "Epoch [33/50], Step [300/500] Loss: 0.2343\n",
            "Epoch [33/50], Step [400/500] Loss: 0.1321\n",
            "Epoch [33/50], Step [500/500] Loss: 0.1588\n",
            "Epoch [34/50], Step [100/500] Loss: 0.2199\n",
            "Epoch [34/50], Step [200/500] Loss: 0.2311\n",
            "Epoch [34/50], Step [300/500] Loss: 0.1684\n",
            "Epoch [34/50], Step [400/500] Loss: 0.2615\n",
            "Epoch [34/50], Step [500/500] Loss: 0.1981\n",
            "Epoch [35/50], Step [100/500] Loss: 0.1687\n",
            "Epoch [35/50], Step [200/500] Loss: 0.1586\n",
            "Epoch [35/50], Step [300/500] Loss: 0.1223\n",
            "Epoch [35/50], Step [400/500] Loss: 0.2657\n",
            "Epoch [35/50], Step [500/500] Loss: 0.1474\n",
            "Epoch [36/50], Step [100/500] Loss: 0.1818\n",
            "Epoch [36/50], Step [200/500] Loss: 0.1097\n",
            "Epoch [36/50], Step [300/500] Loss: 0.1811\n",
            "Epoch [36/50], Step [400/500] Loss: 0.1678\n",
            "Epoch [36/50], Step [500/500] Loss: 0.1477\n",
            "Epoch [37/50], Step [100/500] Loss: 0.1895\n",
            "Epoch [37/50], Step [200/500] Loss: 0.2112\n",
            "Epoch [37/50], Step [300/500] Loss: 0.1781\n",
            "Epoch [37/50], Step [400/500] Loss: 0.2881\n",
            "Epoch [37/50], Step [500/500] Loss: 0.1889\n",
            "Epoch [38/50], Step [100/500] Loss: 0.3491\n",
            "Epoch [38/50], Step [200/500] Loss: 0.1461\n",
            "Epoch [38/50], Step [300/500] Loss: 0.0887\n",
            "Epoch [38/50], Step [400/500] Loss: 0.1533\n",
            "Epoch [38/50], Step [500/500] Loss: 0.3158\n",
            "Epoch [39/50], Step [100/500] Loss: 0.0949\n",
            "Epoch [39/50], Step [200/500] Loss: 0.1487\n",
            "Epoch [39/50], Step [300/500] Loss: 0.0903\n",
            "Epoch [39/50], Step [400/500] Loss: 0.1152\n",
            "Epoch [39/50], Step [500/500] Loss: 0.1543\n",
            "Epoch [40/50], Step [100/500] Loss: 0.1068\n",
            "Epoch [40/50], Step [200/500] Loss: 0.1001\n",
            "Epoch [40/50], Step [300/500] Loss: 0.1012\n",
            "Epoch [40/50], Step [400/500] Loss: 0.1786\n",
            "Epoch [40/50], Step [500/500] Loss: 0.0979\n",
            "Epoch [41/50], Step [100/500] Loss: 0.1915\n",
            "Epoch [41/50], Step [200/500] Loss: 0.1169\n",
            "Epoch [41/50], Step [300/500] Loss: 0.1269\n",
            "Epoch [41/50], Step [400/500] Loss: 0.1398\n",
            "Epoch [41/50], Step [500/500] Loss: 0.2543\n",
            "Epoch [42/50], Step [100/500] Loss: 0.1689\n",
            "Epoch [42/50], Step [200/500] Loss: 0.0861\n",
            "Epoch [42/50], Step [300/500] Loss: 0.1888\n",
            "Epoch [42/50], Step [400/500] Loss: 0.1344\n",
            "Epoch [42/50], Step [500/500] Loss: 0.0850\n",
            "Epoch [43/50], Step [100/500] Loss: 0.1901\n",
            "Epoch [43/50], Step [200/500] Loss: 0.1833\n",
            "Epoch [43/50], Step [300/500] Loss: 0.1353\n",
            "Epoch [43/50], Step [400/500] Loss: 0.1946\n",
            "Epoch [43/50], Step [500/500] Loss: 0.1260\n",
            "Epoch [44/50], Step [100/500] Loss: 0.1314\n",
            "Epoch [44/50], Step [200/500] Loss: 0.0934\n",
            "Epoch [44/50], Step [300/500] Loss: 0.1258\n",
            "Epoch [44/50], Step [400/500] Loss: 0.0723\n",
            "Epoch [44/50], Step [500/500] Loss: 0.1132\n",
            "Epoch [45/50], Step [100/500] Loss: 0.1139\n",
            "Epoch [45/50], Step [200/500] Loss: 0.1078\n",
            "Epoch [45/50], Step [300/500] Loss: 0.1110\n",
            "Epoch [45/50], Step [400/500] Loss: 0.0671\n",
            "Epoch [45/50], Step [500/500] Loss: 0.2099\n",
            "Epoch [46/50], Step [100/500] Loss: 0.1187\n",
            "Epoch [46/50], Step [200/500] Loss: 0.1490\n",
            "Epoch [46/50], Step [300/500] Loss: 0.1852\n",
            "Epoch [46/50], Step [400/500] Loss: 0.1407\n",
            "Epoch [46/50], Step [500/500] Loss: 0.1400\n",
            "Epoch [47/50], Step [100/500] Loss: 0.1186\n",
            "Epoch [47/50], Step [200/500] Loss: 0.1490\n",
            "Epoch [47/50], Step [300/500] Loss: 0.1558\n",
            "Epoch [47/50], Step [400/500] Loss: 0.0841\n",
            "Epoch [47/50], Step [500/500] Loss: 0.0572\n",
            "Epoch [48/50], Step [100/500] Loss: 0.0890\n",
            "Epoch [48/50], Step [200/500] Loss: 0.1469\n",
            "Epoch [48/50], Step [300/500] Loss: 0.1032\n",
            "Epoch [48/50], Step [400/500] Loss: 0.0782\n",
            "Epoch [48/50], Step [500/500] Loss: 0.1002\n",
            "Epoch [49/50], Step [100/500] Loss: 0.2806\n",
            "Epoch [49/50], Step [200/500] Loss: 0.1534\n",
            "Epoch [49/50], Step [300/500] Loss: 0.1683\n",
            "Epoch [49/50], Step [400/500] Loss: 0.1250\n",
            "Epoch [49/50], Step [500/500] Loss: 0.0618\n",
            "Epoch [50/50], Step [100/500] Loss: 0.1915\n",
            "Epoch [50/50], Step [200/500] Loss: 0.1017\n",
            "Epoch [50/50], Step [300/500] Loss: 0.1432\n",
            "Epoch [50/50], Step [400/500] Loss: 0.0706\n",
            "Epoch [50/50], Step [500/500] Loss: 0.0746\n"
          ]
        }
      ],
      "source": [
        "# Train the model\n",
        "total_step = len(train_loader)\n",
        "curr_lr = learning_rate\n",
        "for epoch in range(num_epochs):\n",
        "    for i, (images, labels) in enumerate(train_loader):\n",
        "        images = images.to(device)\n",
        "        labels = labels.to(device)\n",
        "\n",
        "        # Forward pass\n",
        "        outputs = model(images)\n",
        "        loss = criterion(outputs, labels)\n",
        "\n",
        "        # Backward and optimize\n",
        "        optimizer.zero_grad()\n",
        "        loss.backward()\n",
        "        optimizer.step()\n",
        "\n",
        "        if (i+1) % 100 == 0:\n",
        "            print (\"Epoch [{}/{}], Step [{}/{}] Loss: {:.4f}\"\n",
        "                   .format(epoch+1, num_epochs, i+1, total_step, loss.item()))\n",
        "\n",
        "    # Decay learning rate\n",
        "    if (epoch+1) % 20 == 0:\n",
        "        curr_lr /= 3\n",
        "        update_lr(optimizer, curr_lr)"
      ]
    },
    {
      "cell_type": "code",
      "execution_count": null,
      "metadata": {
        "colab": {
          "base_uri": "https://localhost:8080/"
        },
        "id": "hdaQ9HaNpZhq",
        "outputId": "f5edf98c-0c1c-460d-efb9-fcba551b925a"
      },
      "outputs": [
        {
          "output_type": "stream",
          "name": "stdout",
          "text": [
            "Accuracy of the model on the test images: 88.99 %\n"
          ]
        }
      ],
      "source": [
        "# Test the model\n",
        "model.eval()\n",
        "with torch.no_grad():\n",
        "    count = 0\n",
        "    total = 0\n",
        "    for images, labels in test_loader:\n",
        "        images = images.to(device)\n",
        "        labels = labels.to(device)\n",
        "        outputs = model(images)\n",
        "        _, predicted = torch.max(outputs.data, 1)\n",
        "        total += labels.size(0)\n",
        "        count += (predicted == labels).sum().item()\n",
        "\n",
        "    print('Accuracy of the model on the test images: {} %'.format(100 * count / total))"
      ]
    },
    {
      "cell_type": "markdown",
      "source": [
        "# Acknowledgement\n",
        "\n",
        "My work is based on the pytorch tutorial about CNN resnet.\n",
        "The link is: https://pytorch-tutorial.readthedocs.io/en/latest/tutorial/chapter03_intermediate/3_2_2_cnn_resnet_cifar10/"
      ],
      "metadata": {
        "id": "EHRYSCU4DZN1"
      }
    },
    {
      "cell_type": "code",
      "source": [
        ""
      ],
      "metadata": {
        "id": "aNBj-WS9DuPN"
      },
      "execution_count": null,
      "outputs": []
    }
  ],
  "metadata": {
    "accelerator": "GPU",
    "colab": {
      "collapsed_sections": [],
      "name": "Homework 5 (Yicheng Zou).ipynb",
      "provenance": [],
      "include_colab_link": true
    },
    "kernelspec": {
      "display_name": "Python 3",
      "name": "python3"
    }
  },
  "nbformat": 4,
  "nbformat_minor": 0
}