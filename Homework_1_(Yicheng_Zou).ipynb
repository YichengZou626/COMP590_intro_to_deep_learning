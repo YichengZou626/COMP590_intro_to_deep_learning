{
  "nbformat": 4,
  "nbformat_minor": 0,
  "metadata": {
    "colab": {
      "name": "Homework 1 (Yicheng Zou).ipynb",
      "provenance": [],
      "collapsed_sections": [],
      "include_colab_link": true
    },
    "kernelspec": {
      "name": "python3",
      "display_name": "Python 3"
    }
  },
  "cells": [
    {
      "cell_type": "markdown",
      "metadata": {
        "id": "view-in-github",
        "colab_type": "text"
      },
      "source": [
        "<a href=\"https://colab.research.google.com/github/YichengZou626/COMP590_intro_to_deep_learning/blob/main/Homework_1_(Yicheng_Zou).ipynb\" target=\"_parent\"><img src=\"https://colab.research.google.com/assets/colab-badge.svg\" alt=\"Open In Colab\"/></a>"
      ]
    },
    {
      "cell_type": "code",
      "metadata": {
        "id": "pp-R4v8eehJ4"
      },
      "source": [
        "import numpy as np\n",
        "import matplotlib.pyplot as plt"
      ],
      "execution_count": null,
      "outputs": []
    },
    {
      "cell_type": "code",
      "metadata": {
        "id": "up2bDpU9fCk3"
      },
      "source": [
        "def generate_data():\n",
        "    size = 1000\n",
        "    x = np.linspace(0, 1, size)\n",
        "    y = -10*x + 5\n",
        "    y += 15*np.logical_and(x > 0.75, x < 0.8).astype(float)\n",
        "    return x, y"
      ],
      "execution_count": null,
      "outputs": []
    },
    {
      "cell_type": "markdown",
      "metadata": {
        "id": "hTUMzQT3f0wm"
      },
      "source": [
        "# 1. Inspect the data (0.5 points)\n",
        "\n",
        "Using `matplotlib`, create a scatter plot of the data returned by `generate_data()`.\n",
        "What is out of the ordinary about this line?"
      ]
    },
    {
      "cell_type": "code",
      "metadata": {
        "id": "eEfr6MfZfkyh",
        "colab": {
          "base_uri": "https://localhost:8080/",
          "height": 279
        },
        "outputId": "08cee992-14f9-4410-beab-927302624104"
      },
      "source": [
        "x, y = generate_data()\n",
        "plt.scatter(x, y, c =\"pink\")\n",
        "plt.xlabel(\"X-axis\")\n",
        "plt.ylabel(\"Y-axis\")\n",
        "plt.show()"
      ],
      "execution_count": null,
      "outputs": [
        {
          "output_type": "display_data",
          "data": {
            "image/png": "[encoded data removed]",
            "text/plain": [
              "<Figure size 432x288 with 1 Axes>"
            ]
          },
          "metadata": {
            "needs_background": "light"
          }
        }
      ]
    },
    {
      "cell_type": "markdown",
      "source": [
        "For the part of 0.75 < x < 0.8, it was the outlier as compared with the line of Y = -10X + 5"
      ],
      "metadata": {
        "id": "pKzuQDeQcwi9"
      }
    },
    {
      "cell_type": "markdown",
      "metadata": {
        "id": "DhgvBYNRfzG4"
      },
      "source": [
        "# 2. Implement linear regression (2 points)\n",
        "\n",
        "Implement a basic linear regression model which is fit to the data from `generate_data` using gradient descent.\n",
        "Your model should take the form `y = m*x + b`, where `y` is the output, `x` is the input, `m` is a weight parameter, and `b` is a bias parameter.\n",
        "You must use only `numpy` and derive any derivatives yourself (i.e. no autograd from TensorFlow, MXNet, Pytorch, JAX etc!).\n",
        "You should use a squared-error loss function.\n",
        "You are welcome to use any technique you want to decide when to stop training.\n",
        "Make sure you tune your optimization hyperparameters so that the model converges.\n",
        "Print out or plot the loss over the course of training."
      ]
    },
    {
      "cell_type": "code",
      "metadata": {
        "id": "RjPjNFSugtci",
        "colab": {
          "base_uri": "https://localhost:8080/",
          "height": 582
        },
        "outputId": "80c753a9-2b25-4f18-bd52-d5ac297b336d"
      },
      "source": [
        "class Linear_Regression:\n",
        "    def __init__(self, X, Y, m, b):\n",
        "      self.X = X\n",
        "      self.Y = Y\n",
        "      self.m = m\n",
        "      self.b = b\n",
        "     \n",
        "    def grad_descent(self, learning_rate):\n",
        "      Y_pred = self.predict()\n",
        "      Y = self.Y\n",
        "      M = len(Y)\n",
        "      self.b = self.b - (learning_rate * ((1/M) * np.sum(Y_pred - Y)))\n",
        "      self.m = self.m - (learning_rate * ((1/M) * np.sum((Y_pred - Y) * self.X)))\n",
        " \n",
        "    def predict(self):\n",
        "      Y_pred = (self.m * self.X) + self.b\n",
        "      return Y_pred\n",
        "     \n",
        "    def loss_func(self, Y_pred):\n",
        "      M = len(self.Y)\n",
        "      J = (1/(2 * M))*(np.sum((Y_pred - self.Y)**2))\n",
        "      return J\n",
        "      \n",
        "    def final_weight(self):\n",
        "      return self.m, self.b\n",
        "\n",
        "    def plot_best_fit(self, Y_pred, fig):\n",
        "      f = plt.figure(fig)\n",
        "      plt.scatter(self.X, self.Y, color='b')\n",
        "      plt.plot(self.X, Y_pred, color='g')\n",
        "      f.show()\n",
        "\n",
        " \n",
        "def main():\n",
        "    X, Y = generate_data()\n",
        "\n",
        "    np.random.seed(12)\n",
        "    m = np.random.randn()\n",
        "    b = np.random.randn()\n",
        " \n",
        "    regressor = Linear_Regression(X, Y, m, b)\n",
        " \n",
        "    iterations = 0\n",
        "    steps = 1000\n",
        "    learning_rate = 0.1\n",
        "    costs = []\n",
        " \n",
        "    while 1:\n",
        "        Y_pred = regressor.predict()\n",
        "        cost = regressor.loss_func(Y_pred)\n",
        "        costs.append(cost)\n",
        "        regressor.grad_descent(learning_rate)\n",
        "         \n",
        "        iterations += 1\n",
        "        if iterations == steps:\n",
        "            print(iterations, \"finished\")\n",
        "            m, b = regressor.final_weight()\n",
        "            print('final loss is: ' + str(cost))\n",
        "            print('weight m is: ' + str(m))\n",
        "            print('weight b is: ' + str(b))\n",
        "            regressor.plot_best_fit(Y_pred, 'comparison of two lines')\n",
        "            break\n",
        "  \n",
        "    h = plt.figure('loss progress')\n",
        "    plt.plot(range(iterations), costs, color='b')\n",
        "    h.show()\n",
        " \n",
        "if __name__ == '__main__':\n",
        "    main()"
      ],
      "execution_count": null,
      "outputs": [
        {
          "output_type": "stream",
          "name": "stdout",
          "text": [
            "1000 finished\n",
            "final loss is: 5.088520851384827\n",
            "weight m is: -7.516173357311142\n",
            "weight b is: 4.507688291865109\n"
          ]
        },
        {
          "output_type": "display_data",
          "data": {
            "image/png": "[encoded data removed]",
            "text/plain": [
              "<Figure size 432x288 with 1 Axes>"
            ]
          },
          "metadata": {
            "needs_background": "light"
          }
        },
        {
          "output_type": "display_data",
          "data": {
            "image/png": "[encoded data removed]",
            "text/plain": [
              "<Figure size 432x288 with 1 Axes>"
            ]
          },
          "metadata": {
            "needs_background": "light"
          }
        }
      ]
    },
    {
      "cell_type": "markdown",
      "metadata": {
        "id": "p10i06F4KCJl"
      },
      "source": [
        "# 3. Analyze the result (0.5 points)\n",
        "\n",
        "Print out the values of `w` and `b` found by your model after training and compare them to the ground truth values (which can be found inside the code of the `generate_data` function).\n",
        "Are they close?\n",
        "Recreate the scatter plot you generated in question 1 and plot the model as a line on the same plot.\n",
        "What went wrong?\n"
      ]
    },
    {
      "cell_type": "code",
      "metadata": {
        "id": "pS11vK3nkK_c"
      },
      "source": [
        ""
      ],
      "execution_count": null,
      "outputs": []
    },
    {
      "cell_type": "markdown",
      "source": [
        "After the training process, the final weight of m is -7.516173357311142 and b is 4.507688291865109. They are very far from the original weight of -10 and 5. The reason is that the L2 loss function is not robust, and it was affected by outliers in original data."
      ],
      "metadata": {
        "id": "n0mi7yUjbAOc"
      }
    },
    {
      "cell_type": "markdown",
      "metadata": {
        "id": "PtnLN-bol1Qv"
      },
      "source": [
        "# 4. \"Robust\" linear regression (0.5 points)\n",
        "\n",
        "Implement a linear regression model exactly like the one you created in question 2, except using a L1 loss (absolute difference) instead of a squared L2 loss (squared error).\n",
        "You should be able to copy and paste your code from question 2 and only change a few lines.\n",
        "Print out or plot the loss over the course of training.\n",
        "What is different about the loss trajectory compared to the squared-error linear regression?"
      ]
    },
    {
      "cell_type": "code",
      "metadata": {
        "id": "TSCjJq0VLDRT",
        "colab": {
          "base_uri": "https://localhost:8080/",
          "height": 582
        },
        "outputId": "4fd39c56-1e0e-48b2-e316-d749116ab589"
      },
      "source": [
        "class Linear_Regression:\n",
        "    def __init__(self, X, Y, m, b):\n",
        "      self.X = X\n",
        "      self.Y = Y\n",
        "      self.m = m\n",
        "      self.b = b\n",
        "     \n",
        "    def grad_descent(self, learning_rate):\n",
        "      Y_pred = self.predict()\n",
        "      Y = self.Y\n",
        "      M = len(Y)\n",
        "      self.b = self.b - (learning_rate * ((1/ M) * np.sum((Y_pred - Y)/np.abs(Y_pred - Y))))\n",
        "      self.m = self.m - (learning_rate * ((1/ M) * np.sum(((Y_pred - Y)/np.abs(Y_pred - Y)) * self.X)))\n",
        " \n",
        "    def predict(self):\n",
        "      Y_pred = self.b + (self.m * self.X)\n",
        "      return Y_pred\n",
        "     \n",
        "    def loss_func(self, Y_pred):\n",
        "      M = len(self.Y)\n",
        "      J = (1 / M) * (np.sum(np.abs(Y_pred - self.Y)))\n",
        "      return J\n",
        "      \n",
        "    def final_weight(self):\n",
        "      return self.m, self.b\n",
        "\n",
        "    def plot_best_fit(self, Y_pred, fig):\n",
        "      f = plt.figure(fig)\n",
        "      plt.scatter(self.X, self.Y, color='b')\n",
        "      plt.plot(self.X, Y_pred, color='g')\n",
        "      f.show()\n",
        " \n",
        "def main():\n",
        "    X, Y = generate_data()\n",
        "\n",
        "    np.random.seed(12)\n",
        "    m = np.random.randn()\n",
        "    b = np.random.randn()\n",
        " \n",
        "    regressor = Linear_Regression(X, Y, m, b)\n",
        " \n",
        "    iterations = 0\n",
        "    steps = 10000\n",
        "    learning_rate = 0.01\n",
        "    costs = []\n",
        " \n",
        "    while 1:\n",
        "        Y_pred = regressor.predict()\n",
        "        cost = regressor.loss_func(Y_pred)\n",
        "        costs.append(cost)\n",
        "        regressor.grad_descent(learning_rate)\n",
        "         \n",
        "        iterations += 1\n",
        "        if iterations == steps:\n",
        "            print(iterations, \"finished\")\n",
        "            m, b = regressor.final_weight()\n",
        "            print('final loss is: ' + str(cost))\n",
        "            print('weight m is: ' + str(m))\n",
        "            print('weight b is: ' + str(b))\n",
        "            regressor.plot_best_fit(Y_pred, 'comparison of two lines')\n",
        "            break\n",
        "  \n",
        "    h = plt.figure('loss progress')\n",
        "    plt.plot(range(iterations), costs, color='b')\n",
        "    h.show()\n",
        " \n",
        "if __name__ == '__main__':\n",
        "    main()"
      ],
      "execution_count": null,
      "outputs": [
        {
          "output_type": "stream",
          "name": "stdout",
          "text": [
            "10000 finished\n",
            "final loss is: 0.7531488918781838\n",
            "weight m is: -10.001999293636194\n",
            "weight b is: 4.993454120559883\n"
          ]
        },
        {
          "output_type": "display_data",
          "data": {
            "image/png": "[encoded data removed]",
            "text/plain": [
              "<Figure size 432x288 with 1 Axes>"
            ]
          },
          "metadata": {
            "needs_background": "light"
          }
        },
        {
          "output_type": "display_data",
          "data": {
            "image/png": "[encoded data removed]",
            "text/plain": [
              "<Figure size 432x288 with 1 Axes>"
            ]
          },
          "metadata": {
            "needs_background": "light"
          }
        }
      ]
    },
    {
      "cell_type": "markdown",
      "metadata": {
        "id": "xT_JGyk7LXTH"
      },
      "source": [
        "# 5. Analyze the result (0.5 points)\n",
        "\n",
        "Print out the new values of `w` and `b` found by your model after training.\n",
        "Are they closer to the true values used in `generate_data`?\n",
        "Plot the model as a line again.\n",
        "Why do you think the behavior is different?"
      ]
    },
    {
      "cell_type": "code",
      "metadata": {
        "id": "-ZAgCbU1Li0J"
      },
      "source": [
        ""
      ],
      "execution_count": null,
      "outputs": []
    },
    {
      "cell_type": "markdown",
      "source": [
        "After the training process, the final weight of m is *-10.001999293636194* and b is 4.993454120559883. They are very close to the original weight of -10 and 5. The reason for the different behavior for L1 and L2 loss function is that L1 loss function is more robust and is generally not affected by outliers. On the contrary L2 loss function will try to adjust the model according to these outlier values, and so L2 loss function is highly sensitive to outliers in the dataset."
      ],
      "metadata": {
        "id": "knWid6yDbjJA"
      }
    },
    {
      "cell_type": "markdown",
      "source": [
        "\n",
        "# Acknowledge:\n",
        "**In this assignment, I cooperate with Hanqi Hua to write code. Also, some part of my code was adapted from https://www.geeksforgeeks.org/gradient-descent-in-linear-regression/.**"
      ],
      "metadata": {
        "id": "VB8vlSbNe61e"
      }
    }
  ]
}