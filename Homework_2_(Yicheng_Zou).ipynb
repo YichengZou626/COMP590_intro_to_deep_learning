{
  "nbformat": 4,
  "nbformat_minor": 0,
  "metadata": {
    "anaconda-cloud": {},
    "kernelspec": {
      "display_name": "Python [default]",
      "language": "python",
      "name": "python3"
    },
    "language_info": {
      "codemirror_mode": {
        "name": "ipython",
        "version": 3
      },
      "file_extension": ".py",
      "mimetype": "text/x-python",
      "name": "python",
      "nbconvert_exporter": "python",
      "pygments_lexer": "ipython3",
      "version": "3.5.2"
    },
    "colab": {
      "name": "Homework 2 (Yicheng Zou).ipynb",
      "provenance": [],
      "collapsed_sections": [],
      "include_colab_link": true
    }
  },
  "cells": [
    {
      "cell_type": "markdown",
      "metadata": {
        "id": "view-in-github",
        "colab_type": "text"
      },
      "source": [
        "<a href=\"https://colab.research.google.com/github/YichengZou626/COMP590_intro_to_deep_learning/blob/main/Homework_2_(Yicheng_Zou).ipynb\" target=\"_parent\"><img src=\"https://colab.research.google.com/assets/colab-badge.svg\" alt=\"Open In Colab\"/></a>"
      ]
    },
    {
      "cell_type": "markdown",
      "metadata": {
        "id": "Vz-etWKpWpzC"
      },
      "source": [
        "# 1. Logistic Regression for Binary Classification (1.5 points)\n",
        "\n",
        "In softmax regression, the model's output probabilities are given by\n",
        "\n",
        "$$p(y|\\mathbf{o}) = \\mathrm{softmax}(\\mathbf{o})_y = \\frac{\\exp(o_y)}{\\sum_{y'} \\exp(o_{y'})}$$\n",
        "\n",
        "1.1. Show that this parametrization has a spurious degree of freedom. That is, show that both $\\mathbf{o}$ and $\\mathbf{o} + c$ with $c \\in \\mathbb{R}$ lead to the same probability estimate.\n",
        "\n",
        "1.2. For binary classification, i.e. whenever we have only two classes $\\{-1, 1\\}$, we can arbitrarily set $o_{-1} = 0$. Using the shorthand $o = o_1$ show that this is equivalent to \n",
        "\n",
        "$$p(y=1|o) = \\frac{1}{1 + \\exp(-o)}$$\n",
        "\n",
        "1.3. Show that the log-likelihood loss (often called logistic loss) for labels $y \\in \\{-1, 1\\}$ is thus given by \n",
        "\n",
        "$$-\\log p(y|o) = \\log (1 + \\exp(-y \\cdot o))$$\n",
        "\n",
        "1.4. Show that for $y = 1$ the logistic loss asymptotes to $0$ for $o \\to \\infty$ and to $\\infty$ for $o \\to -\\infty$. "
      ]
    },
    {
      "cell_type": "markdown",
      "source": [
        "# 1.1\n",
        "\n",
        "\\begin{align}\n",
        "        \\frac{exp(o_1+c)}{\\sum_{i=0}^n exp(o+c)} = \\frac{exp(o_1)exp(c)}{\\sum_{i=0}^n exp(o)exp(c)}\n",
        "    \\end{align}\n",
        "we can simply divide exp(c) for numerator and denominator, and get the same equation as before."
      ],
      "metadata": {
        "id": "y7eqXgoHqELT"
      }
    },
    {
      "cell_type": "markdown",
      "source": [
        "# 1.2\n",
        "\n",
        "\\begin{align}\n",
        "        p(y = 1|o) = \\frac{exp(o_1)}{exp(o_{-1}) + exp(o_1)} = \\frac{exp(o)}{1 + exp(o)} = \\frac{1}{\\frac{1}{exp(o)} + 1} = \\frac{1}{exp(-o) + 1}\n",
        "    \\end{align}"
      ],
      "metadata": {
        "id": "P-CwKRIDrqXJ"
      }
    },
    {
      "cell_type": "markdown",
      "source": [
        "# 1.3\n",
        "\n",
        "\\begin{align}\n",
        "        p(y = -1|o) = \\frac{exp(o_{-1})}{exp(o_{-1}) + exp(o_1)} = \\frac{1}{1 + exp(o)}\\\\\n",
        "        p(y|o) = \\frac{1}{1+exp(-y*o)}\\\\\n",
        "        -log(p(y|o) = -log(\\frac{1}{1+exp(-y*o)}) = 0 - -(log(1+exp(-y*o)) = log(1+exp(-y*o)\n",
        "    \\end{align}"
      ],
      "metadata": {
        "id": "hBPx1k8c25Fb"
      }
    },
    {
      "cell_type": "markdown",
      "source": [
        "# 1.4\n",
        "\n",
        "\\begin{align}\n",
        "        -log(y=1|o) = log(1+exp(-o)) = log(1+\\frac{1}{exp(o)}) = log(\\frac{exp(o)+1}{exp(o)})\n",
        "    \\end{align}\n",
        "\n",
        "as o is reach to positive infinity, exp(o) will reach infinity, and log(1) = 0\n",
        "as o is reach to negative infinity, exp(o) will reach to 0, and log(infinity) will be infinity."
      ],
      "metadata": {
        "id": "IECO0uPgtHYh"
      }
    },
    {
      "cell_type": "markdown",
      "metadata": {
        "id": "7wZ2QLJ0WpzC"
      },
      "source": [
        "# 2. Implementing the binary logistic loss (1 point)\n",
        "\n",
        "1. Implement the binary logistic loss $l(y,o) = \\log (1 + \\exp(-y \\cdot o))$ in the autograd-enabled numerical computing library of your choice (TensorFlow, PyTorch, mxnet, JAX, etc.)\n",
        "1. Plot its values for $y \\in \\{-1, 1\\}$ over the range of $o \\in [-5, 5]$.\n",
        "1. Plot its derivative with respect to $o$ for $o \\in [-5, 5]$ by using the automatic differentiation capabilities of the library you chose."
      ]
    },
    {
      "cell_type": "markdown",
      "source": [
        "# 2.1"
      ],
      "metadata": {
        "id": "KpF1RM1n6BW_"
      }
    },
    {
      "cell_type": "code",
      "source": [
        "%matplotlib inline\n",
        "from matplotlib import pyplot as plt\n",
        "import tensorflow as tf\n",
        "\n",
        "\n",
        "def bll(y, o):\n",
        "  return tf.math.log(1 + tf.exp(-y*o))\n",
        "\n"
      ],
      "metadata": {
        "id": "yQCdnr7kGiN8"
      },
      "execution_count": null,
      "outputs": []
    },
    {
      "cell_type": "markdown",
      "source": [
        "# 2.2"
      ],
      "metadata": {
        "id": "TP68Cz246DNC"
      }
    },
    {
      "cell_type": "code",
      "source": [
        "o_neg = tf.range(-5,6, dtype=tf.float32)\n",
        "o_pos = tf.range(-5,6, dtype=tf.float32)\n",
        "\n",
        "neg_loss = bll(-1, o_neg)\n",
        "pos_loss = bll(1, o_pos)\n",
        "\n",
        "plt.figure()\n",
        "plt.plot(o_neg.numpy(), neg_loss.numpy(),label = 'y = -1')\n",
        "plt.plot(o_pos.numpy(), pos_loss.numpy(), label = 'y = +1')\n",
        "plt.title(\"values for  y∈{−1,1} over the range of o∈[−5,5] .\")\n",
        "plt.legend()\n",
        "plt.show()"
      ],
      "metadata": {
        "colab": {
          "base_uri": "https://localhost:8080/",
          "height": 281
        },
        "id": "5RNc1PbH4Ay4",
        "outputId": "124c31a9-fd6c-47d9-8c45-f89209f69b48"
      },
      "execution_count": null,
      "outputs": [
        {
          "output_type": "display_data",
          "data": {
            "image/png": "[encoded data removed]",
            "text/plain": [
              "<Figure size 432x288 with 1 Axes>"
            ]
          },
          "metadata": {
            "needs_background": "light"
          }
        }
      ]
    },
    {
      "cell_type": "markdown",
      "source": [
        "# 2.3"
      ],
      "metadata": {
        "id": "memztDCp6Few"
      }
    },
    {
      "cell_type": "code",
      "source": [
        "o_neg = tf.range(-5,6, dtype=tf.float32)\n",
        "o_pos = tf.range(-5,6, dtype=tf.float32)\n",
        "o_neg = tf.Variable(o_neg)\n",
        "o_pos = tf.Variable(o_pos)\n",
        "with tf.GradientTape() as t:\n",
        "    neg_loss = bll(-1, o_neg)\n",
        "o_neg_grad = t.gradient(neg_loss, o_neg)\n",
        "\n",
        "with tf.GradientTape() as t:\n",
        "    pos_loss = bll(1, o_pos)\n",
        "o_pos_grad = t.gradient(pos_loss, o_pos) \n",
        "\n",
        "\n",
        "plt.figure()\n",
        "plt.plot(o_neg.numpy(), o_neg_grad.numpy(),label = 'y = -1')\n",
        "plt.plot(o_pos.numpy(), o_pos_grad.numpy(), label = 'y = +1')\n",
        "plt.title(\"Derivative with respect to o for o∈[−5,5] using 'autograd'.\")\n",
        "plt.legend()\n",
        "plt.show()"
      ],
      "metadata": {
        "colab": {
          "base_uri": "https://localhost:8080/",
          "height": 281
        },
        "id": "Zr70Ssa_5zQk",
        "outputId": "84bf3bcc-f53d-45e1-a309-92cfe2596a5a"
      },
      "execution_count": null,
      "outputs": [
        {
          "output_type": "display_data",
          "data": {
            "image/png": "[encoded data removed]",
            "text/plain": [
              "<Figure size 432x288 with 1 Axes>"
            ]
          },
          "metadata": {
            "needs_background": "light"
          }
        }
      ]
    },
    {
      "cell_type": "markdown",
      "metadata": {
        "id": "0lxavV51WpzD"
      },
      "source": [
        "# 3. T-shirt vs. Trouser classification (1.5 points)\n",
        "\n",
        "1. Implement a logistic regression model on the Fashion MNIST datasets that classifies between t-shirts and trousers, rather than all 10 of the classes. Feel free to use the softmax regression code from the textbook (sections 3.5-3.7), but use the binary logistic loss you defined above (which assumes that the labels are -1 or 1) rather than a softmax cross-entropy loss. This will require creating custom version of the `d2l.load_data_fashion_mnist` that removes any examples that are not t-shirts or trousers, and maps the labels to -1 and 1.\n",
        "2. After implementing this model and getting it to work, try changing the learning rate and weight initialization scale. Can you get the model to train more quickly? What values of these hyperparameters result in bad models/poor training dynamics?\n",
        "\n",
        "*Note*: Make sure the runtime type is \"GPU\" to speed things up!"
      ]
    },
    {
      "cell_type": "code",
      "source": [
        "(X_train, Y_train), (X_test, Y_test) = tf.keras.datasets.fashion_mnist.load_data()\n"
      ],
      "metadata": {
        "id": "OpZh-GOEk09S",
        "colab": {
          "base_uri": "https://localhost:8080/"
        },
        "outputId": "29650656-d9df-426c-90a3-304f65d14310"
      },
      "execution_count": null,
      "outputs": [
        {
          "output_type": "stream",
          "name": "stdout",
          "text": [
            "Downloading data from https://storage.googleapis.com/tensorflow/tf-keras-datasets/train-labels-idx1-ubyte.gz\n",
            "32768/29515 [=================================] - 0s 0us/step\n",
            "40960/29515 [=========================================] - 0s 0us/step\n",
            "Downloading data from https://storage.googleapis.com/tensorflow/tf-keras-datasets/train-images-idx3-ubyte.gz\n",
            "26427392/26421880 [==============================] - 1s 0us/step\n",
            "26435584/26421880 [==============================] - 1s 0us/step\n",
            "Downloading data from https://storage.googleapis.com/tensorflow/tf-keras-datasets/t10k-labels-idx1-ubyte.gz\n",
            "16384/5148 [===============================================================================================] - 0s 0us/step\n",
            "Downloading data from https://storage.googleapis.com/tensorflow/tf-keras-datasets/t10k-images-idx3-ubyte.gz\n",
            "4423680/4422102 [==============================] - 0s 0us/step\n",
            "4431872/4422102 [==============================] - 0s 0us/step\n"
          ]
        }
      ]
    },
    {
      "cell_type": "code",
      "source": [
        "import numpy as np\n",
        "\n",
        "train_filter = np.where((Y_train == 0 ) | (Y_train == 1))\n",
        "test_filter = np.where((Y_test == 0) | (Y_test == 1))\n",
        "\n",
        "\n",
        "x_train, y_train = X_train[train_filter], Y_train[train_filter]\n",
        "x_test, y_test = X_test[test_filter], Y_test[test_filter]\n"
      ],
      "metadata": {
        "id": "SaK6cP28lJuI"
      },
      "execution_count": null,
      "outputs": []
    },
    {
      "cell_type": "code",
      "source": [
        "y_train = -1 + 2*y_train\n",
        "y_test = -1 + 2*y_test"
      ],
      "metadata": {
        "id": "4BjDIcGpHiAS"
      },
      "execution_count": null,
      "outputs": []
    },
    {
      "cell_type": "code",
      "source": [
        "def load_data_fashion_mnist(batch_size, resize=None):\n",
        "    \"\"\"Download the Fashion-MNIST dataset and then load it into memory.\"\"\"\n",
        "    mnist_train, mnist_test = (x_train, y_train), (x_test, y_test)\n",
        "    # Divide all numbers by 255 so that all pixel values are between\n",
        "    # 0 and 1, add a batch dimension at the last. And cast label to int32\n",
        "    process = lambda X, y: (tf.expand_dims(X, axis=3) / 255,\n",
        "                            tf.cast(y, dtype='float32'))\n",
        "    resize_fn = lambda X, y: (\n",
        "        tf.image.resize_with_pad(X, resize, resize) if resize else X, y)\n",
        "    return (\n",
        "        tf.data.Dataset.from_tensor_slices(process(*mnist_train)).batch(\n",
        "            batch_size).shuffle(len(mnist_train[0])).map(resize_fn),\n",
        "        tf.data.Dataset.from_tensor_slices(process(*mnist_test)).batch(\n",
        "            batch_size).map(resize_fn))"
      ],
      "metadata": {
        "id": "DTJPcjdo192O"
      },
      "execution_count": null,
      "outputs": []
    },
    {
      "cell_type": "code",
      "source": [
        "batch_size = 256\n",
        "train_iter, test_iter = load_data_fashion_mnist(batch_size)"
      ],
      "metadata": {
        "id": "XUHcuN9r2iRC"
      },
      "execution_count": null,
      "outputs": []
    },
    {
      "cell_type": "code",
      "source": [
        "num_inputs = 784\n",
        "num_outputs = 2\n",
        "\n",
        "w = tf.Variable(tf.random.normal(shape=(num_inputs, num_outputs),\n",
        "                                 mean=0, stddev=0.01))\n",
        "b = tf.Variable(tf.zeros(num_outputs))"
      ],
      "metadata": {
        "id": "0yjvUlgp2wj_"
      },
      "execution_count": null,
      "outputs": []
    },
    {
      "cell_type": "code",
      "source": [
        "def softmax(O):\n",
        "    O_exp = tf.exp(O)\n",
        "    partition = tf.reduce_sum(O_exp, 1, keepdims=True)\n",
        "    return O_exp / partition"
      ],
      "metadata": {
        "id": "NYBD76oz3BUh"
      },
      "execution_count": null,
      "outputs": []
    },
    {
      "cell_type": "code",
      "source": [
        "def vbll(y, O):\n",
        "    return tf.math.log(1+tf.exp(-y*O[:,1]))"
      ],
      "metadata": {
        "id": "I_crwawSNk8P"
      },
      "execution_count": null,
      "outputs": []
    },
    {
      "cell_type": "code",
      "source": [
        "def net(X):\n",
        "    return tf.matmul(tf.reshape(X, (-1, w.shape[0])), w) + b"
      ],
      "metadata": {
        "id": "syto_zNb3QZ1"
      },
      "execution_count": null,
      "outputs": []
    },
    {
      "cell_type": "code",
      "source": [
        "def sgd(params, grads, lr, batch_size): \n",
        "    \"\"\"Minibatch stochastic gradient descent.\"\"\"\n",
        "    for param, grad in zip(params, grads):\n",
        "        param.assign_sub(lr*grad/batch_size)"
      ],
      "metadata": {
        "id": "HY-vWhMMGTtD"
      },
      "execution_count": null,
      "outputs": []
    },
    {
      "cell_type": "code",
      "source": [
        "lr = 0.01\n",
        "num_epochs = 50\n",
        "w = tf.Variable(w)\n",
        "b = tf.Variable(b)\n",
        "loss_list = []\n",
        "\n",
        "for epoch in range(num_epochs):\n",
        "    for X, y in train_iter: \n",
        "      with tf.GradientTape() as g:\n",
        "        l = vbll(y, net(X))\n",
        "      dw, db = g.gradient(l, [w, b])\n",
        "      sgd([w, b], [dw, db], lr, batch_size)\n",
        "    train_l = vbll(y, net(X))\n",
        "    loss_list.append(tf.reduce_mean(train_l).numpy())\n",
        "    print(f'epoch {epoch + 1}, loss {float(tf.reduce_mean(train_l)):f}')"
      ],
      "metadata": {
        "colab": {
          "base_uri": "https://localhost:8080/"
        },
        "id": "HwKiQiJx39q6",
        "outputId": "cb4ac00d-90db-4fcb-d0dc-33e5346edd97"
      },
      "execution_count": null,
      "outputs": [
        {
          "output_type": "stream",
          "name": "stdout",
          "text": [
            "epoch 1, loss 0.273009\n",
            "epoch 2, loss 0.211607\n",
            "epoch 3, loss 0.172477\n",
            "epoch 4, loss 0.156981\n",
            "epoch 5, loss 0.141471\n",
            "epoch 6, loss 0.153150\n",
            "epoch 7, loss 0.112434\n",
            "epoch 8, loss 0.119778\n",
            "epoch 9, loss 0.121928\n",
            "epoch 10, loss 0.094999\n",
            "epoch 11, loss 0.118183\n",
            "epoch 12, loss 0.116014\n",
            "epoch 13, loss 0.126769\n",
            "epoch 14, loss 0.084935\n",
            "epoch 15, loss 0.091775\n",
            "epoch 16, loss 0.112222\n",
            "epoch 17, loss 0.121452\n",
            "epoch 18, loss 0.116206\n",
            "epoch 19, loss 0.065991\n",
            "epoch 20, loss 0.081827\n",
            "epoch 21, loss 0.102945\n",
            "epoch 22, loss 0.076313\n",
            "epoch 23, loss 0.078296\n",
            "epoch 24, loss 0.077222\n",
            "epoch 25, loss 0.104283\n",
            "epoch 26, loss 0.087390\n",
            "epoch 27, loss 0.073681\n",
            "epoch 28, loss 0.073362\n",
            "epoch 29, loss 0.060765\n",
            "epoch 30, loss 0.077972\n",
            "epoch 31, loss 0.065414\n",
            "epoch 32, loss 0.068953\n",
            "epoch 33, loss 0.057485\n",
            "epoch 34, loss 0.083797\n",
            "epoch 35, loss 0.056631\n",
            "epoch 36, loss 0.102682\n",
            "epoch 37, loss 0.060395\n",
            "epoch 38, loss 0.096910\n",
            "epoch 39, loss 0.053532\n",
            "epoch 40, loss 0.054386\n",
            "epoch 41, loss 0.059417\n",
            "epoch 42, loss 0.054604\n",
            "epoch 43, loss 0.065015\n",
            "epoch 44, loss 0.056068\n",
            "epoch 45, loss 0.066544\n",
            "epoch 46, loss 0.067796\n",
            "epoch 47, loss 0.051844\n",
            "epoch 48, loss 0.057000\n",
            "epoch 49, loss 0.050906\n",
            "epoch 50, loss 0.048013\n"
          ]
        }
      ]
    },
    {
      "cell_type": "code",
      "source": [
        "plt.figure(1)\n",
        "plt.plot(np.arange(num_epochs), loss_list, 'b-o')\n",
        "#plt.plot(trHistory.history['loss'])\n",
        "plt.grid(True)\n",
        "plt.xlabel('Epoch #')\n",
        "plt.ylabel(\"Loss\")"
      ],
      "metadata": {
        "colab": {
          "base_uri": "https://localhost:8080/",
          "height": 296
        },
        "id": "DuntaiG-q6s4",
        "outputId": "8f4e72b4-e554-4c58-9493-2442cdbeca4f"
      },
      "execution_count": null,
      "outputs": [
        {
          "output_type": "execute_result",
          "data": {
            "text/plain": [
              "Text(0, 0.5, 'Loss')"
            ]
          },
          "metadata": {},
          "execution_count": 15
        },
        {
          "output_type": "display_data",
          "data": {
            "image/png": "[encoded data removed]",
            "text/plain": [
              "<Figure size 432x288 with 1 Axes>"
            ]
          },
          "metadata": {
            "needs_background": "light"
          }
        }
      ]
    },
    {
      "cell_type": "code",
      "source": [
        "count = 0\n",
        "for X, y in test_iter:\n",
        "  y_hat = softmax(net(X))\n",
        "  y_hat = tf.argmax(y_hat, axis=1)\n",
        "  y_hat = -1 + 2*y_hat\n",
        "  cmp = tf.cast(y_hat, y.dtype) == y\n",
        "  count += float(tf.reduce_sum(tf.cast(cmp, y.dtype)))\n",
        "count/len(y_test)"
      ],
      "metadata": {
        "colab": {
          "base_uri": "https://localhost:8080/"
        },
        "id": "6KQOvBBMHXZC",
        "outputId": "bd7f52c6-f801-4d43-b82d-cfbcf8eee2c6"
      },
      "execution_count": null,
      "outputs": [
        {
          "output_type": "execute_result",
          "data": {
            "text/plain": [
              "0.977"
            ]
          },
          "metadata": {},
          "execution_count": 16
        }
      ]
    },
    {
      "cell_type": "markdown",
      "source": [
        "# 3.2"
      ],
      "metadata": {
        "id": "ZEAr3nzY63yR"
      }
    },
    {
      "cell_type": "code",
      "source": [
        "batch_size = 256\n",
        "train_iter, test_iter = load_data_fashion_mnist(batch_size)"
      ],
      "metadata": {
        "id": "qvbnL7Hh6606"
      },
      "execution_count": null,
      "outputs": []
    },
    {
      "cell_type": "code",
      "source": [
        "num_inputs = 784\n",
        "num_outputs = 2\n",
        "\n",
        "w = tf.Variable(tf.random.normal(shape=(num_inputs, num_outputs),\n",
        "                                 mean=0, stddev=1))\n",
        "b = tf.Variable(tf.zeros(num_outputs))"
      ],
      "metadata": {
        "id": "IrtmLg_j7Cdg"
      },
      "execution_count": null,
      "outputs": []
    },
    {
      "cell_type": "code",
      "source": [
        "lr = 0.1\n",
        "num_epochs = 50\n",
        "w = tf.Variable(w)\n",
        "b = tf.Variable(b)\n",
        "loss_list = []\n",
        "\n",
        "for epoch in range(num_epochs):\n",
        "    for X, y in train_iter: \n",
        "      with tf.GradientTape() as g:\n",
        "        l = vbll(y, net(X))\n",
        "      dw, db = g.gradient(l, [w, b])\n",
        "      sgd([w, b], [dw, db], lr, batch_size)\n",
        "    train_l = vbll(y, net(X))\n",
        "    loss_list.append(tf.reduce_mean(train_l).numpy())\n",
        "    print(f'epoch {epoch + 1}, loss {float(tf.reduce_mean(train_l)):f}')"
      ],
      "metadata": {
        "colab": {
          "base_uri": "https://localhost:8080/"
        },
        "id": "3nQr7EMm7KfO",
        "outputId": "5a3b5667-c8d5-4325-c16a-9d2b33695243"
      },
      "execution_count": null,
      "outputs": [
        {
          "output_type": "stream",
          "name": "stdout",
          "text": [
            "epoch 1, loss 0.306434\n",
            "epoch 2, loss 0.330433\n",
            "epoch 3, loss 0.266792\n",
            "epoch 4, loss 0.297209\n",
            "epoch 5, loss 0.169003\n",
            "epoch 6, loss 0.234266\n",
            "epoch 7, loss 0.135263\n",
            "epoch 8, loss 0.185622\n",
            "epoch 9, loss 0.158106\n",
            "epoch 10, loss 0.160614\n",
            "epoch 11, loss 0.219540\n",
            "epoch 12, loss 0.089981\n",
            "epoch 13, loss 0.084956\n",
            "epoch 14, loss 0.040197\n",
            "epoch 15, loss 0.057087\n",
            "epoch 16, loss 0.114881\n",
            "epoch 17, loss 0.058844\n",
            "epoch 18, loss 0.034816\n",
            "epoch 19, loss 0.088276\n",
            "epoch 20, loss 0.220009\n",
            "epoch 21, loss 0.110332\n",
            "epoch 22, loss 0.127650\n",
            "epoch 23, loss 0.062731\n",
            "epoch 24, loss 0.085162\n",
            "epoch 25, loss 0.030961\n",
            "epoch 26, loss 0.093400\n",
            "epoch 27, loss 0.107037\n",
            "epoch 28, loss 0.057217\n",
            "epoch 29, loss 0.103271\n",
            "epoch 30, loss 0.059141\n",
            "epoch 31, loss 0.105823\n",
            "epoch 32, loss 0.057472\n",
            "epoch 33, loss 0.019890\n",
            "epoch 34, loss 0.119671\n",
            "epoch 35, loss 0.047990\n",
            "epoch 36, loss 0.136244\n",
            "epoch 37, loss 0.102437\n",
            "epoch 38, loss 0.113188\n",
            "epoch 39, loss 0.081172\n",
            "epoch 40, loss 0.101713\n",
            "epoch 41, loss 0.056373\n",
            "epoch 42, loss 0.085730\n",
            "epoch 43, loss 0.040136\n",
            "epoch 44, loss 0.050500\n",
            "epoch 45, loss 0.071624\n",
            "epoch 46, loss 0.095506\n",
            "epoch 47, loss 0.082166\n",
            "epoch 48, loss 0.037200\n",
            "epoch 49, loss 0.026378\n",
            "epoch 50, loss 0.070194\n"
          ]
        }
      ]
    },
    {
      "cell_type": "code",
      "source": [
        "plt.figure(2)\n",
        "plt.plot(np.arange(num_epochs), loss_list, 'b-o')\n",
        "#plt.plot(trHistory.history['loss'])\n",
        "plt.grid(True)\n",
        "plt.xlabel('Epoch #')\n",
        "plt.ylabel(\"Loss\")"
      ],
      "metadata": {
        "colab": {
          "base_uri": "https://localhost:8080/",
          "height": 296
        },
        "id": "BlyeF_8d7Nuo",
        "outputId": "7ef87cb9-27e5-49ff-adce-018bf3031031"
      },
      "execution_count": null,
      "outputs": [
        {
          "output_type": "execute_result",
          "data": {
            "text/plain": [
              "Text(0, 0.5, 'Loss')"
            ]
          },
          "metadata": {},
          "execution_count": 22
        },
        {
          "output_type": "display_data",
          "data": {
            "image/png": "[encoded data removed]",
            "text/plain": [
              "<Figure size 432x288 with 1 Axes>"
            ]
          },
          "metadata": {
            "needs_background": "light"
          }
        }
      ]
    },
    {
      "cell_type": "code",
      "source": [
        "count = 0\n",
        "for X, y in test_iter:\n",
        "  y_hat = softmax(net(X))\n",
        "  y_hat = tf.argmax(y_hat, axis=1)\n",
        "  y_hat = -1 + 2*y_hat\n",
        "  cmp = tf.cast(y_hat, y.dtype) == y\n",
        "  count += float(tf.reduce_sum(tf.cast(cmp, y.dtype)))\n",
        "count/len(y_test)"
      ],
      "metadata": {
        "colab": {
          "base_uri": "https://localhost:8080/"
        },
        "id": "4YrCbhzx7SLZ",
        "outputId": "6e9eecb7-996d-4188-9862-1dc8fe49375c"
      },
      "execution_count": null,
      "outputs": [
        {
          "output_type": "execute_result",
          "data": {
            "text/plain": [
              "0.9145"
            ]
          },
          "metadata": {},
          "execution_count": 23
        }
      ]
    },
    {
      "cell_type": "markdown",
      "source": [
        "If I increase the learning rate from 0.01 to 0.1, and make the standard deviation of random initilization of weight w to 1, I get the bad model, and the overall accuracy is decreased."
      ],
      "metadata": {
        "id": "PaVg1e5LNiwx"
      }
    },
    {
      "cell_type": "code",
      "source": [
        ""
      ],
      "metadata": {
        "id": "XSX4LXgkOfdq"
      },
      "execution_count": null,
      "outputs": []
    }
  ]
}