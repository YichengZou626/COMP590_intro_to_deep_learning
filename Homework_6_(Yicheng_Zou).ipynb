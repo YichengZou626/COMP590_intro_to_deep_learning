{
  "cells": [
    {
      "cell_type": "markdown",
      "metadata": {
        "id": "view-in-github",
        "colab_type": "text"
      },
      "source": [
        "<a href=\"https://colab.research.google.com/github/YichengZou626/COMP590_intro_to_deep_learning/blob/main/Homework_6_(Yicheng_Zou).ipynb\" target=\"_parent\"><img src=\"https://colab.research.google.com/assets/colab-badge.svg\" alt=\"Open In Colab\"/></a>"
      ]
    },
    {
      "cell_type": "markdown",
      "metadata": {
        "id": "VYovBDSbwfYD"
      },
      "source": [
        "# 1. Batch normalization (2 points)\n",
        "\n",
        "Please make use of the model code from Homework 5 question 2 as you work on this question.\n",
        "\n",
        "1. If your model didn't use batch normalization, add it. If it already had batch normalization, remove it. How does the performance change? Please experiment with different learning rate values, since batch normalization can allow a different range of learning rates to work. You are welcome to write your own batch norm implementaiton or use a pre-existing one from mxnet or pytorch.\n",
        "1. Plot the squared L2 norm of gradients with respect to parameters over the course of training with and without batch normalization. To do this, you will need to compute the gradient of the loss over some data with respect to each parameter, square these gradients, and sum the result across all parameters. You can compute this value at each training step, or after each epoch. What difference does batch normalization make in terms of the squared L2 norm of gradients?"
      ]
    },
    {
      "cell_type": "code",
      "execution_count": null,
      "metadata": {
        "id": "1VMHiqkR1fVG"
      },
      "outputs": [],
      "source": [
        "import torch\n",
        "import torch.nn as nn\n",
        "import torchvision\n",
        "import torchvision.transforms as transforms\n",
        "import numpy as np"
      ]
    },
    {
      "cell_type": "code",
      "execution_count": null,
      "metadata": {
        "id": "iDYZG8K21h1I"
      },
      "outputs": [],
      "source": [
        "device = torch.device('cuda' if torch.cuda.is_available() else 'cpu')"
      ]
    },
    {
      "cell_type": "code",
      "execution_count": null,
      "metadata": {
        "id": "JvTdQ76-1h3U"
      },
      "outputs": [],
      "source": [
        "#tune hyperparameters\n",
        "num_epochs = 30\n",
        "learning_rate = 0.003"
      ]
    },
    {
      "cell_type": "code",
      "execution_count": null,
      "metadata": {
        "id": "v2_Kbq7B1h5x"
      },
      "outputs": [],
      "source": [
        "#image preprocessing\n",
        "transform = transforms.Compose([\n",
        "    transforms.Pad(4),\n",
        "    transforms.RandomHorizontalFlip(),\n",
        "    transforms.RandomCrop(32),\n",
        "    transforms.ToTensor()])"
      ]
    },
    {
      "cell_type": "code",
      "execution_count": null,
      "metadata": {
        "colab": {
          "base_uri": "https://localhost:8080/",
          "height": 84,
          "referenced_widgets": [
            "8672797975d74839b678a6b342c8204b",
            "34cb9db4cd0240e0aef821d94cd5a7a3",
            "ff4b894b3bb640b097caff3ab32f0a96",
            "5bb90a5192e444978dfd56bf663ff02c",
            "cf2e9b875bcb4abf8b8a2bdfdb9256fd",
            "63435ffc446845d29b741edaf3f1d665",
            "3e8548305f724d9c975e49d3a52831b0",
            "2ac91c0baa5e49e18c0aee39416bb418",
            "02bc231d34b24487bd93940d864281a0",
            "b4faa7192e1342259a63fee949848a2b",
            "ae6a3ecf73124e16afdd1329e91bb18d"
          ]
        },
        "id": "vTlzChtd1h8J",
        "outputId": "36546a35-9065-43a2-ea65-b7ddbea10f91"
      },
      "outputs": [
        {
          "output_type": "stream",
          "name": "stdout",
          "text": [
            "Downloading https://www.cs.toronto.edu/~kriz/cifar-10-python.tar.gz to ../../data/cifar-10-python.tar.gz\n"
          ]
        },
        {
          "output_type": "display_data",
          "data": {
            "application/vnd.jupyter.widget-view+json": {
              "model_id": "8672797975d74839b678a6b342c8204b",
              "version_minor": 0,
              "version_major": 2
            },
            "text/plain": [
              "  0%|          | 0/170498071 [00:00<?, ?it/s]"
            ]
          },
          "metadata": {}
        },
        {
          "output_type": "stream",
          "name": "stdout",
          "text": [
            "Extracting ../../data/cifar-10-python.tar.gz to ../../data/\n"
          ]
        }
      ],
      "source": [
        "#download dataset and split into train and test \n",
        "train_dataset = torchvision.datasets.CIFAR10(root='../../data/',\n",
        "                                             train=True, \n",
        "                                             transform=transform,\n",
        "                                             download=True)\n",
        "\n",
        "test_dataset = torchvision.datasets.CIFAR10(root='../../data/',\n",
        "                                            train=False, \n",
        "                                            transform=transforms.ToTensor())\n",
        "\n",
        "\n",
        "train_loader = torch.utils.data.DataLoader(dataset=train_dataset,\n",
        "                                           batch_size=100, \n",
        "                                           shuffle=True)\n",
        "\n",
        "test_loader = torch.utils.data.DataLoader(dataset=test_dataset,\n",
        "                                          batch_size=100, \n",
        "                                          shuffle=False)"
      ]
    },
    {
      "cell_type": "code",
      "execution_count": null,
      "metadata": {
        "id": "CzYF9kDz1h-o"
      },
      "outputs": [],
      "source": [
        "# Convolution filter of 3x3\n",
        "def conv3x3(in_channels, out_channels, stride=1):\n",
        "    return nn.Conv2d(in_channels, out_channels, kernel_size=3, \n",
        "                     stride=stride, padding=1, bias=False)"
      ]
    },
    {
      "cell_type": "code",
      "execution_count": null,
      "metadata": {
        "id": "mvrbgPY59vij"
      },
      "outputs": [],
      "source": [
        "# Residual block\n",
        "class ResidualBlock(nn.Module):\n",
        "    def __init__(self, in_channels, out_channels, stride=1, downsample=None):\n",
        "        super(ResidualBlock, self).__init__()\n",
        "        self.conv1 = conv3x3(in_channels, out_channels, stride)\n",
        "        self.bn1 = nn.BatchNorm2d(out_channels)\n",
        "        self.relu = nn.ReLU(inplace=True)\n",
        "        self.conv2 = conv3x3(out_channels, out_channels)\n",
        "        self.bn2 = nn.BatchNorm2d(out_channels)\n",
        "        self.downsample = downsample\n",
        "\n",
        "\n",
        "    def forward(self, x):\n",
        "        residual = x\n",
        "        out = self.conv1(x)\n",
        "        out = self.bn1(out)\n",
        "        out = self.relu(out)\n",
        "        out = self.conv2(out)\n",
        "        out = self.bn2(out)\n",
        "        if self.downsample:\n",
        "            residual = self.downsample(x)\n",
        "        out += residual\n",
        "        out = self.relu(out)\n",
        "        return out\n",
        "\n",
        "# ResNet\n",
        "class ResNet(nn.Module):\n",
        "    def __init__(self, block, layers, num_classes=10):\n",
        "        super(ResNet, self).__init__()\n",
        "        self.in_channels = 16\n",
        "        self.conv = conv3x3(3, 16)\n",
        "        self.bn = nn.BatchNorm2d(16)\n",
        "        self.relu = nn.ReLU(inplace=True)\n",
        "        self.layer1 = self.make_layer(block, 16, layers[0])\n",
        "        self.layer2 = self.make_layer(block, 32, layers[1], 2)\n",
        "        self.layer3 = self.make_layer(block, 64, layers[2], 2)\n",
        "        self.avg_pool = nn.AvgPool2d(8)\n",
        "        self.fc = nn.Linear(64, num_classes)\n",
        "\n",
        "    def make_layer(self, block, out_channels, blocks, stride=1):\n",
        "        downsample = None\n",
        "        if (stride != 1) or (self.in_channels != out_channels):\n",
        "            downsample = nn.Sequential(\n",
        "                conv3x3(self.in_channels, out_channels, stride=stride),\n",
        "                nn.BatchNorm2d(out_channels))\n",
        "        layers = []\n",
        "        layers.append(block(self.in_channels, out_channels, stride, downsample))\n",
        "        self.in_channels = out_channels\n",
        "        for i in range(1, blocks):\n",
        "            layers.append(block(out_channels, out_channels))\n",
        "        return nn.Sequential(*layers)\n",
        "\n",
        "    def forward(self, x):\n",
        "        out = self.conv(x)\n",
        "        out = self.bn(out)\n",
        "        out = self.relu(out)\n",
        "        out = self.layer1(out)\n",
        "        out = self.layer2(out)\n",
        "        out = self.layer3(out)\n",
        "        out = self.avg_pool(out)\n",
        "        out = out.view(out.size(0), -1)\n",
        "        out = self.fc(out)\n",
        "        return out\n",
        "\n",
        "model = ResNet(ResidualBlock, [2, 2, 2]).to(device)"
      ]
    },
    {
      "cell_type": "code",
      "execution_count": null,
      "metadata": {
        "id": "GtIHMml-9yzA"
      },
      "outputs": [],
      "source": [
        "# Loss and optimizer\n",
        "criterion = nn.CrossEntropyLoss()\n",
        "optimizer = torch.optim.Adam(model.parameters(), lr=learning_rate)"
      ]
    },
    {
      "cell_type": "code",
      "execution_count": null,
      "metadata": {
        "id": "qEW_M2dm90nd"
      },
      "outputs": [],
      "source": [
        "# For updating learning rate\n",
        "def update_lr(optimizer, lr):    \n",
        "    for param_group in optimizer.param_groups:\n",
        "        param_group['lr'] = lr"
      ]
    },
    {
      "cell_type": "code",
      "execution_count": null,
      "metadata": {
        "colab": {
          "base_uri": "https://localhost:8080/"
        },
        "id": "MIXOlsRU94z6",
        "outputId": "5631811b-1cc7-4a61-dfa4-828d8a1395fa"
      },
      "outputs": [
        {
          "output_type": "stream",
          "name": "stdout",
          "text": [
            "Epoch [1/30], Step [100/500] Loss: 1.6205\n",
            "Epoch [1/30], Step [200/500] Loss: 1.6335\n",
            "Epoch [1/30], Step [300/500] Loss: 1.5941\n",
            "Epoch [1/30], Step [400/500] Loss: 1.2847\n",
            "Epoch [1/30], Step [500/500] Loss: 1.2184\n",
            "Epoch [2/30], Step [100/500] Loss: 1.0161\n",
            "Epoch [2/30], Step [200/500] Loss: 0.8776\n",
            "Epoch [2/30], Step [300/500] Loss: 1.0102\n",
            "Epoch [2/30], Step [400/500] Loss: 0.9194\n",
            "Epoch [2/30], Step [500/500] Loss: 1.1378\n",
            "Epoch [3/30], Step [100/500] Loss: 0.8302\n",
            "Epoch [3/30], Step [200/500] Loss: 0.8123\n",
            "Epoch [3/30], Step [300/500] Loss: 1.1278\n",
            "Epoch [3/30], Step [400/500] Loss: 0.8104\n",
            "Epoch [3/30], Step [500/500] Loss: 0.9296\n",
            "Epoch [4/30], Step [100/500] Loss: 0.8214\n",
            "Epoch [4/30], Step [200/500] Loss: 0.8647\n",
            "Epoch [4/30], Step [300/500] Loss: 0.6126\n",
            "Epoch [4/30], Step [400/500] Loss: 0.6127\n",
            "Epoch [4/30], Step [500/500] Loss: 0.6437\n",
            "Epoch [5/30], Step [100/500] Loss: 0.7545\n",
            "Epoch [5/30], Step [200/500] Loss: 0.7249\n",
            "Epoch [5/30], Step [300/500] Loss: 0.6793\n",
            "Epoch [5/30], Step [400/500] Loss: 0.8129\n",
            "Epoch [5/30], Step [500/500] Loss: 0.7279\n",
            "Epoch [6/30], Step [100/500] Loss: 0.6797\n",
            "Epoch [6/30], Step [200/500] Loss: 0.5280\n",
            "Epoch [6/30], Step [300/500] Loss: 0.6155\n",
            "Epoch [6/30], Step [400/500] Loss: 0.6574\n",
            "Epoch [6/30], Step [500/500] Loss: 0.8712\n",
            "Epoch [7/30], Step [100/500] Loss: 0.5830\n",
            "Epoch [7/30], Step [200/500] Loss: 0.5561\n",
            "Epoch [7/30], Step [300/500] Loss: 0.6372\n",
            "Epoch [7/30], Step [400/500] Loss: 0.5836\n",
            "Epoch [7/30], Step [500/500] Loss: 0.5984\n",
            "Epoch [8/30], Step [100/500] Loss: 0.4479\n",
            "Epoch [8/30], Step [200/500] Loss: 0.4859\n",
            "Epoch [8/30], Step [300/500] Loss: 0.5772\n",
            "Epoch [8/30], Step [400/500] Loss: 0.5673\n",
            "Epoch [8/30], Step [500/500] Loss: 0.5152\n",
            "Epoch [9/30], Step [100/500] Loss: 0.6127\n",
            "Epoch [9/30], Step [200/500] Loss: 0.3465\n",
            "Epoch [9/30], Step [300/500] Loss: 0.3552\n",
            "Epoch [9/30], Step [400/500] Loss: 0.7101\n",
            "Epoch [9/30], Step [500/500] Loss: 0.4620\n",
            "Epoch [10/30], Step [100/500] Loss: 0.5909\n",
            "Epoch [10/30], Step [200/500] Loss: 0.2995\n",
            "Epoch [10/30], Step [300/500] Loss: 0.7382\n",
            "Epoch [10/30], Step [400/500] Loss: 0.6300\n",
            "Epoch [10/30], Step [500/500] Loss: 0.2836\n",
            "Epoch [11/30], Step [100/500] Loss: 0.4364\n",
            "Epoch [11/30], Step [200/500] Loss: 0.5774\n",
            "Epoch [11/30], Step [300/500] Loss: 0.5739\n",
            "Epoch [11/30], Step [400/500] Loss: 0.4642\n",
            "Epoch [11/30], Step [500/500] Loss: 0.4864\n",
            "Epoch [12/30], Step [100/500] Loss: 0.3857\n",
            "Epoch [12/30], Step [200/500] Loss: 0.4363\n",
            "Epoch [12/30], Step [300/500] Loss: 0.5378\n",
            "Epoch [12/30], Step [400/500] Loss: 0.3769\n",
            "Epoch [12/30], Step [500/500] Loss: 0.3704\n",
            "Epoch [13/30], Step [100/500] Loss: 0.4791\n",
            "Epoch [13/30], Step [200/500] Loss: 0.4953\n",
            "Epoch [13/30], Step [300/500] Loss: 0.3150\n",
            "Epoch [13/30], Step [400/500] Loss: 0.4120\n",
            "Epoch [13/30], Step [500/500] Loss: 0.4974\n",
            "Epoch [14/30], Step [100/500] Loss: 0.4651\n",
            "Epoch [14/30], Step [200/500] Loss: 0.5239\n",
            "Epoch [14/30], Step [300/500] Loss: 0.3862\n",
            "Epoch [14/30], Step [400/500] Loss: 0.5066\n",
            "Epoch [14/30], Step [500/500] Loss: 0.2260\n",
            "Epoch [15/30], Step [100/500] Loss: 0.3377\n",
            "Epoch [15/30], Step [200/500] Loss: 0.4762\n",
            "Epoch [15/30], Step [300/500] Loss: 0.4067\n",
            "Epoch [15/30], Step [400/500] Loss: 0.3638\n",
            "Epoch [15/30], Step [500/500] Loss: 0.5182\n",
            "Epoch [16/30], Step [100/500] Loss: 0.3858\n",
            "Epoch [16/30], Step [200/500] Loss: 0.4278\n",
            "Epoch [16/30], Step [300/500] Loss: 0.5227\n",
            "Epoch [16/30], Step [400/500] Loss: 0.4459\n",
            "Epoch [16/30], Step [500/500] Loss: 0.3293\n",
            "Epoch [17/30], Step [100/500] Loss: 0.2686\n",
            "Epoch [17/30], Step [200/500] Loss: 0.4826\n",
            "Epoch [17/30], Step [300/500] Loss: 0.3505\n",
            "Epoch [17/30], Step [400/500] Loss: 0.2928\n",
            "Epoch [17/30], Step [500/500] Loss: 0.4066\n",
            "Epoch [18/30], Step [100/500] Loss: 0.3710\n",
            "Epoch [18/30], Step [200/500] Loss: 0.4148\n",
            "Epoch [18/30], Step [300/500] Loss: 0.4207\n",
            "Epoch [18/30], Step [400/500] Loss: 0.3997\n",
            "Epoch [18/30], Step [500/500] Loss: 0.3025\n",
            "Epoch [19/30], Step [100/500] Loss: 0.4058\n",
            "Epoch [19/30], Step [200/500] Loss: 0.4190\n",
            "Epoch [19/30], Step [300/500] Loss: 0.3736\n",
            "Epoch [19/30], Step [400/500] Loss: 0.4134\n",
            "Epoch [19/30], Step [500/500] Loss: 0.5158\n",
            "Epoch [20/30], Step [100/500] Loss: 0.2815\n",
            "Epoch [20/30], Step [200/500] Loss: 0.4227\n",
            "Epoch [20/30], Step [300/500] Loss: 0.4774\n",
            "Epoch [20/30], Step [400/500] Loss: 0.2781\n",
            "Epoch [20/30], Step [500/500] Loss: 0.3971\n",
            "Epoch [21/30], Step [100/500] Loss: 0.4202\n",
            "Epoch [21/30], Step [200/500] Loss: 0.2102\n",
            "Epoch [21/30], Step [300/500] Loss: 0.2863\n",
            "Epoch [21/30], Step [400/500] Loss: 0.3043\n",
            "Epoch [21/30], Step [500/500] Loss: 0.3464\n",
            "Epoch [22/30], Step [100/500] Loss: 0.1947\n",
            "Epoch [22/30], Step [200/500] Loss: 0.1488\n",
            "Epoch [22/30], Step [300/500] Loss: 0.2751\n",
            "Epoch [22/30], Step [400/500] Loss: 0.2738\n",
            "Epoch [22/30], Step [500/500] Loss: 0.1719\n",
            "Epoch [23/30], Step [100/500] Loss: 0.1661\n",
            "Epoch [23/30], Step [200/500] Loss: 0.1937\n",
            "Epoch [23/30], Step [300/500] Loss: 0.1514\n",
            "Epoch [23/30], Step [400/500] Loss: 0.2486\n",
            "Epoch [23/30], Step [500/500] Loss: 0.2428\n",
            "Epoch [24/30], Step [100/500] Loss: 0.1565\n",
            "Epoch [24/30], Step [200/500] Loss: 0.1981\n",
            "Epoch [24/30], Step [300/500] Loss: 0.2647\n",
            "Epoch [24/30], Step [400/500] Loss: 0.1913\n",
            "Epoch [24/30], Step [500/500] Loss: 0.4035\n",
            "Epoch [25/30], Step [100/500] Loss: 0.2349\n",
            "Epoch [25/30], Step [200/500] Loss: 0.2167\n",
            "Epoch [25/30], Step [300/500] Loss: 0.3369\n",
            "Epoch [25/30], Step [400/500] Loss: 0.3713\n",
            "Epoch [25/30], Step [500/500] Loss: 0.1792\n",
            "Epoch [26/30], Step [100/500] Loss: 0.1965\n",
            "Epoch [26/30], Step [200/500] Loss: 0.1217\n",
            "Epoch [26/30], Step [300/500] Loss: 0.1839\n",
            "Epoch [26/30], Step [400/500] Loss: 0.3495\n",
            "Epoch [26/30], Step [500/500] Loss: 0.2810\n",
            "Epoch [27/30], Step [100/500] Loss: 0.2489\n",
            "Epoch [27/30], Step [200/500] Loss: 0.1732\n",
            "Epoch [27/30], Step [300/500] Loss: 0.2568\n",
            "Epoch [27/30], Step [400/500] Loss: 0.1758\n",
            "Epoch [27/30], Step [500/500] Loss: 0.4378\n",
            "Epoch [28/30], Step [100/500] Loss: 0.2173\n",
            "Epoch [28/30], Step [200/500] Loss: 0.2314\n",
            "Epoch [28/30], Step [300/500] Loss: 0.2002\n",
            "Epoch [28/30], Step [400/500] Loss: 0.3078\n",
            "Epoch [28/30], Step [500/500] Loss: 0.2032\n",
            "Epoch [29/30], Step [100/500] Loss: 0.1731\n",
            "Epoch [29/30], Step [200/500] Loss: 0.1633\n",
            "Epoch [29/30], Step [300/500] Loss: 0.1585\n",
            "Epoch [29/30], Step [400/500] Loss: 0.1226\n",
            "Epoch [29/30], Step [500/500] Loss: 0.3018\n",
            "Epoch [30/30], Step [100/500] Loss: 0.2256\n",
            "Epoch [30/30], Step [200/500] Loss: 0.0785\n",
            "Epoch [30/30], Step [300/500] Loss: 0.1226\n",
            "Epoch [30/30], Step [400/500] Loss: 0.3238\n",
            "Epoch [30/30], Step [500/500] Loss: 0.1318\n"
          ]
        }
      ],
      "source": [
        "# Train the model\n",
        "total_step = len(train_loader)\n",
        "curr_lr = learning_rate\n",
        "grads_list = []\n",
        "\n",
        "for epoch in range(num_epochs):\n",
        "    for i, (images, labels) in enumerate(train_loader):\n",
        "        images = images.to(device)\n",
        "        labels = labels.to(device)\n",
        "\n",
        "        # Forward pass\n",
        "        outputs = model(images)\n",
        "        loss = criterion(outputs, labels)\n",
        "\n",
        "        # Backward and optimize\n",
        "        optimizer.zero_grad()\n",
        "        loss.backward()\n",
        "        optimizer.step()\n",
        "\n",
        "\n",
        "        if (i+1) % 100 == 0:\n",
        "            print (\"Epoch [{}/{}], Step [{}/{}] Loss: {:.4f}\"\n",
        "                   .format(epoch+1, num_epochs, i+1, total_step, loss.item()))\n",
        "    grads = 0\n",
        "    for w in model.parameters():\n",
        "      grad = w.grad.cpu().detach().numpy()\n",
        "      grad = np.sum(np.sum(grad*grad))\n",
        "      grads+=grad\n",
        "    grads_list.append(grads)\n",
        "\n",
        "    # Decay learning rate\n",
        "    if (epoch+1) % 20 == 0:\n",
        "        curr_lr /= 3\n",
        "        update_lr(optimizer, curr_lr)"
      ]
    },
    {
      "cell_type": "code",
      "execution_count": null,
      "metadata": {
        "id": "1FlANKpn-5wV",
        "colab": {
          "base_uri": "https://localhost:8080/",
          "height": 313
        },
        "outputId": "1c961b4d-3866-43c6-a79f-f76037ca1fa4"
      },
      "outputs": [
        {
          "output_type": "execute_result",
          "data": {
            "text/plain": [
              "Text(0.5, 1.0, 'gradient over training')"
            ]
          },
          "metadata": {},
          "execution_count": 11
        },
        {
          "output_type": "display_data",
          "data": {
            "image/png": "[encoded data removed]",
            "text/plain": [
              "<Figure size 432x288 with 1 Axes>"
            ]
          },
          "metadata": {
            "needs_background": "light"
          }
        }
      ],
      "source": [
        "import matplotlib.pyplot as plt\n",
        "\n",
        "plt.plot(np.arange(len(grads_list)), grads_list)\n",
        "\n",
        "plt.xlabel('epoch time') \n",
        "plt.ylabel('Squared L2 norm of gradient') \n",
        "plt.title('gradient over training') "
      ]
    },
    {
      "cell_type": "code",
      "execution_count": null,
      "metadata": {
        "colab": {
          "base_uri": "https://localhost:8080/"
        },
        "id": "z4Mzy8O7-6NP",
        "outputId": "f71ce2f3-9ade-4f6a-9143-e2660dca38d8"
      },
      "outputs": [
        {
          "output_type": "stream",
          "name": "stdout",
          "text": [
            "Accuracy of the model on the test images: 87.98 %\n"
          ]
        }
      ],
      "source": [
        "# Test the model\n",
        "model.eval()\n",
        "with torch.no_grad():\n",
        "    count = 0\n",
        "    total = 0\n",
        "    for images, labels in test_loader:\n",
        "        images = images.to(device)\n",
        "        labels = labels.to(device)\n",
        "        outputs = model(images)\n",
        "        _, predicted = torch.max(outputs.data, 1)\n",
        "        total += labels.size(0)\n",
        "        count += (predicted == labels).sum().item()\n",
        "\n",
        "    print('Accuracy of the model on the test images: {} %'.format(100 * count / total))"
      ]
    },
    {
      "cell_type": "markdown",
      "metadata": {
        "id": "VH2WsNxr9-3V"
      },
      "source": [
        "Remove batch normalization and set learning rate as before (lr = 0.003)"
      ]
    },
    {
      "cell_type": "code",
      "execution_count": null,
      "metadata": {
        "id": "lX4nvyKP1iAz"
      },
      "outputs": [],
      "source": [
        "# remove batch normalization for each residual block\n",
        "# Residual block\n",
        "class ResidualBlock(nn.Module):\n",
        "    def __init__(self, in_channels, out_channels, stride=1, downsample=None):\n",
        "        super(ResidualBlock, self).__init__()\n",
        "        self.conv1 = conv3x3(in_channels, out_channels, stride)\n",
        "        #self.bn1 = nn.BatchNorm2d(out_channels)\n",
        "        self.relu = nn.ReLU(inplace=True)\n",
        "        self.conv2 = conv3x3(out_channels, out_channels)\n",
        "        #self.bn2 = nn.BatchNorm2d(out_channels)\n",
        "        self.downsample = downsample\n",
        "\n",
        "\n",
        "    def forward(self, x):\n",
        "        residual = x\n",
        "        out = self.conv1(x)\n",
        "        #out = self.bn1(out)\n",
        "        out = self.relu(out)\n",
        "        out = self.conv2(out)\n",
        "        #out = self.bn2(out)\n",
        "        if self.downsample:\n",
        "            residual = self.downsample(x)\n",
        "        out += residual\n",
        "        out = self.relu(out)\n",
        "        return out\n",
        "\n",
        "# ResNet\n",
        "class ResNet(nn.Module):\n",
        "    def __init__(self, block, layers, num_classes=10):\n",
        "        super(ResNet, self).__init__()\n",
        "        self.in_channels = 16\n",
        "        self.conv = conv3x3(3, 16)\n",
        "        #self.bn = nn.BatchNorm2d(16)\n",
        "        self.relu = nn.ReLU(inplace=True)\n",
        "        self.layer1 = self.make_layer(block, 16, layers[0])\n",
        "        self.layer2 = self.make_layer(block, 32, layers[1], 2)\n",
        "        self.layer3 = self.make_layer(block, 64, layers[2], 2)\n",
        "        self.avg_pool = nn.AvgPool2d(8)\n",
        "        self.fc = nn.Linear(64, num_classes)\n",
        "\n",
        "    def make_layer(self, block, out_channels, blocks, stride=1):\n",
        "        downsample = None\n",
        "        if (stride != 1) or (self.in_channels != out_channels):\n",
        "            downsample = nn.Sequential(\n",
        "                conv3x3(self.in_channels, out_channels, stride=stride))\n",
        "        layers = []\n",
        "        layers.append(block(self.in_channels, out_channels, stride, downsample))\n",
        "        self.in_channels = out_channels\n",
        "        for i in range(1, blocks):\n",
        "            layers.append(block(out_channels, out_channels))\n",
        "        return nn.Sequential(*layers)\n",
        "\n",
        "    def forward(self, x):\n",
        "        out = self.conv(x)\n",
        "        #out = self.bn(out)\n",
        "        out = self.relu(out)\n",
        "        out = self.layer1(out)\n",
        "        out = self.layer2(out)\n",
        "        out = self.layer3(out)\n",
        "        out = self.avg_pool(out)\n",
        "        out = out.view(out.size(0), -1)\n",
        "        out = self.fc(out)\n",
        "        return out\n",
        "\n"
      ]
    },
    {
      "cell_type": "code",
      "execution_count": null,
      "metadata": {
        "id": "ZlNfS847-Xic"
      },
      "outputs": [],
      "source": [
        "#tune hyperparameters\n",
        "num_epochs = 30\n",
        "learning_rate = 0.003\n",
        "model_noBN = ResNet(ResidualBlock, [2, 2, 2]).to(device)"
      ]
    },
    {
      "cell_type": "code",
      "execution_count": null,
      "metadata": {
        "id": "36QeuRp81iCu"
      },
      "outputs": [],
      "source": [
        "# Loss and optimizer\n",
        "criterion = nn.CrossEntropyLoss()\n",
        "optimizer = torch.optim.Adam(model_noBN.parameters(), lr=learning_rate)"
      ]
    },
    {
      "cell_type": "code",
      "execution_count": null,
      "metadata": {
        "id": "LV-VzLNN1uLJ"
      },
      "outputs": [],
      "source": [
        "# For updating learning rate\n",
        "def update_lr(optimizer, lr):    \n",
        "    for param_group in optimizer.param_groups:\n",
        "        param_group['lr'] = lr"
      ]
    },
    {
      "cell_type": "code",
      "execution_count": null,
      "metadata": {
        "colab": {
          "base_uri": "https://localhost:8080/"
        },
        "id": "AbYxMcrz1uNc",
        "outputId": "297c044a-eaab-4621-b73c-68d999aa6967"
      },
      "outputs": [
        {
          "output_type": "stream",
          "name": "stdout",
          "text": [
            "Epoch [1/30], Step [100/500] Loss: 2.0425\n",
            "Epoch [1/30], Step [200/500] Loss: 1.9358\n",
            "Epoch [1/30], Step [300/500] Loss: 1.8664\n",
            "Epoch [1/30], Step [400/500] Loss: 1.5726\n",
            "Epoch [1/30], Step [500/500] Loss: 1.6262\n",
            "Epoch [2/30], Step [100/500] Loss: 1.6827\n",
            "Epoch [2/30], Step [200/500] Loss: 1.6160\n",
            "Epoch [2/30], Step [300/500] Loss: 1.5613\n",
            "Epoch [2/30], Step [400/500] Loss: 1.4260\n",
            "Epoch [2/30], Step [500/500] Loss: 1.3880\n",
            "Epoch [3/30], Step [100/500] Loss: 1.2334\n",
            "Epoch [3/30], Step [200/500] Loss: 1.1873\n",
            "Epoch [3/30], Step [300/500] Loss: 1.2527\n",
            "Epoch [3/30], Step [400/500] Loss: 1.2804\n",
            "Epoch [3/30], Step [500/500] Loss: 1.2841\n",
            "Epoch [4/30], Step [100/500] Loss: 1.0852\n",
            "Epoch [4/30], Step [200/500] Loss: 1.2039\n",
            "Epoch [4/30], Step [300/500] Loss: 1.3821\n",
            "Epoch [4/30], Step [400/500] Loss: 1.1375\n",
            "Epoch [4/30], Step [500/500] Loss: 1.2564\n",
            "Epoch [5/30], Step [100/500] Loss: 1.3074\n",
            "Epoch [5/30], Step [200/500] Loss: 1.2051\n",
            "Epoch [5/30], Step [300/500] Loss: 1.0445\n",
            "Epoch [5/30], Step [400/500] Loss: 0.9098\n",
            "Epoch [5/30], Step [500/500] Loss: 0.9694\n",
            "Epoch [6/30], Step [100/500] Loss: 1.0731\n",
            "Epoch [6/30], Step [200/500] Loss: 1.1158\n",
            "Epoch [6/30], Step [300/500] Loss: 1.3156\n",
            "Epoch [6/30], Step [400/500] Loss: 0.9205\n",
            "Epoch [6/30], Step [500/500] Loss: 1.2353\n",
            "Epoch [7/30], Step [100/500] Loss: 0.8843\n",
            "Epoch [7/30], Step [200/500] Loss: 1.0397\n",
            "Epoch [7/30], Step [300/500] Loss: 0.9257\n",
            "Epoch [7/30], Step [400/500] Loss: 0.9430\n",
            "Epoch [7/30], Step [500/500] Loss: 0.9523\n",
            "Epoch [8/30], Step [100/500] Loss: 0.9060\n",
            "Epoch [8/30], Step [200/500] Loss: 0.9834\n",
            "Epoch [8/30], Step [300/500] Loss: 0.9152\n",
            "Epoch [8/30], Step [400/500] Loss: 0.6842\n",
            "Epoch [8/30], Step [500/500] Loss: 1.2448\n",
            "Epoch [9/30], Step [100/500] Loss: 0.8592\n",
            "Epoch [9/30], Step [200/500] Loss: 0.8214\n",
            "Epoch [9/30], Step [300/500] Loss: 1.0554\n",
            "Epoch [9/30], Step [400/500] Loss: 0.9920\n",
            "Epoch [9/30], Step [500/500] Loss: 0.9034\n",
            "Epoch [10/30], Step [100/500] Loss: 0.6535\n",
            "Epoch [10/30], Step [200/500] Loss: 0.8895\n",
            "Epoch [10/30], Step [300/500] Loss: 0.6504\n",
            "Epoch [10/30], Step [400/500] Loss: 0.8511\n",
            "Epoch [10/30], Step [500/500] Loss: 0.8963\n",
            "Epoch [11/30], Step [100/500] Loss: 0.9268\n",
            "Epoch [11/30], Step [200/500] Loss: 0.9618\n",
            "Epoch [11/30], Step [300/500] Loss: 0.7803\n",
            "Epoch [11/30], Step [400/500] Loss: 0.6982\n",
            "Epoch [11/30], Step [500/500] Loss: 0.8246\n",
            "Epoch [12/30], Step [100/500] Loss: 0.8502\n",
            "Epoch [12/30], Step [200/500] Loss: 0.7905\n",
            "Epoch [12/30], Step [300/500] Loss: 0.7890\n",
            "Epoch [12/30], Step [400/500] Loss: 0.7621\n",
            "Epoch [12/30], Step [500/500] Loss: 0.9111\n",
            "Epoch [13/30], Step [100/500] Loss: 0.7222\n",
            "Epoch [13/30], Step [200/500] Loss: 0.8417\n",
            "Epoch [13/30], Step [300/500] Loss: 0.8849\n",
            "Epoch [13/30], Step [400/500] Loss: 0.7586\n",
            "Epoch [13/30], Step [500/500] Loss: 0.7693\n",
            "Epoch [14/30], Step [100/500] Loss: 0.8286\n",
            "Epoch [14/30], Step [200/500] Loss: 0.7040\n",
            "Epoch [14/30], Step [300/500] Loss: 0.6791\n",
            "Epoch [14/30], Step [400/500] Loss: 0.8741\n",
            "Epoch [14/30], Step [500/500] Loss: 0.7657\n",
            "Epoch [15/30], Step [100/500] Loss: 0.8611\n",
            "Epoch [15/30], Step [200/500] Loss: 0.6274\n",
            "Epoch [15/30], Step [300/500] Loss: 0.6150\n",
            "Epoch [15/30], Step [400/500] Loss: 0.7581\n",
            "Epoch [15/30], Step [500/500] Loss: 0.8158\n",
            "Epoch [16/30], Step [100/500] Loss: 0.7330\n",
            "Epoch [16/30], Step [200/500] Loss: 0.5608\n",
            "Epoch [16/30], Step [300/500] Loss: 0.6538\n",
            "Epoch [16/30], Step [400/500] Loss: 0.7844\n",
            "Epoch [16/30], Step [500/500] Loss: 0.6817\n",
            "Epoch [17/30], Step [100/500] Loss: 0.6544\n",
            "Epoch [17/30], Step [200/500] Loss: 0.6096\n",
            "Epoch [17/30], Step [300/500] Loss: 0.6230\n",
            "Epoch [17/30], Step [400/500] Loss: 0.8260\n",
            "Epoch [17/30], Step [500/500] Loss: 0.5857\n",
            "Epoch [18/30], Step [100/500] Loss: 0.6380\n",
            "Epoch [18/30], Step [200/500] Loss: 0.7009\n",
            "Epoch [18/30], Step [300/500] Loss: 0.4862\n",
            "Epoch [18/30], Step [400/500] Loss: 0.6849\n",
            "Epoch [18/30], Step [500/500] Loss: 0.7201\n",
            "Epoch [19/30], Step [100/500] Loss: 0.9034\n",
            "Epoch [19/30], Step [200/500] Loss: 0.7605\n",
            "Epoch [19/30], Step [300/500] Loss: 0.5079\n",
            "Epoch [19/30], Step [400/500] Loss: 0.8174\n",
            "Epoch [19/30], Step [500/500] Loss: 0.6002\n",
            "Epoch [20/30], Step [100/500] Loss: 0.7591\n",
            "Epoch [20/30], Step [200/500] Loss: 0.8119\n",
            "Epoch [20/30], Step [300/500] Loss: 0.8829\n",
            "Epoch [20/30], Step [400/500] Loss: 0.7696\n",
            "Epoch [20/30], Step [500/500] Loss: 0.5728\n",
            "Epoch [21/30], Step [100/500] Loss: 0.5845\n",
            "Epoch [21/30], Step [200/500] Loss: 0.6447\n",
            "Epoch [21/30], Step [300/500] Loss: 0.6177\n",
            "Epoch [21/30], Step [400/500] Loss: 0.5069\n",
            "Epoch [21/30], Step [500/500] Loss: 0.4818\n",
            "Epoch [22/30], Step [100/500] Loss: 0.6000\n",
            "Epoch [22/30], Step [200/500] Loss: 0.5916\n",
            "Epoch [22/30], Step [300/500] Loss: 0.4329\n",
            "Epoch [22/30], Step [400/500] Loss: 0.6716\n",
            "Epoch [22/30], Step [500/500] Loss: 0.6878\n",
            "Epoch [23/30], Step [100/500] Loss: 0.6902\n",
            "Epoch [23/30], Step [200/500] Loss: 0.5160\n",
            "Epoch [23/30], Step [300/500] Loss: 0.6343\n",
            "Epoch [23/30], Step [400/500] Loss: 0.5078\n",
            "Epoch [23/30], Step [500/500] Loss: 0.6059\n",
            "Epoch [24/30], Step [100/500] Loss: 0.6046\n",
            "Epoch [24/30], Step [200/500] Loss: 0.6756\n",
            "Epoch [24/30], Step [300/500] Loss: 0.5979\n",
            "Epoch [24/30], Step [400/500] Loss: 0.4685\n",
            "Epoch [24/30], Step [500/500] Loss: 0.7248\n",
            "Epoch [25/30], Step [100/500] Loss: 0.5073\n",
            "Epoch [25/30], Step [200/500] Loss: 0.7331\n",
            "Epoch [25/30], Step [300/500] Loss: 0.6855\n",
            "Epoch [25/30], Step [400/500] Loss: 0.8127\n",
            "Epoch [25/30], Step [500/500] Loss: 0.4394\n",
            "Epoch [26/30], Step [100/500] Loss: 0.7060\n",
            "Epoch [26/30], Step [200/500] Loss: 0.7039\n",
            "Epoch [26/30], Step [300/500] Loss: 0.5141\n",
            "Epoch [26/30], Step [400/500] Loss: 0.6289\n",
            "Epoch [26/30], Step [500/500] Loss: 0.7533\n",
            "Epoch [27/30], Step [100/500] Loss: 0.5487\n",
            "Epoch [27/30], Step [200/500] Loss: 0.6234\n",
            "Epoch [27/30], Step [300/500] Loss: 0.5013\n",
            "Epoch [27/30], Step [400/500] Loss: 0.6799\n",
            "Epoch [27/30], Step [500/500] Loss: 0.8606\n",
            "Epoch [28/30], Step [100/500] Loss: 0.5256\n",
            "Epoch [28/30], Step [200/500] Loss: 0.5756\n",
            "Epoch [28/30], Step [300/500] Loss: 0.5131\n",
            "Epoch [28/30], Step [400/500] Loss: 0.5120\n",
            "Epoch [28/30], Step [500/500] Loss: 0.5043\n",
            "Epoch [29/30], Step [100/500] Loss: 0.4936\n",
            "Epoch [29/30], Step [200/500] Loss: 0.4643\n",
            "Epoch [29/30], Step [300/500] Loss: 0.4388\n",
            "Epoch [29/30], Step [400/500] Loss: 0.5689\n",
            "Epoch [29/30], Step [500/500] Loss: 0.5400\n",
            "Epoch [30/30], Step [100/500] Loss: 0.4472\n",
            "Epoch [30/30], Step [200/500] Loss: 0.6000\n",
            "Epoch [30/30], Step [300/500] Loss: 0.6075\n",
            "Epoch [30/30], Step [400/500] Loss: 0.4596\n",
            "Epoch [30/30], Step [500/500] Loss: 0.4190\n"
          ]
        }
      ],
      "source": [
        "# Train the model\n",
        "total_step = len(train_loader)\n",
        "curr_lr = learning_rate\n",
        "grads_list = []\n",
        "\n",
        "for epoch in range(num_epochs):\n",
        "    for i, (images, labels) in enumerate(train_loader):\n",
        "        images = images.to(device)\n",
        "        labels = labels.to(device)\n",
        "\n",
        "        # Forward pass\n",
        "        outputs = model_noBN(images)\n",
        "        loss = criterion(outputs, labels)\n",
        "\n",
        "        # Backward and optimize\n",
        "        optimizer.zero_grad()\n",
        "        loss.backward()\n",
        "        optimizer.step()\n",
        "\n",
        "\n",
        "        if (i+1) % 100 == 0:\n",
        "            print (\"Epoch [{}/{}], Step [{}/{}] Loss: {:.4f}\"\n",
        "                   .format(epoch+1, num_epochs, i+1, total_step, loss.item()))\n",
        "    \n",
        "    grads = 0\n",
        "    for w in model_noBN.parameters():\n",
        "      grad = w.grad.cpu().detach().numpy()\n",
        "      grad = np.sum(np.sum(grad*grad))\n",
        "      grads+=grad\n",
        "    grads_list.append(grads)\n",
        "\n",
        "    # Decay learning rate\n",
        "    if (epoch+1) % 20 == 0:\n",
        "        curr_lr /= 3\n",
        "        update_lr(optimizer, curr_lr)"
      ]
    },
    {
      "cell_type": "code",
      "execution_count": null,
      "metadata": {
        "colab": {
          "base_uri": "https://localhost:8080/",
          "height": 313
        },
        "id": "AUxOlEsTxcpQ",
        "outputId": "f830d1de-6384-4a6f-cbc3-034186c48157"
      },
      "outputs": [
        {
          "output_type": "execute_result",
          "data": {
            "text/plain": [
              "Text(0.5, 1.0, 'gradient over training without BN lr=0.003')"
            ]
          },
          "metadata": {},
          "execution_count": 18
        },
        {
          "output_type": "display_data",
          "data": {
            "image/png": "[encoded data removed]",
            "text/plain": [
              "<Figure size 432x288 with 1 Axes>"
            ]
          },
          "metadata": {
            "needs_background": "light"
          }
        }
      ],
      "source": [
        "plt.plot(np.arange(len(grads_list)), grads_list)\n",
        "\n",
        "plt.xlabel('epoch time') \n",
        "plt.ylabel('Squared L2 norm of gradient') \n",
        "plt.title('gradient over training without BN lr=0.003') "
      ]
    },
    {
      "cell_type": "code",
      "execution_count": null,
      "metadata": {
        "colab": {
          "base_uri": "https://localhost:8080/"
        },
        "id": "iXCTI0Cb1uQT",
        "outputId": "10df0308-a8a8-474e-ce1b-c50d0554fe11"
      },
      "outputs": [
        {
          "output_type": "stream",
          "name": "stdout",
          "text": [
            "Accuracy of the model on the test images: 80.31 %\n"
          ]
        }
      ],
      "source": [
        "# Test the model\n",
        "model_noBN.eval()\n",
        "with torch.no_grad():\n",
        "    count = 0\n",
        "    total = 0\n",
        "    for images, labels in test_loader:\n",
        "        images = images.to(device)\n",
        "        labels = labels.to(device)\n",
        "        outputs = model_noBN(images)\n",
        "        _, predicted = torch.max(outputs.data, 1)\n",
        "        total += labels.size(0)\n",
        "        count += (predicted == labels).sum().item()\n",
        "\n",
        "    print('Accuracy of the model on the test images: {} %'.format(100 * count / total))"
      ]
    },
    {
      "cell_type": "markdown",
      "source": [
        "The graph shows that after removing batch normalization, the squared L2 norm of gradient will be much larger than previous one. That indicates the effect of batch normalization to help reduce the variance in the dataset. Also, the accuracy of model decreased after removing batch normalization."
      ],
      "metadata": {
        "id": "oPUZL84U7RUb"
      }
    },
    {
      "cell_type": "markdown",
      "source": [
        "Next, increase learning rate to 0.01"
      ],
      "metadata": {
        "id": "yjPcxR-XC4-u"
      }
    },
    {
      "cell_type": "code",
      "source": [
        "#tune hyperparameters\n",
        "num_epochs = 30\n",
        "learning_rate = 0.01\n",
        "model_noBN = ResNet(ResidualBlock, [2, 2, 2]).to(device)"
      ],
      "metadata": {
        "id": "80kUqX5mC5LO"
      },
      "execution_count": null,
      "outputs": []
    },
    {
      "cell_type": "code",
      "source": [
        "# Loss and optimizer\n",
        "criterion = nn.CrossEntropyLoss()\n",
        "optimizer = torch.optim.Adam(model_noBN.parameters(), lr=learning_rate)"
      ],
      "metadata": {
        "id": "XmwjiZIiC_8q"
      },
      "execution_count": null,
      "outputs": []
    },
    {
      "cell_type": "code",
      "source": [
        "# For updating learning rate\n",
        "def update_lr(optimizer, lr):    \n",
        "    for param_group in optimizer.param_groups:\n",
        "        param_group['lr'] = lr"
      ],
      "metadata": {
        "id": "86V0FLWoDAay"
      },
      "execution_count": null,
      "outputs": []
    },
    {
      "cell_type": "code",
      "source": [
        "# Train the model\n",
        "total_step = len(train_loader)\n",
        "curr_lr = learning_rate\n",
        "grads_list = []\n",
        "\n",
        "for epoch in range(num_epochs):\n",
        "    for i, (images, labels) in enumerate(train_loader):\n",
        "        images = images.to(device)\n",
        "        labels = labels.to(device)\n",
        "\n",
        "        # Forward pass\n",
        "        outputs = model_noBN(images)\n",
        "        loss = criterion(outputs, labels)\n",
        "\n",
        "        # Backward and optimize\n",
        "        optimizer.zero_grad()\n",
        "        loss.backward()\n",
        "        optimizer.step()\n",
        "\n",
        "\n",
        "        if (i+1) % 100 == 0:\n",
        "            print (\"Epoch [{}/{}], Step [{}/{}] Loss: {:.4f}\"\n",
        "                   .format(epoch+1, num_epochs, i+1, total_step, loss.item()))\n",
        "    \n",
        "    grads = 0\n",
        "    for w in model_noBN.parameters():\n",
        "      grad = w.grad.cpu().detach().numpy()\n",
        "      grad = np.sum(np.sum(grad*grad))\n",
        "      grads+=grad\n",
        "    grads_list.append(grads)\n",
        "\n",
        "    # Decay learning rate\n",
        "    if (epoch+1) % 20 == 0:\n",
        "        curr_lr /= 3\n",
        "        update_lr(optimizer, curr_lr)"
      ],
      "metadata": {
        "colab": {
          "base_uri": "https://localhost:8080/"
        },
        "id": "v-tQdqPiDAdJ",
        "outputId": "f67e6fa0-b68e-4fe5-930c-44766dd18ed2"
      },
      "execution_count": null,
      "outputs": [
        {
          "output_type": "stream",
          "name": "stdout",
          "text": [
            "Epoch [1/30], Step [100/500] Loss: 2.3033\n",
            "Epoch [1/30], Step [200/500] Loss: 2.1930\n",
            "Epoch [1/30], Step [300/500] Loss: 2.0378\n",
            "Epoch [1/30], Step [400/500] Loss: 2.0305\n",
            "Epoch [1/30], Step [500/500] Loss: 1.9654\n",
            "Epoch [2/30], Step [100/500] Loss: 2.0487\n",
            "Epoch [2/30], Step [200/500] Loss: 1.7649\n",
            "Epoch [2/30], Step [300/500] Loss: 1.8436\n",
            "Epoch [2/30], Step [400/500] Loss: 1.8379\n",
            "Epoch [2/30], Step [500/500] Loss: 1.7474\n",
            "Epoch [3/30], Step [100/500] Loss: 1.8816\n",
            "Epoch [3/30], Step [200/500] Loss: 1.7798\n",
            "Epoch [3/30], Step [300/500] Loss: 1.8718\n",
            "Epoch [3/30], Step [400/500] Loss: 1.8767\n",
            "Epoch [3/30], Step [500/500] Loss: 1.6826\n",
            "Epoch [4/30], Step [100/500] Loss: 1.6422\n",
            "Epoch [4/30], Step [200/500] Loss: 1.6698\n",
            "Epoch [4/30], Step [300/500] Loss: 1.7337\n",
            "Epoch [4/30], Step [400/500] Loss: 1.5905\n",
            "Epoch [4/30], Step [500/500] Loss: 1.6475\n",
            "Epoch [5/30], Step [100/500] Loss: 1.6083\n",
            "Epoch [5/30], Step [200/500] Loss: 1.7314\n",
            "Epoch [5/30], Step [300/500] Loss: 1.6989\n",
            "Epoch [5/30], Step [400/500] Loss: 1.6844\n",
            "Epoch [5/30], Step [500/500] Loss: 1.5187\n",
            "Epoch [6/30], Step [100/500] Loss: 1.6119\n",
            "Epoch [6/30], Step [200/500] Loss: 1.4662\n",
            "Epoch [6/30], Step [300/500] Loss: 1.7160\n",
            "Epoch [6/30], Step [400/500] Loss: 1.4691\n",
            "Epoch [6/30], Step [500/500] Loss: 1.5861\n",
            "Epoch [7/30], Step [100/500] Loss: 1.6839\n",
            "Epoch [7/30], Step [200/500] Loss: 1.6188\n",
            "Epoch [7/30], Step [300/500] Loss: 1.6132\n",
            "Epoch [7/30], Step [400/500] Loss: 1.4759\n",
            "Epoch [7/30], Step [500/500] Loss: 1.4660\n",
            "Epoch [8/30], Step [100/500] Loss: 1.4512\n",
            "Epoch [8/30], Step [200/500] Loss: 1.4009\n",
            "Epoch [8/30], Step [300/500] Loss: 1.5188\n",
            "Epoch [8/30], Step [400/500] Loss: 1.3733\n",
            "Epoch [8/30], Step [500/500] Loss: 1.5185\n",
            "Epoch [9/30], Step [100/500] Loss: 1.4562\n",
            "Epoch [9/30], Step [200/500] Loss: 1.3778\n",
            "Epoch [9/30], Step [300/500] Loss: 1.4288\n",
            "Epoch [9/30], Step [400/500] Loss: 1.6169\n",
            "Epoch [9/30], Step [500/500] Loss: 1.3069\n",
            "Epoch [10/30], Step [100/500] Loss: 1.2424\n",
            "Epoch [10/30], Step [200/500] Loss: 1.4232\n",
            "Epoch [10/30], Step [300/500] Loss: 1.3956\n",
            "Epoch [10/30], Step [400/500] Loss: 1.1355\n",
            "Epoch [10/30], Step [500/500] Loss: 1.3747\n",
            "Epoch [11/30], Step [100/500] Loss: 1.4094\n",
            "Epoch [11/30], Step [200/500] Loss: 1.4810\n",
            "Epoch [11/30], Step [300/500] Loss: 1.6537\n",
            "Epoch [11/30], Step [400/500] Loss: 1.1562\n",
            "Epoch [11/30], Step [500/500] Loss: 1.2807\n",
            "Epoch [12/30], Step [100/500] Loss: 1.5685\n",
            "Epoch [12/30], Step [200/500] Loss: 1.5323\n",
            "Epoch [12/30], Step [300/500] Loss: 1.2809\n",
            "Epoch [12/30], Step [400/500] Loss: 1.2074\n",
            "Epoch [12/30], Step [500/500] Loss: 1.3008\n",
            "Epoch [13/30], Step [100/500] Loss: 1.3846\n",
            "Epoch [13/30], Step [200/500] Loss: 1.1637\n",
            "Epoch [13/30], Step [300/500] Loss: 1.1962\n",
            "Epoch [13/30], Step [400/500] Loss: 1.3833\n",
            "Epoch [13/30], Step [500/500] Loss: 1.1398\n",
            "Epoch [14/30], Step [100/500] Loss: 1.3733\n",
            "Epoch [14/30], Step [200/500] Loss: 1.3361\n",
            "Epoch [14/30], Step [300/500] Loss: 1.1511\n",
            "Epoch [14/30], Step [400/500] Loss: 1.3145\n",
            "Epoch [14/30], Step [500/500] Loss: 1.2904\n",
            "Epoch [15/30], Step [100/500] Loss: 1.2879\n",
            "Epoch [15/30], Step [200/500] Loss: 1.5504\n",
            "Epoch [15/30], Step [300/500] Loss: 1.0840\n",
            "Epoch [15/30], Step [400/500] Loss: 1.1641\n",
            "Epoch [15/30], Step [500/500] Loss: 1.1667\n",
            "Epoch [16/30], Step [100/500] Loss: 1.5414\n",
            "Epoch [16/30], Step [200/500] Loss: 1.2382\n",
            "Epoch [16/30], Step [300/500] Loss: 1.4524\n",
            "Epoch [16/30], Step [400/500] Loss: 1.4698\n",
            "Epoch [16/30], Step [500/500] Loss: 1.0752\n",
            "Epoch [17/30], Step [100/500] Loss: 1.3793\n",
            "Epoch [17/30], Step [200/500] Loss: 1.5017\n",
            "Epoch [17/30], Step [300/500] Loss: 1.1451\n",
            "Epoch [17/30], Step [400/500] Loss: 1.3133\n",
            "Epoch [17/30], Step [500/500] Loss: 1.1372\n",
            "Epoch [18/30], Step [100/500] Loss: 1.3478\n",
            "Epoch [18/30], Step [200/500] Loss: 1.1284\n",
            "Epoch [18/30], Step [300/500] Loss: 1.3054\n",
            "Epoch [18/30], Step [400/500] Loss: 1.2661\n",
            "Epoch [18/30], Step [500/500] Loss: 1.1679\n",
            "Epoch [19/30], Step [100/500] Loss: 1.0524\n",
            "Epoch [19/30], Step [200/500] Loss: 1.4590\n",
            "Epoch [19/30], Step [300/500] Loss: 1.3600\n",
            "Epoch [19/30], Step [400/500] Loss: 1.0277\n",
            "Epoch [19/30], Step [500/500] Loss: 1.0698\n",
            "Epoch [20/30], Step [100/500] Loss: 1.3562\n",
            "Epoch [20/30], Step [200/500] Loss: 1.1431\n",
            "Epoch [20/30], Step [300/500] Loss: 1.4059\n",
            "Epoch [20/30], Step [400/500] Loss: 1.3940\n",
            "Epoch [20/30], Step [500/500] Loss: 1.3157\n",
            "Epoch [21/30], Step [100/500] Loss: 0.9920\n",
            "Epoch [21/30], Step [200/500] Loss: 1.0786\n",
            "Epoch [21/30], Step [300/500] Loss: 0.9348\n",
            "Epoch [21/30], Step [400/500] Loss: 1.0135\n",
            "Epoch [21/30], Step [500/500] Loss: 0.9391\n",
            "Epoch [22/30], Step [100/500] Loss: 1.0215\n",
            "Epoch [22/30], Step [200/500] Loss: 1.0117\n",
            "Epoch [22/30], Step [300/500] Loss: 0.8380\n",
            "Epoch [22/30], Step [400/500] Loss: 0.8732\n",
            "Epoch [22/30], Step [500/500] Loss: 0.8449\n",
            "Epoch [23/30], Step [100/500] Loss: 0.8743\n",
            "Epoch [23/30], Step [200/500] Loss: 1.0156\n",
            "Epoch [23/30], Step [300/500] Loss: 1.1502\n",
            "Epoch [23/30], Step [400/500] Loss: 1.0286\n",
            "Epoch [23/30], Step [500/500] Loss: 1.0701\n",
            "Epoch [24/30], Step [100/500] Loss: 0.8695\n",
            "Epoch [24/30], Step [200/500] Loss: 0.7441\n",
            "Epoch [24/30], Step [300/500] Loss: 0.9182\n",
            "Epoch [24/30], Step [400/500] Loss: 0.9496\n",
            "Epoch [24/30], Step [500/500] Loss: 0.8227\n",
            "Epoch [25/30], Step [100/500] Loss: 0.9350\n",
            "Epoch [25/30], Step [200/500] Loss: 1.0523\n",
            "Epoch [25/30], Step [300/500] Loss: 0.9047\n",
            "Epoch [25/30], Step [400/500] Loss: 1.1384\n",
            "Epoch [25/30], Step [500/500] Loss: 1.0381\n",
            "Epoch [26/30], Step [100/500] Loss: 1.0454\n",
            "Epoch [26/30], Step [200/500] Loss: 0.8692\n",
            "Epoch [26/30], Step [300/500] Loss: 0.9197\n",
            "Epoch [26/30], Step [400/500] Loss: 0.8359\n",
            "Epoch [26/30], Step [500/500] Loss: 0.9855\n",
            "Epoch [27/30], Step [100/500] Loss: 0.9610\n",
            "Epoch [27/30], Step [200/500] Loss: 1.1500\n",
            "Epoch [27/30], Step [300/500] Loss: 0.9687\n",
            "Epoch [27/30], Step [400/500] Loss: 0.8180\n",
            "Epoch [27/30], Step [500/500] Loss: 0.6962\n",
            "Epoch [28/30], Step [100/500] Loss: 1.0451\n",
            "Epoch [28/30], Step [200/500] Loss: 0.9940\n",
            "Epoch [28/30], Step [300/500] Loss: 0.9018\n",
            "Epoch [28/30], Step [400/500] Loss: 0.8057\n",
            "Epoch [28/30], Step [500/500] Loss: 0.9260\n",
            "Epoch [29/30], Step [100/500] Loss: 0.9614\n",
            "Epoch [29/30], Step [200/500] Loss: 0.9967\n",
            "Epoch [29/30], Step [300/500] Loss: 1.0734\n",
            "Epoch [29/30], Step [400/500] Loss: 0.9280\n",
            "Epoch [29/30], Step [500/500] Loss: 0.9864\n",
            "Epoch [30/30], Step [100/500] Loss: 0.9898\n",
            "Epoch [30/30], Step [200/500] Loss: 0.8413\n",
            "Epoch [30/30], Step [300/500] Loss: 0.8580\n",
            "Epoch [30/30], Step [400/500] Loss: 0.8795\n",
            "Epoch [30/30], Step [500/500] Loss: 1.1602\n"
          ]
        }
      ]
    },
    {
      "cell_type": "code",
      "source": [
        "plt.plot(np.arange(len(grads_list)), grads_list)\n",
        "\n",
        "plt.xlabel('epoch time') \n",
        "plt.ylabel('Squared L2 norm of gradient') \n",
        "plt.title('gradient over training without BN lr=0.01') "
      ],
      "metadata": {
        "colab": {
          "base_uri": "https://localhost:8080/",
          "height": 313
        },
        "id": "BRkaG_FQDHuK",
        "outputId": "cdc9e282-3060-4efa-cd7f-981f09f2acbe"
      },
      "execution_count": null,
      "outputs": [
        {
          "output_type": "execute_result",
          "data": {
            "text/plain": [
              "Text(0.5, 1.0, 'gradient over training without BN lr=0.01')"
            ]
          },
          "metadata": {},
          "execution_count": 24
        },
        {
          "output_type": "display_data",
          "data": {
            "image/png": "[encoded data removed]",
            "text/plain": [
              "<Figure size 432x288 with 1 Axes>"
            ]
          },
          "metadata": {
            "needs_background": "light"
          }
        }
      ]
    },
    {
      "cell_type": "code",
      "source": [
        "# Test the model\n",
        "model_noBN.eval()\n",
        "with torch.no_grad():\n",
        "    count = 0\n",
        "    total = 0\n",
        "    for images, labels in test_loader:\n",
        "        images = images.to(device)\n",
        "        labels = labels.to(device)\n",
        "        outputs = model_noBN(images)\n",
        "        _, predicted = torch.max(outputs.data, 1)\n",
        "        total += labels.size(0)\n",
        "        count += (predicted == labels).sum().item()\n",
        "\n",
        "    print('Accuracy of the model on the test images: {} %'.format(100 * count / total))"
      ],
      "metadata": {
        "colab": {
          "base_uri": "https://localhost:8080/"
        },
        "id": "6OkeiuOMDAf0",
        "outputId": "f5a65993-b9e3-4f50-a237-56b13f26d467"
      },
      "execution_count": null,
      "outputs": [
        {
          "output_type": "stream",
          "name": "stdout",
          "text": [
            "Accuracy of the model on the test images: 67.3 %\n"
          ]
        }
      ]
    },
    {
      "cell_type": "markdown",
      "source": [
        "The graph shows really bad training process for gradient after removing batch normalization and set learning rate to 0.01. Most interestingly, after 26 epochs, the gradeint starts to explode. It caused the accuracy of model to decrease to 67.3%."
      ],
      "metadata": {
        "id": "oWfa2At77vc8"
      }
    },
    {
      "cell_type": "markdown",
      "source": [
        "Next, change the learning rate to 0.001, which is smaller than the original value"
      ],
      "metadata": {
        "id": "GDNy8szZDJjA"
      }
    },
    {
      "cell_type": "code",
      "source": [
        "#tune hyperparameters\n",
        "num_epochs = 30\n",
        "learning_rate = 0.001\n",
        "model_noBN = ResNet(ResidualBlock, [2, 2, 2]).to(device)"
      ],
      "metadata": {
        "id": "KMyUXrkqDMCl"
      },
      "execution_count": null,
      "outputs": []
    },
    {
      "cell_type": "code",
      "source": [
        "# Loss and optimizer\n",
        "criterion = nn.CrossEntropyLoss()\n",
        "optimizer = torch.optim.Adam(model_noBN.parameters(), lr=learning_rate)"
      ],
      "metadata": {
        "id": "i9AFZlHuDMFJ"
      },
      "execution_count": null,
      "outputs": []
    },
    {
      "cell_type": "code",
      "source": [
        "# For updating learning rate\n",
        "def update_lr(optimizer, lr):    \n",
        "    for param_group in optimizer.param_groups:\n",
        "        param_group['lr'] = lr"
      ],
      "metadata": {
        "id": "J5fuj2EKDMHj"
      },
      "execution_count": null,
      "outputs": []
    },
    {
      "cell_type": "code",
      "source": [
        "# Train the model\n",
        "total_step = len(train_loader)\n",
        "curr_lr = learning_rate\n",
        "grads_list = []\n",
        "\n",
        "for epoch in range(num_epochs):\n",
        "    for i, (images, labels) in enumerate(train_loader):\n",
        "        images = images.to(device)\n",
        "        labels = labels.to(device)\n",
        "\n",
        "        # Forward pass\n",
        "        outputs = model_noBN(images)\n",
        "        loss = criterion(outputs, labels)\n",
        "\n",
        "        # Backward and optimize\n",
        "        optimizer.zero_grad()\n",
        "        loss.backward()\n",
        "        optimizer.step()\n",
        "\n",
        "\n",
        "        if (i+1) % 100 == 0:\n",
        "            print (\"Epoch [{}/{}], Step [{}/{}] Loss: {:.4f}\"\n",
        "                   .format(epoch+1, num_epochs, i+1, total_step, loss.item()))\n",
        "    \n",
        "    grads = 0\n",
        "    for w in model_noBN.parameters():\n",
        "      grad = w.grad.cpu().detach().numpy()\n",
        "      grad = np.sum(np.sum(grad*grad))\n",
        "      grads+=grad\n",
        "    grads_list.append(grads)\n",
        "\n",
        "    # Decay learning rate\n",
        "    if (epoch+1) % 20 == 0:\n",
        "        curr_lr /= 3\n",
        "        update_lr(optimizer, curr_lr)"
      ],
      "metadata": {
        "colab": {
          "base_uri": "https://localhost:8080/"
        },
        "id": "XNCqCubJDMK7",
        "outputId": "dfb1b1f6-3b49-4e27-bfff-ffaa4b2ee196"
      },
      "execution_count": null,
      "outputs": [
        {
          "output_type": "stream",
          "name": "stdout",
          "text": [
            "Epoch [1/30], Step [100/500] Loss: 2.0610\n",
            "Epoch [1/30], Step [200/500] Loss: 1.8553\n",
            "Epoch [1/30], Step [300/500] Loss: 1.9328\n",
            "Epoch [1/30], Step [400/500] Loss: 1.7916\n",
            "Epoch [1/30], Step [500/500] Loss: 1.5701\n",
            "Epoch [2/30], Step [100/500] Loss: 1.7058\n",
            "Epoch [2/30], Step [200/500] Loss: 1.7016\n",
            "Epoch [2/30], Step [300/500] Loss: 1.6316\n",
            "Epoch [2/30], Step [400/500] Loss: 1.3670\n",
            "Epoch [2/30], Step [500/500] Loss: 1.4215\n",
            "Epoch [3/30], Step [100/500] Loss: 1.4328\n",
            "Epoch [3/30], Step [200/500] Loss: 1.2795\n",
            "Epoch [3/30], Step [300/500] Loss: 1.2647\n",
            "Epoch [3/30], Step [400/500] Loss: 1.3373\n",
            "Epoch [3/30], Step [500/500] Loss: 1.3580\n",
            "Epoch [4/30], Step [100/500] Loss: 1.1234\n",
            "Epoch [4/30], Step [200/500] Loss: 1.1909\n",
            "Epoch [4/30], Step [300/500] Loss: 1.1608\n",
            "Epoch [4/30], Step [400/500] Loss: 1.3336\n",
            "Epoch [4/30], Step [500/500] Loss: 0.9812\n",
            "Epoch [5/30], Step [100/500] Loss: 1.0029\n",
            "Epoch [5/30], Step [200/500] Loss: 1.0869\n",
            "Epoch [5/30], Step [300/500] Loss: 1.0114\n",
            "Epoch [5/30], Step [400/500] Loss: 1.0874\n",
            "Epoch [5/30], Step [500/500] Loss: 1.0147\n",
            "Epoch [6/30], Step [100/500] Loss: 1.0146\n",
            "Epoch [6/30], Step [200/500] Loss: 0.7682\n",
            "Epoch [6/30], Step [300/500] Loss: 1.0327\n",
            "Epoch [6/30], Step [400/500] Loss: 0.8335\n",
            "Epoch [6/30], Step [500/500] Loss: 0.9473\n",
            "Epoch [7/30], Step [100/500] Loss: 1.0538\n",
            "Epoch [7/30], Step [200/500] Loss: 0.9092\n",
            "Epoch [7/30], Step [300/500] Loss: 0.9674\n",
            "Epoch [7/30], Step [400/500] Loss: 1.0022\n",
            "Epoch [7/30], Step [500/500] Loss: 0.9926\n",
            "Epoch [8/30], Step [100/500] Loss: 0.9665\n",
            "Epoch [8/30], Step [200/500] Loss: 0.8938\n",
            "Epoch [8/30], Step [300/500] Loss: 1.0756\n",
            "Epoch [8/30], Step [400/500] Loss: 0.8948\n",
            "Epoch [8/30], Step [500/500] Loss: 1.1348\n",
            "Epoch [9/30], Step [100/500] Loss: 0.7402\n",
            "Epoch [9/30], Step [200/500] Loss: 1.0292\n",
            "Epoch [9/30], Step [300/500] Loss: 0.7549\n",
            "Epoch [9/30], Step [400/500] Loss: 0.7483\n",
            "Epoch [9/30], Step [500/500] Loss: 0.8363\n",
            "Epoch [10/30], Step [100/500] Loss: 0.6491\n",
            "Epoch [10/30], Step [200/500] Loss: 1.0039\n",
            "Epoch [10/30], Step [300/500] Loss: 0.8179\n",
            "Epoch [10/30], Step [400/500] Loss: 0.7013\n",
            "Epoch [10/30], Step [500/500] Loss: 0.7535\n",
            "Epoch [11/30], Step [100/500] Loss: 0.6410\n",
            "Epoch [11/30], Step [200/500] Loss: 0.5678\n",
            "Epoch [11/30], Step [300/500] Loss: 0.7652\n",
            "Epoch [11/30], Step [400/500] Loss: 0.7797\n",
            "Epoch [11/30], Step [500/500] Loss: 0.8821\n",
            "Epoch [12/30], Step [100/500] Loss: 0.6956\n",
            "Epoch [12/30], Step [200/500] Loss: 0.7790\n",
            "Epoch [12/30], Step [300/500] Loss: 0.7146\n",
            "Epoch [12/30], Step [400/500] Loss: 0.6541\n",
            "Epoch [12/30], Step [500/500] Loss: 0.8080\n",
            "Epoch [13/30], Step [100/500] Loss: 0.4678\n",
            "Epoch [13/30], Step [200/500] Loss: 0.6463\n",
            "Epoch [13/30], Step [300/500] Loss: 0.6665\n",
            "Epoch [13/30], Step [400/500] Loss: 0.7287\n",
            "Epoch [13/30], Step [500/500] Loss: 0.8656\n",
            "Epoch [14/30], Step [100/500] Loss: 0.9857\n",
            "Epoch [14/30], Step [200/500] Loss: 0.5568\n",
            "Epoch [14/30], Step [300/500] Loss: 0.5991\n",
            "Epoch [14/30], Step [400/500] Loss: 0.7578\n",
            "Epoch [14/30], Step [500/500] Loss: 0.7232\n",
            "Epoch [15/30], Step [100/500] Loss: 0.7368\n",
            "Epoch [15/30], Step [200/500] Loss: 0.7444\n",
            "Epoch [15/30], Step [300/500] Loss: 0.6226\n",
            "Epoch [15/30], Step [400/500] Loss: 0.3587\n",
            "Epoch [15/30], Step [500/500] Loss: 0.5062\n",
            "Epoch [16/30], Step [100/500] Loss: 0.6206\n",
            "Epoch [16/30], Step [200/500] Loss: 0.5299\n",
            "Epoch [16/30], Step [300/500] Loss: 0.6985\n",
            "Epoch [16/30], Step [400/500] Loss: 0.8618\n",
            "Epoch [16/30], Step [500/500] Loss: 0.6163\n",
            "Epoch [17/30], Step [100/500] Loss: 0.5860\n",
            "Epoch [17/30], Step [200/500] Loss: 0.4603\n",
            "Epoch [17/30], Step [300/500] Loss: 0.6994\n",
            "Epoch [17/30], Step [400/500] Loss: 0.5670\n",
            "Epoch [17/30], Step [500/500] Loss: 0.4526\n",
            "Epoch [18/30], Step [100/500] Loss: 0.4421\n",
            "Epoch [18/30], Step [200/500] Loss: 0.5329\n",
            "Epoch [18/30], Step [300/500] Loss: 0.7317\n",
            "Epoch [18/30], Step [400/500] Loss: 0.5551\n",
            "Epoch [18/30], Step [500/500] Loss: 0.6383\n",
            "Epoch [19/30], Step [100/500] Loss: 0.5704\n",
            "Epoch [19/30], Step [200/500] Loss: 0.4439\n",
            "Epoch [19/30], Step [300/500] Loss: 0.5646\n",
            "Epoch [19/30], Step [400/500] Loss: 0.6324\n",
            "Epoch [19/30], Step [500/500] Loss: 0.6691\n",
            "Epoch [20/30], Step [100/500] Loss: 0.5402\n",
            "Epoch [20/30], Step [200/500] Loss: 0.5368\n",
            "Epoch [20/30], Step [300/500] Loss: 0.4843\n",
            "Epoch [20/30], Step [400/500] Loss: 0.5556\n",
            "Epoch [20/30], Step [500/500] Loss: 0.5759\n",
            "Epoch [21/30], Step [100/500] Loss: 0.5318\n",
            "Epoch [21/30], Step [200/500] Loss: 0.4085\n",
            "Epoch [21/30], Step [300/500] Loss: 0.3789\n",
            "Epoch [21/30], Step [400/500] Loss: 0.5194\n",
            "Epoch [21/30], Step [500/500] Loss: 0.4554\n",
            "Epoch [22/30], Step [100/500] Loss: 0.6221\n",
            "Epoch [22/30], Step [200/500] Loss: 0.3758\n",
            "Epoch [22/30], Step [300/500] Loss: 0.4383\n",
            "Epoch [22/30], Step [400/500] Loss: 0.6414\n",
            "Epoch [22/30], Step [500/500] Loss: 0.3874\n",
            "Epoch [23/30], Step [100/500] Loss: 0.5708\n",
            "Epoch [23/30], Step [200/500] Loss: 0.1883\n",
            "Epoch [23/30], Step [300/500] Loss: 0.4928\n",
            "Epoch [23/30], Step [400/500] Loss: 0.4479\n",
            "Epoch [23/30], Step [500/500] Loss: 0.3728\n",
            "Epoch [24/30], Step [100/500] Loss: 0.4590\n",
            "Epoch [24/30], Step [200/500] Loss: 0.3686\n",
            "Epoch [24/30], Step [300/500] Loss: 0.5555\n",
            "Epoch [24/30], Step [400/500] Loss: 0.4799\n",
            "Epoch [24/30], Step [500/500] Loss: 0.4537\n",
            "Epoch [25/30], Step [100/500] Loss: 0.3875\n",
            "Epoch [25/30], Step [200/500] Loss: 0.4631\n",
            "Epoch [25/30], Step [300/500] Loss: 0.5525\n",
            "Epoch [25/30], Step [400/500] Loss: 0.3355\n",
            "Epoch [25/30], Step [500/500] Loss: 0.3868\n",
            "Epoch [26/30], Step [100/500] Loss: 0.4566\n",
            "Epoch [26/30], Step [200/500] Loss: 0.5657\n",
            "Epoch [26/30], Step [300/500] Loss: 0.4254\n",
            "Epoch [26/30], Step [400/500] Loss: 0.3279\n",
            "Epoch [26/30], Step [500/500] Loss: 0.3964\n",
            "Epoch [27/30], Step [100/500] Loss: 0.2884\n",
            "Epoch [27/30], Step [200/500] Loss: 0.4098\n",
            "Epoch [27/30], Step [300/500] Loss: 0.4902\n",
            "Epoch [27/30], Step [400/500] Loss: 0.4747\n",
            "Epoch [27/30], Step [500/500] Loss: 0.2949\n",
            "Epoch [28/30], Step [100/500] Loss: 0.3336\n",
            "Epoch [28/30], Step [200/500] Loss: 0.5451\n",
            "Epoch [28/30], Step [300/500] Loss: 0.3461\n",
            "Epoch [28/30], Step [400/500] Loss: 0.4854\n",
            "Epoch [28/30], Step [500/500] Loss: 0.5244\n",
            "Epoch [29/30], Step [100/500] Loss: 0.2406\n",
            "Epoch [29/30], Step [200/500] Loss: 0.4527\n",
            "Epoch [29/30], Step [300/500] Loss: 0.4020\n",
            "Epoch [29/30], Step [400/500] Loss: 0.4165\n",
            "Epoch [29/30], Step [500/500] Loss: 0.5326\n",
            "Epoch [30/30], Step [100/500] Loss: 0.3905\n",
            "Epoch [30/30], Step [200/500] Loss: 0.3972\n",
            "Epoch [30/30], Step [300/500] Loss: 0.5732\n",
            "Epoch [30/30], Step [400/500] Loss: 0.4038\n",
            "Epoch [30/30], Step [500/500] Loss: 0.4512\n"
          ]
        }
      ]
    },
    {
      "cell_type": "code",
      "source": [
        "plt.plot(np.arange(len(grads_list)), grads_list)\n",
        "\n",
        "plt.xlabel('epoch time') \n",
        "plt.ylabel('Squared L2 norm of gradient') \n",
        "plt.title('gradient over training without BN lr=0.001') "
      ],
      "metadata": {
        "colab": {
          "base_uri": "https://localhost:8080/",
          "height": 313
        },
        "id": "PYmB7Hr1DMNd",
        "outputId": "7b71cf2d-11d6-4dc0-8c80-37ccc6e3f308"
      },
      "execution_count": null,
      "outputs": [
        {
          "output_type": "execute_result",
          "data": {
            "text/plain": [
              "Text(0.5, 1.0, 'gradient over training without BN lr=0.001')"
            ]
          },
          "metadata": {},
          "execution_count": 30
        },
        {
          "output_type": "display_data",
          "data": {
            "image/png": "[encoded data removed]",
            "text/plain": [
              "<Figure size 432x288 with 1 Axes>"
            ]
          },
          "metadata": {
            "needs_background": "light"
          }
        }
      ]
    },
    {
      "cell_type": "code",
      "source": [
        "# Test the model\n",
        "model_noBN.eval()\n",
        "with torch.no_grad():\n",
        "    count = 0\n",
        "    total = 0\n",
        "    for images, labels in test_loader:\n",
        "        images = images.to(device)\n",
        "        labels = labels.to(device)\n",
        "        outputs = model_noBN(images)\n",
        "        _, predicted = torch.max(outputs.data, 1)\n",
        "        total += labels.size(0)\n",
        "        count += (predicted == labels).sum().item()\n",
        "\n",
        "    print('Accuracy of the model on the test images: {} %'.format(100 * count / total))"
      ],
      "metadata": {
        "colab": {
          "base_uri": "https://localhost:8080/"
        },
        "id": "hDzo8jY5DMQE",
        "outputId": "1953b448-7d3f-4427-c2ba-3833542c3194"
      },
      "execution_count": null,
      "outputs": [
        {
          "output_type": "stream",
          "name": "stdout",
          "text": [
            "Accuracy of the model on the test images: 83.07 %\n"
          ]
        }
      ]
    },
    {
      "cell_type": "markdown",
      "source": [
        "The graph shows that even though the square L2 norm of graident is still large, teh graident is going to converge after 30 epochs. Also, the accuracy of this model is 83%, which outperforms than previous two models. That means if we do not use batch normalization, it may caus gradient explosion. In order to achieve the high accuracy as before, we need to decrease the learning rate."
      ],
      "metadata": {
        "id": "b1F9dXxM8naO"
      }
    },
    {
      "cell_type": "code",
      "source": [
        ""
      ],
      "metadata": {
        "id": "hCHD0OgrDMUn"
      },
      "execution_count": null,
      "outputs": []
    },
    {
      "cell_type": "markdown",
      "metadata": {
        "id": "T8t21JGZyUr-"
      },
      "source": [
        "# 2. Residual connections (2 points)\n",
        "\n",
        "Please make use of the model code from Homework 5 question 2 as you work on this question.\n",
        "\n",
        "If your model didn't use residual connections, add them. If it already had residual connections, remove them. How does the performance change? Please experiment with applying residual connections around different blocks, where a block is a subset of layers (for example, add a residual connection around a single convolution/nonlinearity combination, or a residual connection around two convolution/nonlinearity combinations). Note that you may need to add 1x1 convolutions in the residual path if your block changes the shape (spatial or number of channels) of the input."
      ]
    },
    {
      "cell_type": "markdown",
      "source": [
        "First, remove the residual connection in the residual block"
      ],
      "metadata": {
        "id": "gDp5IRYk9NZA"
      }
    },
    {
      "cell_type": "code",
      "execution_count": null,
      "metadata": {
        "id": "oPub2qjP9VHQ"
      },
      "outputs": [],
      "source": [
        "# Residual block\n",
        "class ResidualBlock(nn.Module):\n",
        "    def __init__(self, in_channels, out_channels, stride=1):\n",
        "        super(ResidualBlock, self).__init__()\n",
        "        self.conv1 = conv3x3(in_channels, out_channels, stride)\n",
        "        self.bn1 = nn.BatchNorm2d(out_channels)\n",
        "        self.relu = nn.ReLU(inplace=True)\n",
        "        self.conv2 = conv3x3(out_channels, out_channels)\n",
        "        self.bn2 = nn.BatchNorm2d(out_channels)\n",
        "\n",
        "\n",
        "    def forward(self, x):\n",
        "        out = self.conv1(x)\n",
        "        out = self.bn1(out)\n",
        "        out = self.relu(out)\n",
        "        out = self.conv2(out)\n",
        "        out = self.bn2(out)\n",
        "        out = self.relu(out)\n",
        "        return out\n",
        "\n",
        "# ResNet\n",
        "class ResNet(nn.Module):\n",
        "    def __init__(self, block, layers, num_classes=10):\n",
        "        super(ResNet, self).__init__()\n",
        "        self.in_channels = 16\n",
        "        self.conv = conv3x3(3, 16)\n",
        "        self.bn = nn.BatchNorm2d(16)\n",
        "        self.relu = nn.ReLU(inplace=True)\n",
        "        self.layer1 = self.make_layer(block, 16, layers[0])\n",
        "        self.layer2 = self.make_layer(block, 32, layers[1], 2)\n",
        "        self.layer3 = self.make_layer(block, 64, layers[2], 2)\n",
        "        self.avg_pool = nn.AvgPool2d(8)\n",
        "        self.fc = nn.Linear(64, num_classes)\n",
        "\n",
        "    def make_layer(self, block, out_channels, blocks, stride=1):\n",
        "        layers = []\n",
        "        layers.append(block(self.in_channels, out_channels, stride))\n",
        "        self.in_channels = out_channels\n",
        "        for i in range(1, blocks):\n",
        "            layers.append(block(out_channels, out_channels))\n",
        "        return nn.Sequential(*layers)\n",
        "\n",
        "    def forward(self, x):\n",
        "        out = self.conv(x)\n",
        "        out = self.bn(out)\n",
        "        out = self.relu(out)\n",
        "        out = self.layer1(out)\n",
        "        out = self.layer2(out)\n",
        "        out = self.layer3(out)\n",
        "        out = self.avg_pool(out)\n",
        "        out = out.view(out.size(0), -1)\n",
        "        out = self.fc(out)\n",
        "        return out\n",
        "\n"
      ]
    },
    {
      "cell_type": "code",
      "execution_count": null,
      "metadata": {
        "id": "gpC2VD_1BdO9"
      },
      "outputs": [],
      "source": [
        "#tune hyperparameters\n",
        "num_epochs = 30\n",
        "learning_rate = 0.003\n",
        "model = ResNet(ResidualBlock, [2, 2, 2]).to(device)"
      ]
    },
    {
      "cell_type": "code",
      "execution_count": null,
      "metadata": {
        "id": "RgqZGBdJ-GVL"
      },
      "outputs": [],
      "source": [
        "# Loss and optimizer\n",
        "criterion = nn.CrossEntropyLoss()\n",
        "optimizer = torch.optim.Adam(model.parameters(), lr=learning_rate)"
      ]
    },
    {
      "cell_type": "code",
      "execution_count": null,
      "metadata": {
        "id": "uWr-jEAE-Uh0"
      },
      "outputs": [],
      "source": [
        "# For updating learning rate\n",
        "def update_lr(optimizer, lr):    \n",
        "    for param_group in optimizer.param_groups:\n",
        "        param_group['lr'] = lr"
      ]
    },
    {
      "cell_type": "code",
      "execution_count": null,
      "metadata": {
        "colab": {
          "base_uri": "https://localhost:8080/"
        },
        "id": "KzUv8IvC-U5u",
        "outputId": "10b084d9-ef7c-4839-b4ed-becc5bb8fa6c"
      },
      "outputs": [
        {
          "output_type": "stream",
          "name": "stdout",
          "text": [
            "Epoch [1/30], Step [100/500] Loss: 1.8245\n",
            "Epoch [1/30], Step [200/500] Loss: 1.5738\n",
            "Epoch [1/30], Step [300/500] Loss: 1.4854\n",
            "Epoch [1/30], Step [400/500] Loss: 1.5159\n",
            "Epoch [1/30], Step [500/500] Loss: 1.3957\n",
            "Epoch [2/30], Step [100/500] Loss: 1.1873\n",
            "Epoch [2/30], Step [200/500] Loss: 1.3654\n",
            "Epoch [2/30], Step [300/500] Loss: 1.0772\n",
            "Epoch [2/30], Step [400/500] Loss: 1.2293\n",
            "Epoch [2/30], Step [500/500] Loss: 1.1941\n",
            "Epoch [3/30], Step [100/500] Loss: 0.8888\n",
            "Epoch [3/30], Step [200/500] Loss: 0.8685\n",
            "Epoch [3/30], Step [300/500] Loss: 0.9926\n",
            "Epoch [3/30], Step [400/500] Loss: 1.0138\n",
            "Epoch [3/30], Step [500/500] Loss: 0.7935\n",
            "Epoch [4/30], Step [100/500] Loss: 0.7184\n",
            "Epoch [4/30], Step [200/500] Loss: 0.9695\n",
            "Epoch [4/30], Step [300/500] Loss: 0.7691\n",
            "Epoch [4/30], Step [400/500] Loss: 0.9182\n",
            "Epoch [4/30], Step [500/500] Loss: 0.7413\n",
            "Epoch [5/30], Step [100/500] Loss: 0.8781\n",
            "Epoch [5/30], Step [200/500] Loss: 0.6631\n",
            "Epoch [5/30], Step [300/500] Loss: 0.6717\n",
            "Epoch [5/30], Step [400/500] Loss: 0.7164\n",
            "Epoch [5/30], Step [500/500] Loss: 0.7509\n",
            "Epoch [6/30], Step [100/500] Loss: 0.7415\n",
            "Epoch [6/30], Step [200/500] Loss: 0.7333\n",
            "Epoch [6/30], Step [300/500] Loss: 0.7189\n",
            "Epoch [6/30], Step [400/500] Loss: 0.6729\n",
            "Epoch [6/30], Step [500/500] Loss: 0.5469\n",
            "Epoch [7/30], Step [100/500] Loss: 0.6528\n",
            "Epoch [7/30], Step [200/500] Loss: 0.7398\n",
            "Epoch [7/30], Step [300/500] Loss: 0.6019\n",
            "Epoch [7/30], Step [400/500] Loss: 0.7155\n",
            "Epoch [7/30], Step [500/500] Loss: 0.5749\n",
            "Epoch [8/30], Step [100/500] Loss: 0.6257\n",
            "Epoch [8/30], Step [200/500] Loss: 0.5297\n",
            "Epoch [8/30], Step [300/500] Loss: 0.5440\n",
            "Epoch [8/30], Step [400/500] Loss: 0.8139\n",
            "Epoch [8/30], Step [500/500] Loss: 0.6649\n",
            "Epoch [9/30], Step [100/500] Loss: 0.6293\n",
            "Epoch [9/30], Step [200/500] Loss: 0.4770\n",
            "Epoch [9/30], Step [300/500] Loss: 0.7509\n",
            "Epoch [9/30], Step [400/500] Loss: 0.4975\n",
            "Epoch [9/30], Step [500/500] Loss: 0.4393\n",
            "Epoch [10/30], Step [100/500] Loss: 0.4166\n",
            "Epoch [10/30], Step [200/500] Loss: 0.6059\n",
            "Epoch [10/30], Step [300/500] Loss: 0.3505\n",
            "Epoch [10/30], Step [400/500] Loss: 0.6334\n",
            "Epoch [10/30], Step [500/500] Loss: 0.4505\n",
            "Epoch [11/30], Step [100/500] Loss: 0.3665\n",
            "Epoch [11/30], Step [200/500] Loss: 0.3240\n",
            "Epoch [11/30], Step [300/500] Loss: 0.5593\n",
            "Epoch [11/30], Step [400/500] Loss: 0.4672\n",
            "Epoch [11/30], Step [500/500] Loss: 0.5690\n",
            "Epoch [12/30], Step [100/500] Loss: 0.4196\n",
            "Epoch [12/30], Step [200/500] Loss: 0.3633\n",
            "Epoch [12/30], Step [300/500] Loss: 0.3267\n",
            "Epoch [12/30], Step [400/500] Loss: 0.5076\n",
            "Epoch [12/30], Step [500/500] Loss: 0.4060\n",
            "Epoch [13/30], Step [100/500] Loss: 0.5766\n",
            "Epoch [13/30], Step [200/500] Loss: 0.5094\n",
            "Epoch [13/30], Step [300/500] Loss: 0.3934\n",
            "Epoch [13/30], Step [400/500] Loss: 0.5849\n",
            "Epoch [13/30], Step [500/500] Loss: 0.4371\n",
            "Epoch [14/30], Step [100/500] Loss: 0.5880\n",
            "Epoch [14/30], Step [200/500] Loss: 0.4116\n",
            "Epoch [14/30], Step [300/500] Loss: 0.4085\n",
            "Epoch [14/30], Step [400/500] Loss: 0.3774\n",
            "Epoch [14/30], Step [500/500] Loss: 0.3119\n",
            "Epoch [15/30], Step [100/500] Loss: 0.2993\n",
            "Epoch [15/30], Step [200/500] Loss: 0.3273\n",
            "Epoch [15/30], Step [300/500] Loss: 0.4010\n",
            "Epoch [15/30], Step [400/500] Loss: 0.5633\n",
            "Epoch [15/30], Step [500/500] Loss: 0.4441\n",
            "Epoch [16/30], Step [100/500] Loss: 0.5513\n",
            "Epoch [16/30], Step [200/500] Loss: 0.3512\n",
            "Epoch [16/30], Step [300/500] Loss: 0.3629\n",
            "Epoch [16/30], Step [400/500] Loss: 0.4046\n",
            "Epoch [16/30], Step [500/500] Loss: 0.4956\n",
            "Epoch [17/30], Step [100/500] Loss: 0.2967\n",
            "Epoch [17/30], Step [200/500] Loss: 0.5281\n",
            "Epoch [17/30], Step [300/500] Loss: 0.3657\n",
            "Epoch [17/30], Step [400/500] Loss: 0.4815\n",
            "Epoch [17/30], Step [500/500] Loss: 0.3200\n",
            "Epoch [18/30], Step [100/500] Loss: 0.3760\n",
            "Epoch [18/30], Step [200/500] Loss: 0.2997\n",
            "Epoch [18/30], Step [300/500] Loss: 0.3099\n",
            "Epoch [18/30], Step [400/500] Loss: 0.3880\n",
            "Epoch [18/30], Step [500/500] Loss: 0.4540\n",
            "Epoch [19/30], Step [100/500] Loss: 0.5003\n",
            "Epoch [19/30], Step [200/500] Loss: 0.4154\n",
            "Epoch [19/30], Step [300/500] Loss: 0.3478\n",
            "Epoch [19/30], Step [400/500] Loss: 0.3398\n",
            "Epoch [19/30], Step [500/500] Loss: 0.2941\n",
            "Epoch [20/30], Step [100/500] Loss: 0.3770\n",
            "Epoch [20/30], Step [200/500] Loss: 0.4946\n",
            "Epoch [20/30], Step [300/500] Loss: 0.3550\n",
            "Epoch [20/30], Step [400/500] Loss: 0.5080\n",
            "Epoch [20/30], Step [500/500] Loss: 0.2941\n",
            "Epoch [21/30], Step [100/500] Loss: 0.4007\n",
            "Epoch [21/30], Step [200/500] Loss: 0.4074\n",
            "Epoch [21/30], Step [300/500] Loss: 0.3147\n",
            "Epoch [21/30], Step [400/500] Loss: 0.3351\n",
            "Epoch [21/30], Step [500/500] Loss: 0.3865\n",
            "Epoch [22/30], Step [100/500] Loss: 0.2766\n",
            "Epoch [22/30], Step [200/500] Loss: 0.2245\n",
            "Epoch [22/30], Step [300/500] Loss: 0.4071\n",
            "Epoch [22/30], Step [400/500] Loss: 0.3341\n",
            "Epoch [22/30], Step [500/500] Loss: 0.3602\n",
            "Epoch [23/30], Step [100/500] Loss: 0.3369\n",
            "Epoch [23/30], Step [200/500] Loss: 0.2085\n",
            "Epoch [23/30], Step [300/500] Loss: 0.2538\n",
            "Epoch [23/30], Step [400/500] Loss: 0.2526\n",
            "Epoch [23/30], Step [500/500] Loss: 0.3674\n",
            "Epoch [24/30], Step [100/500] Loss: 0.2742\n",
            "Epoch [24/30], Step [200/500] Loss: 0.4188\n",
            "Epoch [24/30], Step [300/500] Loss: 0.2575\n",
            "Epoch [24/30], Step [400/500] Loss: 0.3803\n",
            "Epoch [24/30], Step [500/500] Loss: 0.4281\n",
            "Epoch [25/30], Step [100/500] Loss: 0.3753\n",
            "Epoch [25/30], Step [200/500] Loss: 0.1815\n",
            "Epoch [25/30], Step [300/500] Loss: 0.2261\n",
            "Epoch [25/30], Step [400/500] Loss: 0.2481\n",
            "Epoch [25/30], Step [500/500] Loss: 0.2993\n",
            "Epoch [26/30], Step [100/500] Loss: 0.3156\n",
            "Epoch [26/30], Step [200/500] Loss: 0.3798\n",
            "Epoch [26/30], Step [300/500] Loss: 0.2558\n",
            "Epoch [26/30], Step [400/500] Loss: 0.2757\n",
            "Epoch [26/30], Step [500/500] Loss: 0.3964\n",
            "Epoch [27/30], Step [100/500] Loss: 0.2834\n",
            "Epoch [27/30], Step [200/500] Loss: 0.1943\n",
            "Epoch [27/30], Step [300/500] Loss: 0.3169\n",
            "Epoch [27/30], Step [400/500] Loss: 0.4102\n",
            "Epoch [27/30], Step [500/500] Loss: 0.2505\n",
            "Epoch [28/30], Step [100/500] Loss: 0.2531\n",
            "Epoch [28/30], Step [200/500] Loss: 0.3377\n",
            "Epoch [28/30], Step [300/500] Loss: 0.3223\n",
            "Epoch [28/30], Step [400/500] Loss: 0.2130\n",
            "Epoch [28/30], Step [500/500] Loss: 0.3972\n",
            "Epoch [29/30], Step [100/500] Loss: 0.3649\n",
            "Epoch [29/30], Step [200/500] Loss: 0.1988\n",
            "Epoch [29/30], Step [300/500] Loss: 0.3703\n",
            "Epoch [29/30], Step [400/500] Loss: 0.3273\n",
            "Epoch [29/30], Step [500/500] Loss: 0.2506\n",
            "Epoch [30/30], Step [100/500] Loss: 0.2785\n",
            "Epoch [30/30], Step [200/500] Loss: 0.2920\n",
            "Epoch [30/30], Step [300/500] Loss: 0.2546\n",
            "Epoch [30/30], Step [400/500] Loss: 0.2769\n",
            "Epoch [30/30], Step [500/500] Loss: 0.2808\n"
          ]
        }
      ],
      "source": [
        "# Train the model\n",
        "total_step = len(train_loader)\n",
        "curr_lr = learning_rate\n",
        "grads_list = []\n",
        "\n",
        "for epoch in range(num_epochs):\n",
        "    for i, (images, labels) in enumerate(train_loader):\n",
        "        images = images.to(device)\n",
        "        labels = labels.to(device)\n",
        "\n",
        "        # Forward pass\n",
        "        outputs = model(images)\n",
        "        loss = criterion(outputs, labels)\n",
        "\n",
        "        # Backward and optimize\n",
        "        optimizer.zero_grad()\n",
        "        loss.backward()\n",
        "        optimizer.step()\n",
        "\n",
        "\n",
        "        if (i+1) % 100 == 0:\n",
        "            print (\"Epoch [{}/{}], Step [{}/{}] Loss: {:.4f}\"\n",
        "                   .format(epoch+1, num_epochs, i+1, total_step, loss.item()))\n",
        "    \n",
        "    \n",
        "    # Decay learning rate\n",
        "    if (epoch+1) % 20 == 0:\n",
        "        curr_lr /= 3\n",
        "        update_lr(optimizer, curr_lr)"
      ]
    },
    {
      "cell_type": "code",
      "execution_count": null,
      "metadata": {
        "colab": {
          "base_uri": "https://localhost:8080/"
        },
        "id": "Cp0WN6fO-W_i",
        "outputId": "0ae2afbe-1e07-4e7c-d266-620072943a17"
      },
      "outputs": [
        {
          "output_type": "stream",
          "name": "stdout",
          "text": [
            "Accuracy of the model on the test images: 86.29 %\n"
          ]
        }
      ],
      "source": [
        "# Test the model\n",
        "model.eval()\n",
        "with torch.no_grad():\n",
        "    count = 0\n",
        "    total = 0\n",
        "    for images, labels in test_loader:\n",
        "        images = images.to(device)\n",
        "        labels = labels.to(device)\n",
        "        outputs = model(images)\n",
        "        _, predicted = torch.max(outputs.data, 1)\n",
        "        total += labels.size(0)\n",
        "        count += (predicted == labels).sum().item()\n",
        "\n",
        "    print('Accuracy of the model on the test images: {} %'.format(100 * count / total))"
      ]
    },
    {
      "cell_type": "markdown",
      "source": [
        "Next, add the residual connection around a single convolution/nonlinearity combination. That means, instead of only one residual connection in the original model, now there are two connections in the residual block."
      ],
      "metadata": {
        "id": "oWZ8Ra93m-p7"
      }
    },
    {
      "cell_type": "code",
      "source": [
        "# Residual block\n",
        "class ResidualBlock(nn.Module):\n",
        "    def __init__(self, in_channels, out_channels, stride=1, downsample1=None, downsample2 = None):\n",
        "        super(ResidualBlock, self).__init__()\n",
        "        self.conv1 = conv3x3(in_channels, out_channels, stride)\n",
        "        self.bn1 = nn.BatchNorm2d(out_channels)\n",
        "        self.relu = nn.ReLU(inplace=True)\n",
        "        self.conv2 = conv3x3(out_channels, out_channels)\n",
        "        self.bn2 = nn.BatchNorm2d(out_channels)\n",
        "        self.downsample1 = downsample1\n",
        "        self.downsample2 = downsample2\n",
        "\n",
        "\n",
        "\n",
        "    def forward(self, x):\n",
        "        residual1 = x\n",
        "        residual2 = x\n",
        "        out = self.conv1(x)\n",
        "        out = self.bn1(out)\n",
        "        if self.downsample1:\n",
        "            residual1 = self.downsample1(x)\n",
        "        out += residual1\n",
        "        out = self.relu(out)\n",
        "        out = self.conv2(out)\n",
        "        out = self.bn2(out)\n",
        "        if self.downsample2:\n",
        "            residual2 = self.downsample2(x)\n",
        "        out += residual2\n",
        "        out = self.relu(out)\n",
        "        return out\n",
        "\n",
        "# ResNet\n",
        "class ResNet(nn.Module):\n",
        "    def __init__(self, block, layers, num_classes=10):\n",
        "        super(ResNet, self).__init__()\n",
        "        self.in_channels = 16\n",
        "        self.conv = conv3x3(3, 16)\n",
        "        self.bn = nn.BatchNorm2d(16)\n",
        "        self.relu = nn.ReLU(inplace=True)\n",
        "        self.layer1 = self.make_layer(block, 16, layers[0])\n",
        "        self.layer2 = self.make_layer(block, 32, layers[1], 2)\n",
        "        self.layer3 = self.make_layer(block, 64, layers[2], 2)\n",
        "        self.avg_pool = nn.AvgPool2d(8)\n",
        "        self.fc = nn.Linear(64, num_classes)\n",
        "\n",
        "    def make_layer(self, block, out_channels, blocks, stride=1):\n",
        "        downsample1 = None\n",
        "        if (stride != 1) or (self.in_channels != out_channels):\n",
        "            downsample1 = nn.Sequential(\n",
        "                conv3x3(self.in_channels, out_channels, stride=stride),\n",
        "                nn.BatchNorm2d(out_channels))\n",
        "            \n",
        "        downsample2 = None\n",
        "        if (stride != 1) or (self.in_channels != out_channels):\n",
        "            downsample2 = nn.Sequential(\n",
        "                conv3x3(self.in_channels, out_channels, stride=stride),\n",
        "                nn.BatchNorm2d(out_channels))\n",
        "        layers = []\n",
        "        layers.append(block(self.in_channels, out_channels, stride, downsample1, downsample2))\n",
        "        self.in_channels = out_channels\n",
        "        for i in range(1, blocks):\n",
        "            layers.append(block(out_channels, out_channels))\n",
        "        return nn.Sequential(*layers)\n",
        "\n",
        "    def forward(self, x):\n",
        "        out = self.conv(x)\n",
        "        out = self.bn(out)\n",
        "        out = self.relu(out)\n",
        "        out = self.layer1(out)\n",
        "        out = self.layer2(out)\n",
        "        out = self.layer3(out)\n",
        "        out = self.avg_pool(out)\n",
        "        out = out.view(out.size(0), -1)\n",
        "        out = self.fc(out)\n",
        "        return out"
      ],
      "metadata": {
        "id": "aw7htvbsm9ol"
      },
      "execution_count": null,
      "outputs": []
    },
    {
      "cell_type": "code",
      "source": [
        "#tune hyperparameters\n",
        "num_epochs = 30\n",
        "learning_rate = 0.003\n",
        "model = ResNet(ResidualBlock, [2, 2, 2]).to(device)"
      ],
      "metadata": {
        "id": "HluDf3X5m9vS"
      },
      "execution_count": null,
      "outputs": []
    },
    {
      "cell_type": "code",
      "source": [
        "# Loss and optimizer\n",
        "criterion = nn.CrossEntropyLoss()\n",
        "optimizer = torch.optim.Adam(model.parameters(), lr=learning_rate)"
      ],
      "metadata": {
        "id": "tKT30W7vm9yA"
      },
      "execution_count": null,
      "outputs": []
    },
    {
      "cell_type": "code",
      "execution_count": null,
      "metadata": {
        "id": "OVAc59epClbc"
      },
      "outputs": [],
      "source": [
        "# For updating learning rate\n",
        "def update_lr(optimizer, lr):    \n",
        "    for param_group in optimizer.param_groups:\n",
        "        param_group['lr'] = lr"
      ]
    },
    {
      "cell_type": "code",
      "source": [
        "# Train the model\n",
        "total_step = len(train_loader)\n",
        "curr_lr = learning_rate\n",
        "grads_list = []\n",
        "\n",
        "for epoch in range(num_epochs):\n",
        "    for i, (images, labels) in enumerate(train_loader):\n",
        "        images = images.to(device)\n",
        "        labels = labels.to(device)\n",
        "\n",
        "        # Forward pass\n",
        "        outputs = model(images)\n",
        "        loss = criterion(outputs, labels)\n",
        "\n",
        "        # Backward and optimize\n",
        "        optimizer.zero_grad()\n",
        "        loss.backward()\n",
        "        optimizer.step()\n",
        "\n",
        "\n",
        "        if (i+1) % 100 == 0:\n",
        "            print (\"Epoch [{}/{}], Step [{}/{}] Loss: {:.4f}\"\n",
        "                   .format(epoch+1, num_epochs, i+1, total_step, loss.item()))\n",
        "    \n",
        "    \n",
        "    # Decay learning rate\n",
        "    if (epoch+1) % 20 == 0:\n",
        "        curr_lr /= 3\n",
        "        update_lr(optimizer, curr_lr)"
      ],
      "metadata": {
        "colab": {
          "base_uri": "https://localhost:8080/"
        },
        "id": "ZbZhaiupnL4M",
        "outputId": "46f87f02-a65c-4a64-c6a5-1a60649f6320"
      },
      "execution_count": null,
      "outputs": [
        {
          "output_type": "stream",
          "name": "stdout",
          "text": [
            "Epoch [1/30], Step [100/500] Loss: 1.7824\n",
            "Epoch [1/30], Step [200/500] Loss: 1.4379\n",
            "Epoch [1/30], Step [300/500] Loss: 1.5957\n",
            "Epoch [1/30], Step [400/500] Loss: 1.4454\n",
            "Epoch [1/30], Step [500/500] Loss: 1.0351\n",
            "Epoch [2/30], Step [100/500] Loss: 1.1158\n",
            "Epoch [2/30], Step [200/500] Loss: 1.1964\n",
            "Epoch [2/30], Step [300/500] Loss: 1.0401\n",
            "Epoch [2/30], Step [400/500] Loss: 1.0221\n",
            "Epoch [2/30], Step [500/500] Loss: 1.0145\n",
            "Epoch [3/30], Step [100/500] Loss: 1.0128\n",
            "Epoch [3/30], Step [200/500] Loss: 0.6689\n",
            "Epoch [3/30], Step [300/500] Loss: 0.7830\n",
            "Epoch [3/30], Step [400/500] Loss: 0.9123\n",
            "Epoch [3/30], Step [500/500] Loss: 0.8835\n",
            "Epoch [4/30], Step [100/500] Loss: 0.9827\n",
            "Epoch [4/30], Step [200/500] Loss: 0.7392\n",
            "Epoch [4/30], Step [300/500] Loss: 0.5494\n",
            "Epoch [4/30], Step [400/500] Loss: 0.5752\n",
            "Epoch [4/30], Step [500/500] Loss: 0.7904\n",
            "Epoch [5/30], Step [100/500] Loss: 0.5245\n",
            "Epoch [5/30], Step [200/500] Loss: 0.7775\n",
            "Epoch [5/30], Step [300/500] Loss: 0.7565\n",
            "Epoch [5/30], Step [400/500] Loss: 0.7318\n",
            "Epoch [5/30], Step [500/500] Loss: 0.8007\n",
            "Epoch [6/30], Step [100/500] Loss: 0.4813\n",
            "Epoch [6/30], Step [200/500] Loss: 0.5636\n",
            "Epoch [6/30], Step [300/500] Loss: 0.6025\n",
            "Epoch [6/30], Step [400/500] Loss: 0.6682\n",
            "Epoch [6/30], Step [500/500] Loss: 0.7086\n",
            "Epoch [7/30], Step [100/500] Loss: 0.5077\n",
            "Epoch [7/30], Step [200/500] Loss: 0.6422\n",
            "Epoch [7/30], Step [300/500] Loss: 0.4881\n",
            "Epoch [7/30], Step [400/500] Loss: 0.6517\n",
            "Epoch [7/30], Step [500/500] Loss: 0.4332\n",
            "Epoch [8/30], Step [100/500] Loss: 0.5425\n",
            "Epoch [8/30], Step [200/500] Loss: 0.5546\n",
            "Epoch [8/30], Step [300/500] Loss: 0.4515\n",
            "Epoch [8/30], Step [400/500] Loss: 0.4725\n",
            "Epoch [8/30], Step [500/500] Loss: 0.5541\n",
            "Epoch [9/30], Step [100/500] Loss: 0.5063\n",
            "Epoch [9/30], Step [200/500] Loss: 0.6400\n",
            "Epoch [9/30], Step [300/500] Loss: 0.4823\n",
            "Epoch [9/30], Step [400/500] Loss: 0.6249\n",
            "Epoch [9/30], Step [500/500] Loss: 0.5677\n",
            "Epoch [10/30], Step [100/500] Loss: 0.4632\n",
            "Epoch [10/30], Step [200/500] Loss: 0.5272\n",
            "Epoch [10/30], Step [300/500] Loss: 0.5499\n",
            "Epoch [10/30], Step [400/500] Loss: 0.3761\n",
            "Epoch [10/30], Step [500/500] Loss: 0.5740\n",
            "Epoch [11/30], Step [100/500] Loss: 0.5622\n",
            "Epoch [11/30], Step [200/500] Loss: 0.4876\n",
            "Epoch [11/30], Step [300/500] Loss: 0.4627\n",
            "Epoch [11/30], Step [400/500] Loss: 0.4023\n",
            "Epoch [11/30], Step [500/500] Loss: 0.5953\n",
            "Epoch [12/30], Step [100/500] Loss: 0.4584\n",
            "Epoch [12/30], Step [200/500] Loss: 0.5814\n",
            "Epoch [12/30], Step [300/500] Loss: 0.3854\n",
            "Epoch [12/30], Step [400/500] Loss: 0.4495\n",
            "Epoch [12/30], Step [500/500] Loss: 0.4311\n",
            "Epoch [13/30], Step [100/500] Loss: 0.4908\n",
            "Epoch [13/30], Step [200/500] Loss: 0.4293\n",
            "Epoch [13/30], Step [300/500] Loss: 0.3857\n",
            "Epoch [13/30], Step [400/500] Loss: 0.4270\n",
            "Epoch [13/30], Step [500/500] Loss: 0.3462\n",
            "Epoch [14/30], Step [100/500] Loss: 0.4359\n",
            "Epoch [14/30], Step [200/500] Loss: 0.3151\n",
            "Epoch [14/30], Step [300/500] Loss: 0.4293\n",
            "Epoch [14/30], Step [400/500] Loss: 0.4707\n",
            "Epoch [14/30], Step [500/500] Loss: 0.4218\n",
            "Epoch [15/30], Step [100/500] Loss: 0.4584\n",
            "Epoch [15/30], Step [200/500] Loss: 0.5100\n",
            "Epoch [15/30], Step [300/500] Loss: 0.3263\n",
            "Epoch [15/30], Step [400/500] Loss: 0.2773\n",
            "Epoch [15/30], Step [500/500] Loss: 0.3322\n",
            "Epoch [16/30], Step [100/500] Loss: 0.3185\n",
            "Epoch [16/30], Step [200/500] Loss: 0.5528\n",
            "Epoch [16/30], Step [300/500] Loss: 0.3172\n",
            "Epoch [16/30], Step [400/500] Loss: 0.4035\n",
            "Epoch [16/30], Step [500/500] Loss: 0.3594\n",
            "Epoch [17/30], Step [100/500] Loss: 0.5146\n",
            "Epoch [17/30], Step [200/500] Loss: 0.3721\n",
            "Epoch [17/30], Step [300/500] Loss: 0.4722\n",
            "Epoch [17/30], Step [400/500] Loss: 0.2555\n",
            "Epoch [17/30], Step [500/500] Loss: 0.5609\n",
            "Epoch [18/30], Step [100/500] Loss: 0.3934\n",
            "Epoch [18/30], Step [200/500] Loss: 0.3688\n",
            "Epoch [18/30], Step [300/500] Loss: 0.3501\n",
            "Epoch [18/30], Step [400/500] Loss: 0.4696\n",
            "Epoch [18/30], Step [500/500] Loss: 0.3198\n",
            "Epoch [19/30], Step [100/500] Loss: 0.3532\n",
            "Epoch [19/30], Step [200/500] Loss: 0.4502\n",
            "Epoch [19/30], Step [300/500] Loss: 0.3982\n",
            "Epoch [19/30], Step [400/500] Loss: 0.2921\n",
            "Epoch [19/30], Step [500/500] Loss: 0.3512\n",
            "Epoch [20/30], Step [100/500] Loss: 0.2973\n",
            "Epoch [20/30], Step [200/500] Loss: 0.2526\n",
            "Epoch [20/30], Step [300/500] Loss: 0.3310\n",
            "Epoch [20/30], Step [400/500] Loss: 0.3911\n",
            "Epoch [20/30], Step [500/500] Loss: 0.4880\n",
            "Epoch [21/30], Step [100/500] Loss: 0.2820\n",
            "Epoch [21/30], Step [200/500] Loss: 0.3764\n",
            "Epoch [21/30], Step [300/500] Loss: 0.3978\n",
            "Epoch [21/30], Step [400/500] Loss: 0.1641\n",
            "Epoch [21/30], Step [500/500] Loss: 0.1688\n",
            "Epoch [22/30], Step [100/500] Loss: 0.2027\n",
            "Epoch [22/30], Step [200/500] Loss: 0.1810\n",
            "Epoch [22/30], Step [300/500] Loss: 0.2485\n",
            "Epoch [22/30], Step [400/500] Loss: 0.2251\n",
            "Epoch [22/30], Step [500/500] Loss: 0.3440\n",
            "Epoch [23/30], Step [100/500] Loss: 0.2707\n",
            "Epoch [23/30], Step [200/500] Loss: 0.3037\n",
            "Epoch [23/30], Step [300/500] Loss: 0.3369\n",
            "Epoch [23/30], Step [400/500] Loss: 0.3882\n",
            "Epoch [23/30], Step [500/500] Loss: 0.2029\n",
            "Epoch [24/30], Step [100/500] Loss: 0.2782\n",
            "Epoch [24/30], Step [200/500] Loss: 0.3506\n",
            "Epoch [24/30], Step [300/500] Loss: 0.2350\n",
            "Epoch [24/30], Step [400/500] Loss: 0.1813\n",
            "Epoch [24/30], Step [500/500] Loss: 0.2625\n",
            "Epoch [25/30], Step [100/500] Loss: 0.3349\n",
            "Epoch [25/30], Step [200/500] Loss: 0.2989\n",
            "Epoch [25/30], Step [300/500] Loss: 0.1543\n",
            "Epoch [25/30], Step [400/500] Loss: 0.1976\n",
            "Epoch [25/30], Step [500/500] Loss: 0.4213\n",
            "Epoch [26/30], Step [100/500] Loss: 0.2316\n",
            "Epoch [26/30], Step [200/500] Loss: 0.3187\n",
            "Epoch [26/30], Step [300/500] Loss: 0.1342\n",
            "Epoch [26/30], Step [400/500] Loss: 0.1389\n",
            "Epoch [26/30], Step [500/500] Loss: 0.2445\n",
            "Epoch [27/30], Step [100/500] Loss: 0.2824\n",
            "Epoch [27/30], Step [200/500] Loss: 0.2132\n",
            "Epoch [27/30], Step [300/500] Loss: 0.2056\n",
            "Epoch [27/30], Step [400/500] Loss: 0.2034\n",
            "Epoch [27/30], Step [500/500] Loss: 0.1640\n",
            "Epoch [28/30], Step [100/500] Loss: 0.1695\n",
            "Epoch [28/30], Step [200/500] Loss: 0.1317\n",
            "Epoch [28/30], Step [300/500] Loss: 0.2507\n",
            "Epoch [28/30], Step [400/500] Loss: 0.2722\n",
            "Epoch [28/30], Step [500/500] Loss: 0.1547\n",
            "Epoch [29/30], Step [100/500] Loss: 0.3001\n",
            "Epoch [29/30], Step [200/500] Loss: 0.2094\n",
            "Epoch [29/30], Step [300/500] Loss: 0.2490\n",
            "Epoch [29/30], Step [400/500] Loss: 0.2397\n",
            "Epoch [29/30], Step [500/500] Loss: 0.3275\n",
            "Epoch [30/30], Step [100/500] Loss: 0.2273\n",
            "Epoch [30/30], Step [200/500] Loss: 0.2382\n",
            "Epoch [30/30], Step [300/500] Loss: 0.2069\n",
            "Epoch [30/30], Step [400/500] Loss: 0.1661\n",
            "Epoch [30/30], Step [500/500] Loss: 0.2780\n"
          ]
        }
      ]
    },
    {
      "cell_type": "code",
      "source": [
        "# Test the model\n",
        "model.eval()\n",
        "with torch.no_grad():\n",
        "    count = 0\n",
        "    total = 0\n",
        "    for images, labels in test_loader:\n",
        "        images = images.to(device)\n",
        "        labels = labels.to(device)\n",
        "        outputs = model(images)\n",
        "        _, predicted = torch.max(outputs.data, 1)\n",
        "        total += labels.size(0)\n",
        "        count += (predicted == labels).sum().item()\n",
        "\n",
        "    print('Accuracy of the model on the test images: {} %'.format(100 * count / total))"
      ],
      "metadata": {
        "colab": {
          "base_uri": "https://localhost:8080/"
        },
        "id": "kTb34lPhnL6x",
        "outputId": "d4c8603d-d425-4e1f-e470-90efead77607"
      },
      "execution_count": null,
      "outputs": [
        {
          "output_type": "stream",
          "name": "stdout",
          "text": [
            "Accuracy of the model on the test images: 87.36 %\n"
          ]
        }
      ]
    },
    {
      "cell_type": "markdown",
      "source": [
        "The results of these two models show that: after removing redisual connections, the accuracy of model indeed reducued, but very litte amount (from 87.98% to 86.29%). The reason for that might be that I only use 30 epochs for training, and that is not enough for the gradient vaishing to happen. Also, after I add one more residual connection in the residual block, the accuracy of model did increase to 87.36%, which is very close to that of original model. Still, if I change the epoch size to 100 or more, this two-connection resnet must outperform the original one, because it can better solve the problem of gradient vanishing."
      ],
      "metadata": {
        "id": "uaDVOIP69p14"
      }
    },
    {
      "cell_type": "code",
      "source": [
        ""
      ],
      "metadata": {
        "id": "Up4ELyjp_0Cr"
      },
      "execution_count": null,
      "outputs": []
    }
  ],
  "metadata": {
    "accelerator": "GPU",
    "colab": {
      "collapsed_sections": [],
      "name": "Homework 6 (Yicheng Zou)",
      "provenance": [],
      "machine_shape": "hm",
      "include_colab_link": true
    },
    "kernelspec": {
      "display_name": "Python 3",
      "name": "python3"
    },
    "widgets": {
      "application/vnd.jupyter.widget-state+json": {
        "8672797975d74839b678a6b342c8204b": {
          "model_module": "@jupyter-widgets/controls",
          "model_name": "HBoxModel",
          "model_module_version": "1.5.0",
          "state": {
            "_view_name": "HBoxView",
            "_dom_classes": [],
            "_model_name": "HBoxModel",
            "_view_module": "@jupyter-widgets/controls",
            "_model_module_version": "1.5.0",
            "_view_count": null,
            "_view_module_version": "1.5.0",
            "box_style": "",
            "layout": "IPY_MODEL_34cb9db4cd0240e0aef821d94cd5a7a3",
            "_model_module": "@jupyter-widgets/controls",
            "children": [
              "IPY_MODEL_ff4b894b3bb640b097caff3ab32f0a96",
              "IPY_MODEL_5bb90a5192e444978dfd56bf663ff02c",
              "IPY_MODEL_cf2e9b875bcb4abf8b8a2bdfdb9256fd"
            ]
          }
        },
        "34cb9db4cd0240e0aef821d94cd5a7a3": {
          "model_module": "@jupyter-widgets/base",
          "model_name": "LayoutModel",
          "model_module_version": "1.2.0",
          "state": {
            "_view_name": "LayoutView",
            "grid_template_rows": null,
            "right": null,
            "justify_content": null,
            "_view_module": "@jupyter-widgets/base",
            "overflow": null,
            "_model_module_version": "1.2.0",
            "_view_count": null,
            "flex_flow": null,
            "width": null,
            "min_width": null,
            "border": null,
            "align_items": null,
            "bottom": null,
            "_model_module": "@jupyter-widgets/base",
            "top": null,
            "grid_column": null,
            "overflow_y": null,
            "overflow_x": null,
            "grid_auto_flow": null,
            "grid_area": null,
            "grid_template_columns": null,
            "flex": null,
            "_model_name": "LayoutModel",
            "justify_items": null,
            "grid_row": null,
            "max_height": null,
            "align_content": null,
            "visibility": null,
            "align_self": null,
            "height": null,
            "min_height": null,
            "padding": null,
            "grid_auto_rows": null,
            "grid_gap": null,
            "max_width": null,
            "order": null,
            "_view_module_version": "1.2.0",
            "grid_template_areas": null,
            "object_position": null,
            "object_fit": null,
            "grid_auto_columns": null,
            "margin": null,
            "display": null,
            "left": null
          }
        },
        "ff4b894b3bb640b097caff3ab32f0a96": {
          "model_module": "@jupyter-widgets/controls",
          "model_name": "HTMLModel",
          "model_module_version": "1.5.0",
          "state": {
            "_view_name": "HTMLView",
            "style": "IPY_MODEL_63435ffc446845d29b741edaf3f1d665",
            "_dom_classes": [],
            "description": "",
            "_model_name": "HTMLModel",
            "placeholder": "​",
            "_view_module": "@jupyter-widgets/controls",
            "_model_module_version": "1.5.0",
            "value": "",
            "_view_count": null,
            "_view_module_version": "1.5.0",
            "description_tooltip": null,
            "_model_module": "@jupyter-widgets/controls",
            "layout": "IPY_MODEL_3e8548305f724d9c975e49d3a52831b0"
          }
        },
        "5bb90a5192e444978dfd56bf663ff02c": {
          "model_module": "@jupyter-widgets/controls",
          "model_name": "FloatProgressModel",
          "model_module_version": "1.5.0",
          "state": {
            "_view_name": "ProgressView",
            "style": "IPY_MODEL_2ac91c0baa5e49e18c0aee39416bb418",
            "_dom_classes": [],
            "description": "",
            "_model_name": "FloatProgressModel",
            "bar_style": "success",
            "max": 170498071,
            "_view_module": "@jupyter-widgets/controls",
            "_model_module_version": "1.5.0",
            "value": 170498071,
            "_view_count": null,
            "_view_module_version": "1.5.0",
            "orientation": "horizontal",
            "min": 0,
            "description_tooltip": null,
            "_model_module": "@jupyter-widgets/controls",
            "layout": "IPY_MODEL_02bc231d34b24487bd93940d864281a0"
          }
        },
        "cf2e9b875bcb4abf8b8a2bdfdb9256fd": {
          "model_module": "@jupyter-widgets/controls",
          "model_name": "HTMLModel",
          "model_module_version": "1.5.0",
          "state": {
            "_view_name": "HTMLView",
            "style": "IPY_MODEL_b4faa7192e1342259a63fee949848a2b",
            "_dom_classes": [],
            "description": "",
            "_model_name": "HTMLModel",
            "placeholder": "​",
            "_view_module": "@jupyter-widgets/controls",
            "_model_module_version": "1.5.0",
            "value": " 170499072/? [00:10&lt;00:00, 17477710.30it/s]",
            "_view_count": null,
            "_view_module_version": "1.5.0",
            "description_tooltip": null,
            "_model_module": "@jupyter-widgets/controls",
            "layout": "IPY_MODEL_ae6a3ecf73124e16afdd1329e91bb18d"
          }
        },
        "63435ffc446845d29b741edaf3f1d665": {
          "model_module": "@jupyter-widgets/controls",
          "model_name": "DescriptionStyleModel",
          "model_module_version": "1.5.0",
          "state": {
            "_view_name": "StyleView",
            "_model_name": "DescriptionStyleModel",
            "description_width": "",
            "_view_module": "@jupyter-widgets/base",
            "_model_module_version": "1.5.0",
            "_view_count": null,
            "_view_module_version": "1.2.0",
            "_model_module": "@jupyter-widgets/controls"
          }
        },
        "3e8548305f724d9c975e49d3a52831b0": {
          "model_module": "@jupyter-widgets/base",
          "model_name": "LayoutModel",
          "model_module_version": "1.2.0",
          "state": {
            "_view_name": "LayoutView",
            "grid_template_rows": null,
            "right": null,
            "justify_content": null,
            "_view_module": "@jupyter-widgets/base",
            "overflow": null,
            "_model_module_version": "1.2.0",
            "_view_count": null,
            "flex_flow": null,
            "width": null,
            "min_width": null,
            "border": null,
            "align_items": null,
            "bottom": null,
            "_model_module": "@jupyter-widgets/base",
            "top": null,
            "grid_column": null,
            "overflow_y": null,
            "overflow_x": null,
            "grid_auto_flow": null,
            "grid_area": null,
            "grid_template_columns": null,
            "flex": null,
            "_model_name": "LayoutModel",
            "justify_items": null,
            "grid_row": null,
            "max_height": null,
            "align_content": null,
            "visibility": null,
            "align_self": null,
            "height": null,
            "min_height": null,
            "padding": null,
            "grid_auto_rows": null,
            "grid_gap": null,
            "max_width": null,
            "order": null,
            "_view_module_version": "1.2.0",
            "grid_template_areas": null,
            "object_position": null,
            "object_fit": null,
            "grid_auto_columns": null,
            "margin": null,
            "display": null,
            "left": null
          }
        },
        "2ac91c0baa5e49e18c0aee39416bb418": {
          "model_module": "@jupyter-widgets/controls",
          "model_name": "ProgressStyleModel",
          "model_module_version": "1.5.0",
          "state": {
            "_view_name": "StyleView",
            "_model_name": "ProgressStyleModel",
            "description_width": "",
            "_view_module": "@jupyter-widgets/base",
            "_model_module_version": "1.5.0",
            "_view_count": null,
            "_view_module_version": "1.2.0",
            "bar_color": null,
            "_model_module": "@jupyter-widgets/controls"
          }
        },
        "02bc231d34b24487bd93940d864281a0": {
          "model_module": "@jupyter-widgets/base",
          "model_name": "LayoutModel",
          "model_module_version": "1.2.0",
          "state": {
            "_view_name": "LayoutView",
            "grid_template_rows": null,
            "right": null,
            "justify_content": null,
            "_view_module": "@jupyter-widgets/base",
            "overflow": null,
            "_model_module_version": "1.2.0",
            "_view_count": null,
            "flex_flow": null,
            "width": null,
            "min_width": null,
            "border": null,
            "align_items": null,
            "bottom": null,
            "_model_module": "@jupyter-widgets/base",
            "top": null,
            "grid_column": null,
            "overflow_y": null,
            "overflow_x": null,
            "grid_auto_flow": null,
            "grid_area": null,
            "grid_template_columns": null,
            "flex": null,
            "_model_name": "LayoutModel",
            "justify_items": null,
            "grid_row": null,
            "max_height": null,
            "align_content": null,
            "visibility": null,
            "align_self": null,
            "height": null,
            "min_height": null,
            "padding": null,
            "grid_auto_rows": null,
            "grid_gap": null,
            "max_width": null,
            "order": null,
            "_view_module_version": "1.2.0",
            "grid_template_areas": null,
            "object_position": null,
            "object_fit": null,
            "grid_auto_columns": null,
            "margin": null,
            "display": null,
            "left": null
          }
        },
        "b4faa7192e1342259a63fee949848a2b": {
          "model_module": "@jupyter-widgets/controls",
          "model_name": "DescriptionStyleModel",
          "model_module_version": "1.5.0",
          "state": {
            "_view_name": "StyleView",
            "_model_name": "DescriptionStyleModel",
            "description_width": "",
            "_view_module": "@jupyter-widgets/base",
            "_model_module_version": "1.5.0",
            "_view_count": null,
            "_view_module_version": "1.2.0",
            "_model_module": "@jupyter-widgets/controls"
          }
        },
        "ae6a3ecf73124e16afdd1329e91bb18d": {
          "model_module": "@jupyter-widgets/base",
          "model_name": "LayoutModel",
          "model_module_version": "1.2.0",
          "state": {
            "_view_name": "LayoutView",
            "grid_template_rows": null,
            "right": null,
            "justify_content": null,
            "_view_module": "@jupyter-widgets/base",
            "overflow": null,
            "_model_module_version": "1.2.0",
            "_view_count": null,
            "flex_flow": null,
            "width": null,
            "min_width": null,
            "border": null,
            "align_items": null,
            "bottom": null,
            "_model_module": "@jupyter-widgets/base",
            "top": null,
            "grid_column": null,
            "overflow_y": null,
            "overflow_x": null,
            "grid_auto_flow": null,
            "grid_area": null,
            "grid_template_columns": null,
            "flex": null,
            "_model_name": "LayoutModel",
            "justify_items": null,
            "grid_row": null,
            "max_height": null,
            "align_content": null,
            "visibility": null,
            "align_self": null,
            "height": null,
            "min_height": null,
            "padding": null,
            "grid_auto_rows": null,
            "grid_gap": null,
            "max_width": null,
            "order": null,
            "_view_module_version": "1.2.0",
            "grid_template_areas": null,
            "object_position": null,
            "object_fit": null,
            "grid_auto_columns": null,
            "margin": null,
            "display": null,
            "left": null
          }
        }
      }
    }
  },
  "nbformat": 4,
  "nbformat_minor": 0
}